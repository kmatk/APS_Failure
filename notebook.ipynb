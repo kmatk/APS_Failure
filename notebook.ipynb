{
 "cells": [
  {
   "cell_type": "markdown",
   "metadata": {},
   "source": [
    "# Scania APS Diagnostics\n",
    "by: [Kevin Atkinson](mailto:kmatk620@gmail.com)"
   ]
  },
  {
   "cell_type": "markdown",
   "metadata": {},
   "source": [
    "## Business Understanding"
   ]
  },
  {
   "cell_type": "markdown",
   "metadata": {},
   "source": [
    "Scania AB is a major Swedish manufacturer. We were founded in 1911. We have\n",
    "production and assembly facilities in more than 15 countries in four\n",
    "continents, including Europe, Asia, Africa and South America. We have over\n",
    "50,000 employees and in 2022 we delivered over 85,000 vehicles with net sales\n",
    "of over $16B USD.  \n",
    "\n",
    "All Heavy Scania Trucks come with an APS, or Air Pressure System. The APS\n",
    "produces high pressure air which is used in various critical functions such\n",
    "as braking and gear shifting. While undergoing maintainence it's rare that\n",
    "the APS needs to be repaired. Only 1 in 60 vehicles actually have a faulty APS.\n",
    "\n",
    "Although it's inexpensive to inspect and repair the APS, the rarity of\n",
    "failures in the system makes inspecting the APS of all trucks financially\n",
    "untenebale. However, the cost of sending a vehicle back onto the road which\n",
    "is soon to fail is approximately 50x more expensive than the inspection and\n",
    "maintenance itself. Therefore we aim to use sensor data on the vehicle to\n",
    "flag when the APS is in need of maintenance, with the overall goal of\n",
    "minimizing repair cost.\n",
    "\n",
    "In our case, false negatives cost \\\\$500, while false positives cost \\\\$10."
   ]
  },
  {
   "cell_type": "markdown",
   "metadata": {},
   "source": [
    "## Data Understanding"
   ]
  },
  {
   "cell_type": "markdown",
   "metadata": {},
   "source": [
    "Our data is composed of sensor data drawn from 76,000 vehicles in 2016.\n",
    "107 unique sensors are involved, totaling 170 columns, for a total of nearly\n",
    "13,000,000 data points. Vehicles with faulty APS are very sparse, consisting\n",
    "of less than 2% of the total vehicles in the data. This is a challenge for\n",
    "accurate modeling. Due to the proprietary nature of the APS, sensor\n",
    "information has been anonymized.\n",
    "\n",
    "Our training data has ~850,000 null values, composing approximately 8% of all values."
   ]
  },
  {
   "cell_type": "markdown",
   "metadata": {},
   "source": [
    "## Data Preparation"
   ]
  },
  {
   "cell_type": "code",
   "execution_count": 362,
   "metadata": {},
   "outputs": [],
   "source": [
    "import pandas as pd\n",
    "import numpy as np\n",
    "import matplotlib.pyplot as plt\n",
    "import seaborn as sns\n",
    "\n",
    "from sklearn.preprocessing import StandardScaler\n",
    "from sklearn.pipeline import Pipeline\n",
    "from sklearn.impute import KNNImputer\n",
    "from sklearn.model_selection import cross_validate, GridSearchCV\n",
    "from sklearn.metrics import plot_confusion_matrix, confusion_matrix, make_scorer, recall_score, precision_score, f1_score\n",
    "from imblearn.over_sampling import SMOTE\n",
    "\n",
    "import xgboost\n",
    "from sklearn.dummy import DummyClassifier\n",
    "from sklearn.ensemble import RandomForestClassifier\n",
    "from sklearn.linear_model import LogisticRegression\n",
    "from sklearn.tree import DecisionTreeClassifier"
   ]
  },
  {
   "cell_type": "code",
   "execution_count": 285,
   "metadata": {},
   "outputs": [],
   "source": [
    "# import train and test data\n",
    "aps_train = pd.read_csv('data/aps_training.csv')\n",
    "aps_test = pd.read_csv('data/aps_test.csv')"
   ]
  },
  {
   "cell_type": "code",
   "execution_count": 65,
   "metadata": {},
   "outputs": [
    {
     "name": "stdout",
     "output_type": "stream",
     "text": [
      "<class 'pandas.core.frame.DataFrame'>\n",
      "RangeIndex: 60000 entries, 0 to 59999\n",
      "Data columns (total 171 columns):\n",
      " #   Column  Dtype \n",
      "---  ------  ----- \n",
      " 0   class   int64 \n",
      " 1   aa_000  int64 \n",
      " 2   ab_000  object\n",
      " 3   ac_000  object\n",
      " 4   ad_000  object\n",
      " 5   ae_000  object\n",
      " 6   af_000  object\n",
      " 7   ag_000  object\n",
      " 8   ag_001  object\n",
      " 9   ag_002  object\n",
      " 10  ag_003  object\n",
      " 11  ag_004  object\n",
      " 12  ag_005  object\n",
      " 13  ag_006  object\n",
      " 14  ag_007  object\n",
      " 15  ag_008  object\n",
      " 16  ag_009  object\n",
      " 17  ah_000  object\n",
      " 18  ai_000  object\n",
      " 19  aj_000  object\n",
      " 20  ak_000  object\n",
      " 21  al_000  object\n",
      " 22  am_0    object\n",
      " 23  an_000  object\n",
      " 24  ao_000  object\n",
      " 25  ap_000  object\n",
      " 26  aq_000  object\n",
      " 27  ar_000  object\n",
      " 28  as_000  object\n",
      " 29  at_000  object\n",
      " 30  au_000  object\n",
      " 31  av_000  object\n",
      " 32  ax_000  object\n",
      " 33  ay_000  object\n",
      " 34  ay_001  object\n",
      " 35  ay_002  object\n",
      " 36  ay_003  object\n",
      " 37  ay_004  object\n",
      " 38  ay_005  object\n",
      " 39  ay_006  object\n",
      " 40  ay_007  object\n",
      " 41  ay_008  object\n",
      " 42  ay_009  object\n",
      " 43  az_000  object\n",
      " 44  az_001  object\n",
      " 45  az_002  object\n",
      " 46  az_003  object\n",
      " 47  az_004  object\n",
      " 48  az_005  object\n",
      " 49  az_006  object\n",
      " 50  az_007  object\n",
      " 51  az_008  object\n",
      " 52  az_009  object\n",
      " 53  ba_000  object\n",
      " 54  ba_001  object\n",
      " 55  ba_002  object\n",
      " 56  ba_003  object\n",
      " 57  ba_004  object\n",
      " 58  ba_005  object\n",
      " 59  ba_006  object\n",
      " 60  ba_007  object\n",
      " 61  ba_008  object\n",
      " 62  ba_009  object\n",
      " 63  bb_000  object\n",
      " 64  bc_000  object\n",
      " 65  bd_000  object\n",
      " 66  be_000  object\n",
      " 67  bf_000  object\n",
      " 68  bg_000  object\n",
      " 69  bh_000  object\n",
      " 70  bi_000  object\n",
      " 71  bj_000  object\n",
      " 72  bk_000  object\n",
      " 73  bl_000  object\n",
      " 74  bm_000  object\n",
      " 75  bn_000  object\n",
      " 76  bo_000  object\n",
      " 77  bp_000  object\n",
      " 78  bq_000  object\n",
      " 79  br_000  object\n",
      " 80  bs_000  object\n",
      " 81  bt_000  object\n",
      " 82  bu_000  object\n",
      " 83  bv_000  object\n",
      " 84  bx_000  object\n",
      " 85  by_000  object\n",
      " 86  bz_000  object\n",
      " 87  ca_000  object\n",
      " 88  cb_000  object\n",
      " 89  cc_000  object\n",
      " 90  cd_000  object\n",
      " 91  ce_000  object\n",
      " 92  cf_000  object\n",
      " 93  cg_000  object\n",
      " 94  ch_000  object\n",
      " 95  ci_000  object\n",
      " 96  cj_000  object\n",
      " 97  ck_000  object\n",
      " 98  cl_000  object\n",
      " 99  cm_000  object\n",
      " 100 cn_000  object\n",
      " 101 cn_001  object\n",
      " 102 cn_002  object\n",
      " 103 cn_003  object\n",
      " 104 cn_004  object\n",
      " 105 cn_005  object\n",
      " 106 cn_006  object\n",
      " 107 cn_007  object\n",
      " 108 cn_008  object\n",
      " 109 cn_009  object\n",
      " 110 co_000  object\n",
      " 111 cp_000  object\n",
      " 112 cq_000  object\n",
      " 113 cr_000  object\n",
      " 114 cs_000  object\n",
      " 115 cs_001  object\n",
      " 116 cs_002  object\n",
      " 117 cs_003  object\n",
      " 118 cs_004  object\n",
      " 119 cs_005  object\n",
      " 120 cs_006  object\n",
      " 121 cs_007  object\n",
      " 122 cs_008  object\n",
      " 123 cs_009  object\n",
      " 124 ct_000  object\n",
      " 125 cu_000  object\n",
      " 126 cv_000  object\n",
      " 127 cx_000  object\n",
      " 128 cy_000  object\n",
      " 129 cz_000  object\n",
      " 130 da_000  object\n",
      " 131 db_000  object\n",
      " 132 dc_000  object\n",
      " 133 dd_000  object\n",
      " 134 de_000  object\n",
      " 135 df_000  object\n",
      " 136 dg_000  object\n",
      " 137 dh_000  object\n",
      " 138 di_000  object\n",
      " 139 dj_000  object\n",
      " 140 dk_000  object\n",
      " 141 dl_000  object\n",
      " 142 dm_000  object\n",
      " 143 dn_000  object\n",
      " 144 do_000  object\n",
      " 145 dp_000  object\n",
      " 146 dq_000  object\n",
      " 147 dr_000  object\n",
      " 148 ds_000  object\n",
      " 149 dt_000  object\n",
      " 150 du_000  object\n",
      " 151 dv_000  object\n",
      " 152 dx_000  object\n",
      " 153 dy_000  object\n",
      " 154 dz_000  object\n",
      " 155 ea_000  object\n",
      " 156 eb_000  object\n",
      " 157 ec_00   object\n",
      " 158 ed_000  object\n",
      " 159 ee_000  object\n",
      " 160 ee_001  object\n",
      " 161 ee_002  object\n",
      " 162 ee_003  object\n",
      " 163 ee_004  object\n",
      " 164 ee_005  object\n",
      " 165 ee_006  object\n",
      " 166 ee_007  object\n",
      " 167 ee_008  object\n",
      " 168 ee_009  object\n",
      " 169 ef_000  object\n",
      " 170 eg_000  object\n",
      "dtypes: int64(2), object(169)\n",
      "memory usage: 78.3+ MB\n"
     ]
    }
   ],
   "source": [
    "aps.info(verbose=True)"
   ]
  },
  {
   "cell_type": "markdown",
   "metadata": {},
   "source": [
    "We see we have almost exclusively object columns. We'll need to convert these to numerics to be modeled."
   ]
  },
  {
   "cell_type": "code",
   "execution_count": 66,
   "metadata": {},
   "outputs": [
    {
     "data": {
      "text/plain": [
       "neg    15625\n",
       "pos      375\n",
       "Name: class, dtype: int64"
      ]
     },
     "execution_count": 66,
     "metadata": {},
     "output_type": "execute_result"
    }
   ],
   "source": [
    "aps_test['class'].value_counts()"
   ]
  },
  {
   "cell_type": "code",
   "execution_count": 78,
   "metadata": {
    "scrolled": true
   },
   "outputs": [
    {
     "data": {
      "text/plain": [
       "0         59133\n",
       "2             9\n",
       "11912         5\n",
       "16186         5\n",
       "4             5\n",
       "          ...  \n",
       "193310        1\n",
       "60334         1\n",
       "246           1\n",
       "2514          1\n",
       "36            1\n",
       "Name: ag_000, Length: 154, dtype: int64"
      ]
     },
     "execution_count": 78,
     "metadata": {},
     "output_type": "execute_result"
    }
   ],
   "source": [
    "aps['ag_000'].value_counts()"
   ]
  },
  {
   "cell_type": "markdown",
   "metadata": {},
   "source": [
    "Let's first get an idea of how many null values we have in total."
   ]
  },
  {
   "cell_type": "code",
   "execution_count": 266,
   "metadata": {},
   "outputs": [
    {
     "data": {
      "text/plain": [
       "0"
      ]
     },
     "execution_count": 266,
     "metadata": {},
     "output_type": "execute_result"
    }
   ],
   "source": [
    "total_na = 0\n",
    "for c in aps.columns:\n",
    "    total_na += len(aps[c].loc[aps[c] == 'na'])\n",
    "total_na"
   ]
  },
  {
   "cell_type": "markdown",
   "metadata": {},
   "source": [
    "Our null values are currently formatted as strings of value 'na'. We'll need to convert these to np.nan in order to convert the datatypes of the columns to numerics.\n",
    "\n",
    "Our target variables are currently strings of values 'pos' for positive class and 'neg' for negative class. We need to convert those to 1 for positive and 0 for negative.\n",
    "\n",
    "In order to accomplish this we can create two functions. We can use these later in our Pipelines to streamline the process of running new data through our model."
   ]
  },
  {
   "cell_type": "code",
   "execution_count": 292,
   "metadata": {},
   "outputs": [],
   "source": [
    "# Function that takes a DataFrame as input, and outputs the same DataFrame but with nulls removed\n",
    "def remove_na(df):\n",
    "    df_copy = df.copy()\n",
    "    for c in df_copy.columns:\n",
    "        df_copy[c] = df_copy[c].map(lambda x: np.nan if x == 'na' else x)\n",
    "    return df_copy\n",
    "\n",
    "# Function that that takes a Series as input and converts 'pos' and 'neg' strings to 1s and 0s\n",
    "def convert_posneg(series):\n",
    "    return series.map(lambda x: 0 if x == 'neg' else 1)"
   ]
  },
  {
   "cell_type": "markdown",
   "metadata": {},
   "source": [
    "Let's use our function to convert our target to binary values."
   ]
  },
  {
   "cell_type": "code",
   "execution_count": 287,
   "metadata": {},
   "outputs": [],
   "source": [
    "aps_train['class'] = convert_posneg(aps_train['class'])\n",
    "aps_test['class'] = convert_posneg(aps_test['class'])"
   ]
  },
  {
   "cell_type": "markdown",
   "metadata": {},
   "source": [
    "Now, let's convert these 'na' strings to np.nan."
   ]
  },
  {
   "cell_type": "code",
   "execution_count": 293,
   "metadata": {},
   "outputs": [],
   "source": [
    "aps_train = remove_na(aps_train)\n",
    "aps_test = remove_na(aps_test)"
   ]
  },
  {
   "cell_type": "code",
   "execution_count": 77,
   "metadata": {},
   "outputs": [],
   "source": [
    "aps['class'] = aps['class'].map(lambda x: 0 if x == 'neg' else 1)\n",
    "aps_test['class'] = aps_test['class'].map(lambda x: 0 if x == 'neg' else 1)"
   ]
  },
  {
   "cell_type": "code",
   "execution_count": 80,
   "metadata": {},
   "outputs": [],
   "source": [
    "# convert training nulls to np.nan\n",
    "for c in aps.columns:\n",
    "    aps[c] = aps[c].map(lambda x: np.nan if x == 'na' else x)\n",
    "\n",
    "# convert test nulls to np.nan\n",
    "for c in aps.columns:\n",
    "    aps_test[c] = aps_test[c].map(lambda x: np.nan if x == 'na' else x)"
   ]
  },
  {
   "cell_type": "markdown",
   "metadata": {},
   "source": [
    "Now that our nulls are formatted properly, let's get an idea of how they're distributed within our data by creating a histogram of total nulls within each row and column."
   ]
  },
  {
   "cell_type": "code",
   "execution_count": 323,
   "metadata": {
    "scrolled": false
   },
   "outputs": [
    {
     "data": {
      "image/png": "[encoded data removed]",
      "text/plain": [
       "<Figure size 576x576 with 1 Axes>"
      ]
     },
     "metadata": {
      "needs_background": "light"
     },
     "output_type": "display_data"
    }
   ],
   "source": [
    "# na_in_rows = []\n",
    "# for r in range(len(aps['class'])):\n",
    "#     na_in_rows.append(aps.iloc[r].isna().sum())\n",
    "ax = plt.axes()\n",
    "ax.set_xlabel('Quantity of Nulls')\n",
    "ax.set_ylabel('Number of Rows')\n",
    "ax.set_title('Amount of Nulls by Row')\n",
    "pd.Series(na_in_rows).hist(bins=30, figsize=(8,8));"
   ]
  },
  {
   "cell_type": "code",
   "execution_count": 326,
   "metadata": {},
   "outputs": [
    {
     "data": {
      "image/png": "[encoded data removed]",
      "text/plain": [
       "<Figure size 576x576 with 1 Axes>"
      ]
     },
     "metadata": {
      "needs_background": "light"
     },
     "output_type": "display_data"
    }
   ],
   "source": [
    "na_in_col = []\n",
    "for c in aps.columns:\n",
    "    na_in_col.append(aps[c].isna().sum())\n",
    "ax = plt.axes()\n",
    "ax.set_xlabel('Quantity of Nulls')\n",
    "ax.set_ylabel('Number of Columns')\n",
    "ax.set_title('Amount of Nulls by Column')\n",
    "pd.Series(na_in_col).hist(bins=30, figsize=(8,8));"
   ]
  },
  {
   "cell_type": "markdown",
   "metadata": {},
   "source": [
    "It's clear that most of our columns have little to no nulls. However, there are many rows with large amounts of null values. We could drastically reduce our null counts by dropping these rows. In practice, this won't make much sense. Each sample is data pulled from a vehicle undergoing maintenance. It's important that we can actually model the data drawn from any vehicle that enters our shop.\n",
    "\n",
    "In the case of a vehicle whose APS sensors are outputting many null values, you might say we can just inspect their APS by default. This, however, is incorrect, as the pool of rows with many null values is much larger than the pool of our positive class. As a result, we most determine a method for modeling samples with many null values. \n",
    "\n",
    "To solve this problem we'll utilize a KNNImputer, or K-Nearest Neighbors Imputer. This imputer will fill in null values based on their proximity to other values in n-dimensional space."
   ]
  },
  {
   "cell_type": "markdown",
   "metadata": {},
   "source": [
    "We'll first split our target from our features prior to imputing nulls."
   ]
  },
  {
   "cell_type": "code",
   "execution_count": 73,
   "metadata": {},
   "outputs": [],
   "source": [
    "X_train = aps_train[aps_train.columns[1:]]\n",
    "y_train = aps_train['class']\n",
    "X_test = aps_test[aps_test.columns[1:]]\n",
    "y_test = aps_test['class']"
   ]
  },
  {
   "cell_type": "markdown",
   "metadata": {},
   "source": [
    "Now let's instantiate and use our KNNImputer."
   ]
  },
  {
   "cell_type": "code",
   "execution_count": null,
   "metadata": {},
   "outputs": [],
   "source": [
    "imputer = KNNImputer(n_neighbors=3)\n",
    "X_train_imp = pd.DataFrame(imputer.fit_transform(X_train), columns= X_train.columns)\n",
    "X_test_imp = pd.DataFrame(imputer.transform(X_test), columns=X_test.columns)"
   ]
  },
  {
   "cell_type": "markdown",
   "metadata": {},
   "source": [
    "This imputer takes a while to run, so let's save off this data to a CSV so we can load it back in without having to run the imputation whenever we open the notebook"
   ]
  },
  {
   "cell_type": "code",
   "execution_count": null,
   "metadata": {},
   "outputs": [],
   "source": [
    "X_train_imp.to_csv('data/X_train_imp.csv', index=False)\n",
    "y_train.to_csv('data/y_train.csv', index=False)\n",
    "\n",
    "X_test_imp.to_csv('data/X_test_imp.csv', index=False)\n",
    "y_test.to_csv('data/y_test.csv', index=False)"
   ]
  },
  {
   "cell_type": "markdown",
   "metadata": {},
   "source": [
    "And let's create the code to load in these CSVs back to DataFrames"
   ]
  },
  {
   "cell_type": "code",
   "execution_count": 81,
   "metadata": {},
   "outputs": [],
   "source": [
    "X_train_imp = pd.read_csv('data/X_train_imp.csv')\n",
    "y_train = pd.read_csv('data/y_train.csv')\n",
    "\n",
    "X_test_imp = pd.read_csv('data/X_test_imp.csv')\n",
    "y_test = pd.read_csv('data/y_test.csv')"
   ]
  },
  {
   "cell_type": "markdown",
   "metadata": {},
   "source": [
    "Our data contains columns which represent binned histogram data. There are 7 of these histograms, comprising 10 columns each of our data."
   ]
  },
  {
   "cell_type": "markdown",
   "metadata": {},
   "source": [
    "Columns with historgram bins are:  \n",
    "ag_000 - ag_009 (  7- 16)  \n",
    "ay_000 - ay_009 ( 33- 42)  \n",
    "az_000 - az_009 ( 43- 52)  \n",
    "ba_000 - ba_009 ( 53- 62)  \n",
    "cn_000 - cn_009 (100-109)  \n",
    "cs_001 - cs_009 (114-123)  \n",
    "ee_000 - ee_009 (159-168)  "
   ]
  },
  {
   "cell_type": "markdown",
   "metadata": {},
   "source": [
    "For next steps, we could explore different ways of capturing the 'familiarity', for lack of a better term, these columns have with one another in order to improve the recall and precision of our model."
   ]
  },
  {
   "cell_type": "markdown",
   "metadata": {},
   "source": [
    "For the last step in our Data Preparation, let's scale the data."
   ]
  },
  {
   "cell_type": "code",
   "execution_count": 82,
   "metadata": {},
   "outputs": [],
   "source": [
    "scaler = StandardScaler()\n",
    "X_train_imp_sc = scaler.fit_transform(X_train_imp)\n",
    "X_test_imp_sc = scaler.transform(X_test_imp)"
   ]
  },
  {
   "cell_type": "markdown",
   "metadata": {},
   "source": [
    "## Modeling"
   ]
  },
  {
   "cell_type": "markdown",
   "metadata": {},
   "source": [
    "Since we know the cost of our Type I errors is \\\\$10, and the cost of our Type II errors is \\\\$500, we can create a custom scoring function order to evaluate the errors of our models in dollar amounts, and use that to minimize the total cost of our model."
   ]
  },
  {
   "cell_type": "markdown",
   "metadata": {},
   "source": [
    "### Custom cost function"
   ]
  },
  {
   "cell_type": "code",
   "execution_count": 165,
   "metadata": {},
   "outputs": [],
   "source": [
    "def cost_loss(y, y_pred):\n",
    "    cm = confusion_matrix(y, y_pred).ravel().tolist()\n",
    "    return (cm[0]*0) + (cm[1]*10) + (cm[2]*500) + (cm[3]*0)\n",
    "\n",
    "custom_cost = make_scorer(cost_loss, greater_is_better=False)"
   ]
  },
  {
   "cell_type": "markdown",
   "metadata": {},
   "source": [
    "### Dummy Model"
   ]
  },
  {
   "cell_type": "markdown",
   "metadata": {},
   "source": [
    "Let's start with a simple Dummy Model to establish a baseline."
   ]
  },
  {
   "cell_type": "code",
   "execution_count": 137,
   "metadata": {},
   "outputs": [],
   "source": [
    "dummy = DummyClassifier(strategy='most_frequent')\n",
    "dummy.fit(X_train_imp_sc, y_train)\n",
    "y_preds_dummy = dummy.predict(X_train_imp_sc)"
   ]
  },
  {
   "cell_type": "code",
   "execution_count": 138,
   "metadata": {},
   "outputs": [
    {
     "data": {
      "text/plain": [
       "0.0"
      ]
     },
     "execution_count": 138,
     "metadata": {},
     "output_type": "execute_result"
    }
   ],
   "source": [
    "recall_score(y_train, y_preds_dummy)"
   ]
  },
  {
   "cell_type": "code",
   "execution_count": 140,
   "metadata": {},
   "outputs": [
    {
     "name": "stdout",
     "output_type": "stream",
     "text": [
      "500000\n"
     ]
    },
    {
     "data": {
      "text/plain": [
       "500000"
      ]
     },
     "execution_count": 140,
     "metadata": {},
     "output_type": "execute_result"
    }
   ],
   "source": [
    "cost_loss(y_train, y_preds_dummy)"
   ]
  },
  {
   "cell_type": "code",
   "execution_count": 171,
   "metadata": {},
   "outputs": [
    {
     "data": {
      "text/plain": [
       "8.333333333333334"
      ]
     },
     "execution_count": 171,
     "metadata": {},
     "output_type": "execute_result"
    }
   ],
   "source": [
    "500000/60000"
   ]
  },
  {
   "cell_type": "markdown",
   "metadata": {},
   "source": [
    "For a total of \\\\$8.33 per vehicle."
   ]
  },
  {
   "cell_type": "markdown",
   "metadata": {},
   "source": [
    "Let's try another Dummy Model, but this time predict Class 1 rather than Class 0."
   ]
  },
  {
   "cell_type": "code",
   "execution_count": 141,
   "metadata": {},
   "outputs": [],
   "source": [
    "dummy2 = DummyClassifier(strategy='constant', constant=1)\n",
    "dummy2.fit(X_train_imp_sc, y_train)\n",
    "y_preds_dummy2 = dummy2.predict(X_train_imp_sc)"
   ]
  },
  {
   "cell_type": "code",
   "execution_count": 142,
   "metadata": {},
   "outputs": [
    {
     "data": {
      "text/plain": [
       "1.0"
      ]
     },
     "execution_count": 142,
     "metadata": {},
     "output_type": "execute_result"
    }
   ],
   "source": [
    "recall_score(y_train, y_preds_dummy2)"
   ]
  },
  {
   "cell_type": "code",
   "execution_count": 143,
   "metadata": {},
   "outputs": [
    {
     "name": "stdout",
     "output_type": "stream",
     "text": [
      "590000\n"
     ]
    },
    {
     "data": {
      "text/plain": [
       "590000"
      ]
     },
     "execution_count": 143,
     "metadata": {},
     "output_type": "execute_result"
    }
   ],
   "source": [
    "cost_loss(y_train, y_preds_dummy2)"
   ]
  },
  {
   "cell_type": "code",
   "execution_count": 172,
   "metadata": {},
   "outputs": [
    {
     "data": {
      "text/plain": [
       "9.833333333333334"
      ]
     },
     "execution_count": 172,
     "metadata": {},
     "output_type": "execute_result"
    }
   ],
   "source": [
    "590000/60000"
   ]
  },
  {
   "cell_type": "markdown",
   "metadata": {},
   "source": [
    "For a total of \\\\$9.83 per vehicle"
   ]
  },
  {
   "cell_type": "markdown",
   "metadata": {},
   "source": [
    "### Logistic Regression"
   ]
  },
  {
   "cell_type": "markdown",
   "metadata": {},
   "source": [
    "Now that we have our baseline, of which the results aren't stellar, we can attempt to beat it using our modeling techniques."
   ]
  },
  {
   "cell_type": "markdown",
   "metadata": {},
   "source": [
    "Let's try to beat our Dummy Model with a simple Logistic Regression."
   ]
  },
  {
   "cell_type": "code",
   "execution_count": 144,
   "metadata": {},
   "outputs": [],
   "source": [
    "logreg = LogisticRegression(random_state=2023, class_weight='balanced', max_iter=1000)"
   ]
  },
  {
   "cell_type": "code",
   "execution_count": 145,
   "metadata": {
    "scrolled": true
   },
   "outputs": [
    {
     "data": {
      "text/plain": [
       "LogisticRegression(class_weight='balanced', max_iter=1000, random_state=2023)"
      ]
     },
     "execution_count": 145,
     "metadata": {},
     "output_type": "execute_result"
    }
   ],
   "source": [
    "logreg.fit(X_train_imp_sc, y_train.values.ravel())"
   ]
  },
  {
   "cell_type": "code",
   "execution_count": 223,
   "metadata": {},
   "outputs": [],
   "source": [
    "y_preds_logreg = logreg.predict(X_train_imp_sc)"
   ]
  },
  {
   "cell_type": "code",
   "execution_count": 166,
   "metadata": {
    "scrolled": true
   },
   "outputs": [
    {
     "data": {
      "text/plain": [
       "0.906"
      ]
     },
     "execution_count": 166,
     "metadata": {},
     "output_type": "execute_result"
    }
   ],
   "source": [
    "cross_validate(logreg, X_train_imp_sc, y_train.values.ravel(), scoring='recall')['test_score'].mean()"
   ]
  },
  {
   "cell_type": "code",
   "execution_count": 224,
   "metadata": {
    "scrolled": true
   },
   "outputs": [
    {
     "data": {
      "text/plain": [
       "0.959"
      ]
     },
     "execution_count": 224,
     "metadata": {},
     "output_type": "execute_result"
    }
   ],
   "source": [
    "recall_score(y_train, y_preds_logreg)"
   ]
  },
  {
   "cell_type": "code",
   "execution_count": 167,
   "metadata": {
    "scrolled": true
   },
   "outputs": [
    {
     "data": {
      "text/plain": [
       "12402.0"
      ]
     },
     "execution_count": 167,
     "metadata": {},
     "output_type": "execute_result"
    }
   ],
   "source": [
    "cross_validate(logreg, X_train_imp_sc, y_train.values.ravel(), scoring=custom_cost)['test_score'].mean() * -1"
   ]
  },
  {
   "cell_type": "code",
   "execution_count": 225,
   "metadata": {
    "scrolled": true
   },
   "outputs": [
    {
     "data": {
      "text/plain": [
       "35610"
      ]
     },
     "execution_count": 225,
     "metadata": {},
     "output_type": "execute_result"
    }
   ],
   "source": [
    "cost_loss(y_train, y_preds_logreg)"
   ]
  },
  {
   "cell_type": "markdown",
   "metadata": {},
   "source": [
    "This equates to a total of \\\\$0.59 per vehicle. Much better than our Dummy Model, however, still overfit."
   ]
  },
  {
   "cell_type": "markdown",
   "metadata": {},
   "source": [
    "Note that although our model is overfit, our total cost is higher on our training set because there are more samples within it. Therefore this is not an apples to apples comparison. We can see a normalized cost by dividing each value by the number of vehicles within each set."
   ]
  },
  {
   "cell_type": "code",
   "execution_count": 164,
   "metadata": {},
   "outputs": [
    {
     "data": {
      "image/png": "[encoded data removed]",
      "text/plain": [
       "<Figure size 432x288 with 2 Axes>"
      ]
     },
     "metadata": {
      "needs_background": "light"
     },
     "output_type": "display_data"
    }
   ],
   "source": [
    "plot_confusion_matrix(logreg, X_train_imp_sc, y_train);"
   ]
  },
  {
   "cell_type": "markdown",
   "metadata": {},
   "source": [
    "### Decision Tree"
   ]
  },
  {
   "cell_type": "markdown",
   "metadata": {},
   "source": [
    "Now let's see if a Decision Tree will do a better job at classifying our data."
   ]
  },
  {
   "cell_type": "code",
   "execution_count": 227,
   "metadata": {},
   "outputs": [
    {
     "data": {
      "text/plain": [
       "DecisionTreeClassifier(random_state=2023)"
      ]
     },
     "execution_count": 227,
     "metadata": {},
     "output_type": "execute_result"
    }
   ],
   "source": [
    "dt = DecisionTreeClassifier(random_state=2023)\n",
    "dt.fit(X_train_imp_sc, y_train)"
   ]
  },
  {
   "cell_type": "code",
   "execution_count": 228,
   "metadata": {},
   "outputs": [],
   "source": [
    "y_preds_dt = dt.predict(X_train_imp_sc)"
   ]
  },
  {
   "cell_type": "code",
   "execution_count": 229,
   "metadata": {},
   "outputs": [
    {
     "data": {
      "text/plain": [
       "0.7230000000000001"
      ]
     },
     "execution_count": 229,
     "metadata": {},
     "output_type": "execute_result"
    }
   ],
   "source": [
    "cross_validate(dt, X_train_imp_sc, y_train.values.ravel(), scoring='recall')['test_score'].mean()"
   ]
  },
  {
   "cell_type": "code",
   "execution_count": 230,
   "metadata": {},
   "outputs": [
    {
     "data": {
      "text/plain": [
       "1.0"
      ]
     },
     "execution_count": 230,
     "metadata": {},
     "output_type": "execute_result"
    }
   ],
   "source": [
    "recall_score(y_train, y_preds_dt)"
   ]
  },
  {
   "cell_type": "code",
   "execution_count": 231,
   "metadata": {
    "scrolled": true
   },
   "outputs": [
    {
     "data": {
      "text/plain": [
       "28336.0"
      ]
     },
     "execution_count": 231,
     "metadata": {},
     "output_type": "execute_result"
    }
   ],
   "source": [
    "cross_validate(dt, X_train_imp_sc, y_train.values.ravel(), scoring=custom_cost)['test_score'].mean() * -1"
   ]
  },
  {
   "cell_type": "code",
   "execution_count": 232,
   "metadata": {
    "scrolled": true
   },
   "outputs": [
    {
     "data": {
      "text/plain": [
       "0"
      ]
     },
     "execution_count": 232,
     "metadata": {},
     "output_type": "execute_result"
    }
   ],
   "source": [
    "cost_loss(y_train, y_preds_dt)"
   ]
  },
  {
   "cell_type": "code",
   "execution_count": 233,
   "metadata": {},
   "outputs": [
    {
     "data": {
      "text/plain": [
       "1.0"
      ]
     },
     "metadata": {},
     "output_type": "display_data"
    },
    {
     "data": {
      "text/plain": [
       "1.0"
      ]
     },
     "metadata": {},
     "output_type": "display_data"
    },
    {
     "data": {
      "text/plain": [
       "1.0"
      ]
     },
     "metadata": {},
     "output_type": "display_data"
    }
   ],
   "source": [
    "display(precision_score(y_train, y_preds_dt))\n",
    "display(recall_score(y_train, y_preds_dt))\n",
    "display(f1_score(y_train, y_preds_dt))"
   ]
  },
  {
   "cell_type": "code",
   "execution_count": 207,
   "metadata": {
    "scrolled": true
   },
   "outputs": [
    {
     "data": {
      "image/png": "[encoded data removed]",
      "text/plain": [
       "<Figure size 432x288 with 2 Axes>"
      ]
     },
     "metadata": {
      "needs_background": "light"
     },
     "output_type": "display_data"
    }
   ],
   "source": [
    "plot_confusion_matrix(dt, X_train_imp_sc, y_train);"
   ]
  },
  {
   "cell_type": "markdown",
   "metadata": {},
   "source": [
    "As expected, this decision tree is extremely overfit on training data, but does quite poorly on cross validation. Let's see if we can modify the hyperparameters to get a model with better cross validation scores."
   ]
  },
  {
   "cell_type": "markdown",
   "metadata": {},
   "source": [
    "### Decision Tree with tuned hyperparameters"
   ]
  },
  {
   "cell_type": "code",
   "execution_count": 218,
   "metadata": {},
   "outputs": [
    {
     "data": {
      "text/plain": [
       "DecisionTreeClassifier(class_weight='balanced', max_depth=6, random_state=2023)"
      ]
     },
     "execution_count": 218,
     "metadata": {},
     "output_type": "execute_result"
    }
   ],
   "source": [
    "dt2 = DecisionTreeClassifier(random_state=2023, max_depth=6, class_weight='balanced')\n",
    "dt2.fit(X_train_imp_sc, y_train)"
   ]
  },
  {
   "cell_type": "code",
   "execution_count": 234,
   "metadata": {},
   "outputs": [],
   "source": [
    "y_preds_dt2 = dt2.predict(X_train_imp_sc)"
   ]
  },
  {
   "cell_type": "code",
   "execution_count": 235,
   "metadata": {},
   "outputs": [
    {
     "data": {
      "text/plain": [
       "0.917"
      ]
     },
     "execution_count": 235,
     "metadata": {},
     "output_type": "execute_result"
    }
   ],
   "source": [
    "cross_validate(dt2, X_train_imp_sc, y_train.values.ravel(), scoring='recall')['test_score'].mean()"
   ]
  },
  {
   "cell_type": "code",
   "execution_count": 236,
   "metadata": {},
   "outputs": [
    {
     "data": {
      "text/plain": [
       "0.983"
      ]
     },
     "execution_count": 236,
     "metadata": {},
     "output_type": "execute_result"
    }
   ],
   "source": [
    "recall_score(y_train, y_preds_dt2)"
   ]
  },
  {
   "cell_type": "code",
   "execution_count": 237,
   "metadata": {
    "scrolled": true
   },
   "outputs": [
    {
     "data": {
      "text/plain": [
       "13122.0"
      ]
     },
     "execution_count": 237,
     "metadata": {},
     "output_type": "execute_result"
    }
   ],
   "source": [
    "cross_validate(dt2, X_train_imp_sc, y_train.values.ravel(), scoring=custom_cost)['test_score'].mean() * -1"
   ]
  },
  {
   "cell_type": "code",
   "execution_count": 238,
   "metadata": {
    "scrolled": true
   },
   "outputs": [
    {
     "data": {
      "text/plain": [
       "29710"
      ]
     },
     "execution_count": 238,
     "metadata": {},
     "output_type": "execute_result"
    }
   ],
   "source": [
    "cost_loss(y_train, y_preds_dt2)"
   ]
  },
  {
   "cell_type": "code",
   "execution_count": 241,
   "metadata": {},
   "outputs": [
    {
     "data": {
      "text/plain": [
       "0.3166881443298969"
      ]
     },
     "metadata": {},
     "output_type": "display_data"
    },
    {
     "data": {
      "text/plain": [
       "0.983"
      ]
     },
     "metadata": {},
     "output_type": "display_data"
    },
    {
     "data": {
      "text/plain": [
       "0.47904483430799216"
      ]
     },
     "metadata": {},
     "output_type": "display_data"
    }
   ],
   "source": [
    "display(precision_score(y_train, y_preds_dt2))\n",
    "display(recall_score(y_train, y_preds_dt2))\n",
    "display(f1_score(y_train, y_preds_dt2))"
   ]
  },
  {
   "cell_type": "code",
   "execution_count": 353,
   "metadata": {},
   "outputs": [
    {
     "data": {
      "image/png": "[encoded data removed]",
      "text/plain": [
       "<Figure size 432x288 with 2 Axes>"
      ]
     },
     "metadata": {
      "needs_background": "light"
     },
     "output_type": "display_data"
    }
   ],
   "source": [
    "plot_confusion_matrix(dt2, X_train_imp_sc, y_train);"
   ]
  },
  {
   "cell_type": "markdown",
   "metadata": {},
   "source": [
    "Our model is still quite overfit as compared to training data, however is doing much better in terms of cross validated recall and custom cost scores. So far, this seems to be our best model at predicting unseen data."
   ]
  },
  {
   "cell_type": "markdown",
   "metadata": {},
   "source": [
    "### SMOTE"
   ]
  },
  {
   "cell_type": "markdown",
   "metadata": {},
   "source": [
    "Now let's attempt to account for the massive class imbalance by using SMOTE to generate snythetic data points in order to help our model better predict the minority class."
   ]
  },
  {
   "cell_type": "code",
   "execution_count": 243,
   "metadata": {},
   "outputs": [],
   "source": [
    "sm = SMOTE(random_state=2023, sampling_strategy=0.25)\n",
    "X_train_imp_sc_sm, y_train_sm = sm.fit_resample(X_train_imp_sc, y_train)"
   ]
  },
  {
   "cell_type": "code",
   "execution_count": 259,
   "metadata": {},
   "outputs": [
    {
     "data": {
      "text/plain": [
       "LogisticRegression(max_iter=1000, random_state=42)"
      ]
     },
     "execution_count": 259,
     "metadata": {},
     "output_type": "execute_result"
    }
   ],
   "source": [
    "logreg2 = LogisticRegression(random_state=42, max_iter=1000)\n",
    "logreg2.fit(X_train_imp_sc_sm, y_train_sm.values.ravel())"
   ]
  },
  {
   "cell_type": "code",
   "execution_count": 260,
   "metadata": {},
   "outputs": [],
   "source": [
    "y_preds_logreg2 = logreg2.predict(X_train_imp_sc_sm)"
   ]
  },
  {
   "cell_type": "code",
   "execution_count": 250,
   "metadata": {
    "scrolled": true
   },
   "outputs": [
    {
     "data": {
      "text/plain": [
       "0.9025084745762711"
      ]
     },
     "execution_count": 250,
     "metadata": {},
     "output_type": "execute_result"
    }
   ],
   "source": [
    "cross_validate(logreg2, X_train_imp_sc_sm, y_train_sm.values.ravel(), scoring='recall')['test_score'].mean()"
   ]
  },
  {
   "cell_type": "code",
   "execution_count": 261,
   "metadata": {
    "scrolled": true
   },
   "outputs": [
    {
     "data": {
      "text/plain": [
       "0.9046779661016949"
      ]
     },
     "execution_count": 261,
     "metadata": {},
     "output_type": "execute_result"
    }
   ],
   "source": [
    "recall_score(y_train_sm, y_preds_logreg2)"
   ]
  },
  {
   "cell_type": "code",
   "execution_count": 255,
   "metadata": {
    "scrolled": true
   },
   "outputs": [
    {
     "data": {
      "text/plain": [
       "145228.0"
      ]
     },
     "execution_count": 255,
     "metadata": {},
     "output_type": "execute_result"
    }
   ],
   "source": [
    "cross_validate(logreg2, X_train_imp_sc_sm, y_train_sm.values.ravel(), scoring=custom_cost)['test_score'].mean() * -1"
   ]
  },
  {
   "cell_type": "code",
   "execution_count": 262,
   "metadata": {
    "scrolled": true
   },
   "outputs": [
    {
     "data": {
      "text/plain": [
       "709800"
      ]
     },
     "execution_count": 262,
     "metadata": {},
     "output_type": "execute_result"
    }
   ],
   "source": [
    "cost_loss(y_train_sm, y_preds_logreg2)"
   ]
  },
  {
   "cell_type": "code",
   "execution_count": 263,
   "metadata": {},
   "outputs": [
    {
     "data": {
      "image/png": "[encoded data removed]",
      "text/plain": [
       "<Figure size 432x288 with 2 Axes>"
      ]
     },
     "metadata": {
      "needs_background": "light"
     },
     "output_type": "display_data"
    }
   ],
   "source": [
    "plot_confusion_matrix(logreg2, X_train_imp_sc_sm, y_train_sm);"
   ]
  },
  {
   "cell_type": "markdown",
   "metadata": {},
   "source": [
    "This came out awful! SMOTEing this data was NOT effective!"
   ]
  },
  {
   "cell_type": "markdown",
   "metadata": {},
   "source": [
    "### Random Forest"
   ]
  },
  {
   "cell_type": "markdown",
   "metadata": {},
   "source": [
    "We're going to utilize our Grid Search to optimize this Random Forest with the hopes of creating the best model possible."
   ]
  },
  {
   "cell_type": "code",
   "execution_count": 79,
   "metadata": {},
   "outputs": [],
   "source": [
    "params = {}\n",
    "params['criterion'] = ['gini', 'entropy']\n",
    "params['max_depth'] = [None] + list(np.arange(1, 101, 10))\n",
    "params['min_samples_split'] = np.arange(1, 21, 4)\n",
    "params['max_features'] = ['sqrt', 'log2', None]"
   ]
  },
  {
   "cell_type": "code",
   "execution_count": 80,
   "metadata": {},
   "outputs": [],
   "source": [
    "rfc = RandomForestClassifier()"
   ]
  },
  {
   "cell_type": "code",
   "execution_count": 81,
   "metadata": {},
   "outputs": [],
   "source": [
    "gs = GridSearchCV(estimator=rfc, param_grid=params, cv=5, n_jobs=-1, verbose=3, scoring='recall')"
   ]
  },
  {
   "cell_type": "code",
   "execution_count": 82,
   "metadata": {
    "scrolled": false
   },
   "outputs": [
    {
     "name": "stdout",
     "output_type": "stream",
     "text": [
      "Fitting 5 folds for each of 330 candidates, totalling 1650 fits\n"
     ]
    },
    {
     "name": "stderr",
     "output_type": "stream",
     "text": [
      "[Parallel(n_jobs=-1)]: Using backend LokyBackend with 12 concurrent workers.\n",
      "[Parallel(n_jobs=-1)]: Done   8 tasks      | elapsed:   50.5s\n",
      "[Parallel(n_jobs=-1)]: Done 104 tasks      | elapsed: 18.1min\n",
      "[Parallel(n_jobs=-1)]: Done 264 tasks      | elapsed: 41.8min\n",
      "[Parallel(n_jobs=-1)]: Done 488 tasks      | elapsed: 117.7min\n",
      "[Parallel(n_jobs=-1)]: Done 776 tasks      | elapsed: 222.4min\n",
      "[Parallel(n_jobs=-1)]: Done 1128 tasks      | elapsed: 282.1min\n",
      "[Parallel(n_jobs=-1)]: Done 1544 tasks      | elapsed: 336.9min\n",
      "[Parallel(n_jobs=-1)]: Done 1650 out of 1650 | elapsed: 358.3min finished\n",
      "C:\\Users\\Kevin\\anaconda3\\envs\\learn-env\\lib\\site-packages\\sklearn\\model_selection\\_search.py:765: DataConversionWarning: A column-vector y was passed when a 1d array was expected. Please change the shape of y to (n_samples,), for example using ravel().\n",
      "  self.best_estimator_.fit(X, y, **fit_params)\n"
     ]
    },
    {
     "data": {
      "text/plain": [
       "GridSearchCV(cv=5, estimator=RandomForestClassifier(), n_jobs=-1,\n",
       "             param_grid={'criterion': ['gini', 'entropy'],\n",
       "                         'max_depth': [None, 1, 11, 21, 31, 41, 51, 61, 71, 81,\n",
       "                                       91],\n",
       "                         'max_features': ['sqrt', 'log2', None],\n",
       "                         'min_samples_split': array([ 1,  5,  9, 13, 17])},\n",
       "             scoring='recall', verbose=3)"
      ]
     },
     "execution_count": 82,
     "metadata": {},
     "output_type": "execute_result"
    }
   ],
   "source": [
    "# COMMENTED OUT TO AVOID RUNNING LONG CODE\n",
    "# gs.fit(X_train_imp, y_train) "
   ]
  },
  {
   "cell_type": "code",
   "execution_count": 83,
   "metadata": {},
   "outputs": [
    {
     "data": {
      "text/plain": [
       "RandomForestClassifier(max_depth=61, max_features=None, min_samples_split=5)"
      ]
     },
     "execution_count": 83,
     "metadata": {},
     "output_type": "execute_result"
    }
   ],
   "source": [
    "gs.best_estimator_"
   ]
  },
  {
   "cell_type": "code",
   "execution_count": 84,
   "metadata": {},
   "outputs": [
    {
     "data": {
      "text/plain": [
       "0.713"
      ]
     },
     "execution_count": 84,
     "metadata": {},
     "output_type": "execute_result"
    }
   ],
   "source": [
    "gs.best_score_"
   ]
  },
  {
   "cell_type": "code",
   "execution_count": 88,
   "metadata": {},
   "outputs": [
    {
     "data": {
      "text/plain": [
       "{'mean_fit_time': array([2.00872564e-01, 5.01947179e+01, 4.95655776e+01, 4.91832494e+01,\n",
       "        4.72163599e+01, 1.38519049e-01, 2.51734244e+01, 2.52650030e+01,\n",
       "        2.58510067e+01, 2.70442314e+01, 1.46025419e-01, 9.12792709e+02,\n",
       "        9.15803495e+02, 8.96173232e+02, 9.05937520e+02, 1.50028753e-01,\n",
       "        3.44375820e+00, 3.51091609e+00, 3.45186534e+00, 3.82758808e+00,\n",
       "        1.86560202e-01, 2.29367027e+00, 2.15044723e+00, 2.15304937e+00,\n",
       "        2.18197417e+00, 1.40320206e-01, 3.66145526e+01, 3.64170828e+01,\n",
       "        3.57845394e+01, 3.83230204e+01, 1.72047710e-01, 3.29758269e+01,\n",
       "        3.15112685e+01, 3.03310548e+01, 3.10487715e+01, 1.54532719e-01,\n",
       "        1.66087673e+01, 1.66335886e+01, 1.72479162e+01, 1.73435985e+01,\n",
       "        1.35416222e-01, 3.93174545e+02, 4.02072763e+02, 3.93067954e+02,\n",
       "        3.89381287e+02, 1.40921021e-01, 4.97720554e+01, 5.03727713e+01,\n",
       "        5.02068290e+01, 5.03676668e+01, 1.79754353e-01, 2.57787444e+01,\n",
       "        2.65564126e+01, 2.56486326e+01, 2.67267588e+01, 1.47506332e-01,\n",
       "        7.27539472e+02, 7.31932745e+02, 7.29834544e+02, 7.35463979e+02,\n",
       "        1.34615564e-01, 5.23811965e+01, 5.21072612e+01, 5.19785506e+01,\n",
       "        4.91273013e+01, 1.67643976e-01, 2.67356666e+01, 2.62899836e+01,\n",
       "        2.84732590e+01, 2.77803640e+01, 1.42021990e-01, 8.98925697e+02,\n",
       "        9.07446716e+02, 9.05152314e+02, 8.93184365e+02, 1.43323135e-01,\n",
       "        5.27024725e+01, 5.02239436e+01, 5.18002085e+01, 4.91933581e+01,\n",
       "        1.36317253e-01, 2.57752415e+01, 2.65501071e+01, 2.69698677e+01,\n",
       "        2.73769173e+01, 1.43423033e-01, 9.06543941e+02, 9.00717336e+02,\n",
       "        9.02301596e+02, 9.14779415e+02, 1.48327446e-01, 4.83889671e+01,\n",
       "        5.01648927e+01, 5.01600885e+01, 5.20426056e+01, 1.41221571e-01,\n",
       "        2.64679364e+01, 2.56571399e+01, 2.74543839e+01, 2.84744602e+01,\n",
       "        1.96682024e-01, 8.85006540e+02, 8.69735622e+02, 8.64095977e+02,\n",
       "        8.74012496e+02, 1.36216879e-01, 5.18372293e+01, 5.04234148e+01,\n",
       "        4.91706386e+01, 5.01198539e+01, 1.38018560e-01, 2.58175779e+01,\n",
       "        2.64658345e+01, 2.73308778e+01, 2.59608009e+01, 1.35516596e-01,\n",
       "        9.10776276e+02, 9.27110408e+02, 9.18999540e+02, 9.28439550e+02,\n",
       "        1.43223095e-01, 5.24048169e+01, 5.26946656e+01, 5.23484684e+01,\n",
       "        5.15579894e+01, 1.58936357e-01, 2.86978520e+01, 2.72013663e+01,\n",
       "        2.75463625e+01, 3.00009714e+01, 1.43923569e-01, 9.05712726e+02,\n",
       "        8.69249204e+02, 8.49069475e+02, 8.54937810e+02, 1.37818527e-01,\n",
       "        4.73849047e+01, 4.71709208e+01, 4.77237958e+01, 4.78055659e+01,\n",
       "        1.40820885e-01, 2.49424261e+01, 2.62787741e+01, 2.83119206e+01,\n",
       "        2.63118280e+01, 1.37017632e-01, 8.67917760e+02, 8.51954247e+02,\n",
       "        8.41375159e+02, 8.42178549e+02, 1.34315252e-01, 4.86538949e+01,\n",
       "        4.83886669e+01, 4.68852753e+01, 4.80773994e+01, 1.42122173e-01,\n",
       "        2.46624856e+01, 2.45430830e+01, 2.50322030e+01, 2.45884218e+01,\n",
       "        1.34115124e-01, 8.48749294e+02, 8.46711243e+02, 8.57964510e+02,\n",
       "        8.75693339e+02, 1.39019394e-01, 2.88010408e+01, 2.84433335e+01,\n",
       "        2.79270898e+01, 2.87418900e+01, 1.41721821e-01, 1.68495742e+01,\n",
       "        1.68942125e+01, 1.71996749e+01, 1.71321167e+01, 1.34215260e-01,\n",
       "        3.39653169e+02, 3.50049300e+02, 3.46906801e+02, 3.50030083e+02,\n",
       "        1.54232407e-01, 4.52388606e+00, 4.52808976e+00, 4.43841262e+00,\n",
       "        4.56432090e+00, 1.55133247e-01, 2.80751162e+00, 2.76897860e+00,\n",
       "        2.72714257e+00, 2.78219004e+00, 1.56935263e-01, 5.04594457e+01,\n",
       "        5.06796350e+01, 5.04895715e+01, 5.02686818e+01, 1.56234169e-01,\n",
       "        3.03789962e+01, 3.12235216e+01, 3.20127998e+01, 3.14961557e+01,\n",
       "        1.64241123e-01, 1.81175634e+01, 1.80831336e+01, 1.80033651e+01,\n",
       "        1.76862927e+01, 1.51430130e-01, 3.44634949e+02, 3.45152894e+02,\n",
       "        3.40753515e+02, 3.44906682e+02, 1.53932190e-01, 3.09345731e+01,\n",
       "        3.11437531e+01, 3.09471842e+01, 3.14547202e+01, 1.49328327e-01,\n",
       "        1.83135315e+01, 1.85483335e+01, 1.81541948e+01, 1.80218815e+01,\n",
       "        1.50329161e-01, 3.39769870e+02, 3.32459189e+02, 3.30815478e+02,\n",
       "        3.31199507e+02, 1.40420723e-01, 2.96087343e+01, 2.93380020e+01,\n",
       "        2.93690286e+01, 2.98757638e+01, 1.46125460e-01, 1.73160748e+01,\n",
       "        1.75106418e+01, 1.73306867e+01, 1.73666182e+01, 1.43022728e-01,\n",
       "        3.29309884e+02, 3.33883013e+02, 3.30587782e+02, 3.28062212e+02,\n",
       "        1.36217070e-01, 2.93087767e+01, 2.95696008e+01, 2.91704578e+01,\n",
       "        2.90929914e+01, 1.38619041e-01, 1.77096130e+01, 1.71111986e+01,\n",
       "        1.74018484e+01, 1.71381219e+01, 1.45124578e-01, 3.26440719e+02,\n",
       "        3.28087734e+02, 3.24703327e+02, 3.27258622e+02, 1.49628496e-01,\n",
       "        2.92734464e+01, 2.89829970e+01, 2.93131806e+01, 2.91165116e+01,\n",
       "        1.47326517e-01, 1.75353631e+01, 1.67669030e+01, 1.71107986e+01,\n",
       "        1.71535352e+01, 1.49028063e-01, 3.27376924e+02, 3.27603719e+02,\n",
       "        3.25772746e+02, 3.28484375e+02, 1.39319515e-01, 2.94504982e+01,\n",
       "        2.89658823e+01, 2.92774499e+01, 2.94857290e+01, 1.45825148e-01,\n",
       "        1.69473580e+01, 1.71305155e+01, 1.72311019e+01, 1.72910532e+01,\n",
       "        1.41221333e-01, 3.28256780e+02, 3.22277844e+02, 3.28549731e+02,\n",
       "        3.26531398e+02, 1.38619041e-01, 2.92340125e+01, 2.93502123e+01,\n",
       "        2.93016707e+01, 2.90955937e+01, 1.37818623e-01, 1.72410103e+01,\n",
       "        1.75616857e+01, 1.74220659e+01, 1.73469011e+01, 1.37718153e-01,\n",
       "        3.29716434e+02, 3.26315512e+02, 3.29711329e+02, 3.29555395e+02,\n",
       "        1.33614874e-01, 2.88175549e+01, 2.91855709e+01, 3.00382033e+01,\n",
       "        2.92680419e+01, 1.38619184e-01, 1.73230806e+01, 1.76136303e+01,\n",
       "        1.73267840e+01, 1.74763124e+01, 1.33914900e-01, 3.27429669e+02,\n",
       "        3.26779310e+02, 3.31100823e+02, 3.31747178e+02, 1.47126532e-01,\n",
       "        2.92197001e+01, 2.96381598e+01, 2.93557169e+01, 2.90344412e+01,\n",
       "        1.35516357e-01, 1.70461431e+01, 1.72254968e+01, 1.73755259e+01,\n",
       "        1.77395386e+01, 1.43923759e-01, 3.31155369e+02, 3.27288848e+02,\n",
       "        3.09633582e+02, 2.82769105e+02]),\n",
       " 'std_fit_time': array([8.46079437e-03, 1.42848230e+00, 1.95802330e+00, 1.76421278e+00,\n",
       "        1.61972581e+00, 1.96140133e-03, 7.00753611e-01, 1.43725897e+00,\n",
       "        4.46205500e-01, 9.75130724e-01, 2.48234214e-02, 1.00936214e+01,\n",
       "        2.23328086e+01, 1.81248803e+01, 1.78525973e+01, 7.87701701e-03,\n",
       "        1.45154840e-01, 3.44058488e-02, 1.46480015e-01, 2.44532234e-01,\n",
       "        2.25236022e-02, 1.56566162e-01, 8.12695803e-02, 8.05433244e-02,\n",
       "        9.05008394e-02, 3.60288090e-03, 7.08133580e-01, 7.60745263e-01,\n",
       "        8.44858338e-01, 1.61532061e+00, 2.80926016e-02, 1.46849352e+00,\n",
       "        1.07551379e+00, 1.35807648e+00, 1.39373843e+00, 4.04566168e-03,\n",
       "        7.92948389e-01, 2.89620591e-01, 7.20102614e-01, 6.32388771e-01,\n",
       "        2.71525056e-03, 7.37885788e+00, 4.83839927e+00, 5.98469901e+00,\n",
       "        5.54346363e+00, 3.58923362e-03, 1.13001154e+00, 2.88585960e+00,\n",
       "        2.05531295e+00, 2.77818543e+00, 2.01378372e-02, 1.54735935e+00,\n",
       "        1.38223279e+00, 9.16962741e-01, 1.52491630e+00, 1.27411860e-02,\n",
       "        4.76826951e+00, 3.13615542e+00, 1.63493098e+01, 4.98818305e+00,\n",
       "        1.76220611e-03, 2.23487234e+00, 1.74500258e+00, 2.62304862e+00,\n",
       "        1.65847509e+00, 2.85534747e-02, 1.10056336e+00, 1.79145086e+00,\n",
       "        1.63109490e+00, 2.00933811e+00, 2.82023452e-03, 2.21230494e+01,\n",
       "        6.23632793e+00, 1.04038592e+01, 2.91407158e+01, 2.46383336e-03,\n",
       "        1.89161461e+00, 1.95635835e+00, 1.44859402e+00, 1.75873454e+00,\n",
       "        3.35852940e-03, 1.07987619e+00, 5.96268909e-01, 1.72297366e+00,\n",
       "        4.60417990e-01, 8.60157081e-03, 1.94957513e+01, 2.71564544e+01,\n",
       "        1.90703548e+01, 1.54881701e+01, 6.96725187e-03, 1.29877378e+00,\n",
       "        3.05256687e+00, 1.78022267e+00, 2.53092225e+00, 2.03614749e-03,\n",
       "        7.05629014e-01, 8.18708604e-01, 1.05373515e+00, 7.70723919e-01,\n",
       "        4.51204872e-02, 1.81790062e+01, 1.60995576e+01, 1.42885059e+01,\n",
       "        1.80000456e+01, 4.40153038e-03, 3.98282361e+00, 2.06746579e+00,\n",
       "        1.15165257e+00, 1.92327248e+00, 2.57888317e-03, 8.61688956e-01,\n",
       "        1.19536313e+00, 1.36502074e+00, 1.62889218e+00, 1.02085706e-03,\n",
       "        1.68217884e+01, 1.18393373e+01, 1.31394669e+01, 2.02049723e+01,\n",
       "        6.06652351e-03, 3.12138978e+00, 2.47330349e+00, 3.74946017e+00,\n",
       "        3.67261330e+00, 2.00212862e-02, 2.55891312e+00, 1.07223086e+00,\n",
       "        2.16105607e+00, 1.00422558e+00, 1.00115367e-02, 2.14407630e+01,\n",
       "        1.31708659e+01, 1.23394440e+01, 1.96835300e+01, 4.28861952e-03,\n",
       "        1.63227544e+00, 1.02577414e+00, 2.13666083e+00, 1.28214049e+00,\n",
       "        2.56342288e-03, 6.51219993e-01, 1.82370716e+00, 2.19431942e+00,\n",
       "        8.53916160e-01, 1.98660119e-03, 2.35568818e+01, 1.02856023e+01,\n",
       "        1.19195017e+01, 1.67981038e+01, 1.25008495e-03, 2.18800884e+00,\n",
       "        1.69540828e+00, 1.72228141e+00, 1.37010959e+00, 1.17019805e-02,\n",
       "        7.79085003e-01, 6.39921096e-01, 8.92426299e-01, 8.03158958e-01,\n",
       "        3.27383673e-03, 2.06254213e+01, 2.32042321e+01, 2.12200699e+01,\n",
       "        1.63666265e+01, 5.61194493e-03, 6.08438223e-01, 9.79411502e-01,\n",
       "        5.19504519e-01, 7.01764595e-01, 2.82014314e-03, 4.98808746e-01,\n",
       "        6.19017021e-01, 5.41496884e-01, 4.56108103e-01, 1.62616902e-03,\n",
       "        1.19588702e+01, 1.21973016e+01, 1.01515904e+01, 7.92871590e+00,\n",
       "        5.15610512e-03, 9.79376627e-02, 1.08184873e-01, 1.11368105e-01,\n",
       "        1.41714426e-01, 7.49635792e-03, 2.67239138e-02, 8.58638690e-02,\n",
       "        1.06561518e-01, 1.40268402e-01, 1.49719848e-02, 4.33035063e-01,\n",
       "        5.42678660e-01, 3.45903013e-01, 3.69953384e-01, 6.38043467e-03,\n",
       "        6.16875865e-01, 5.50704432e-01, 1.26129766e+00, 1.26885423e+00,\n",
       "        8.13343088e-03, 6.17143739e-01, 2.45967860e-01, 5.95135558e-01,\n",
       "        6.89239178e-01, 1.13921506e-02, 1.44627615e+01, 8.81499912e+00,\n",
       "        9.34599725e+00, 1.10128921e+01, 4.61486811e-03, 8.00769066e-01,\n",
       "        1.24893477e+00, 1.41972368e+00, 7.33252513e-01, 1.77918388e-03,\n",
       "        4.25227977e-01, 4.97160236e-01, 3.34585336e-01, 8.92843994e-01,\n",
       "        7.82734620e-03, 9.24061566e+00, 7.68440595e+00, 9.35799317e+00,\n",
       "        9.20828747e+00, 3.14282768e-03, 9.44402814e-01, 8.77625154e-01,\n",
       "        8.78320410e-01, 2.94539203e-01, 4.25809120e-03, 6.24584268e-01,\n",
       "        2.69920714e-01, 8.95226639e-01, 3.76018673e-01, 5.42120551e-03,\n",
       "        1.05389400e+01, 1.46920983e+01, 9.56620809e+00, 9.65417998e+00,\n",
       "        1.77343146e-03, 1.08398275e+00, 7.53271673e-01, 6.84309942e-01,\n",
       "        1.26707805e+00, 3.67742042e-03, 3.02860368e-01, 6.16132899e-01,\n",
       "        2.85624086e-01, 2.30645853e-01, 3.40878052e-03, 1.23982287e+01,\n",
       "        7.79901707e+00, 1.36978521e+01, 1.32426414e+01, 9.99360121e-03,\n",
       "        7.52761499e-01, 8.28491935e-01, 8.18980411e-01, 7.27150357e-01,\n",
       "        7.85923114e-03, 5.81171647e-01, 3.83533413e-01, 3.80700350e-01,\n",
       "        4.07155763e-01, 4.66675563e-03, 8.25505889e+00, 8.15793291e+00,\n",
       "        1.36450362e+01, 1.21463236e+01, 3.77940749e-03, 4.47573732e-01,\n",
       "        7.37772806e-01, 7.34618233e-01, 8.81311411e-01, 1.23579776e-02,\n",
       "        2.31395281e-01, 4.94028434e-01, 3.58784653e-01, 6.10332042e-01,\n",
       "        4.60181286e-03, 7.42555748e+00, 8.70331284e+00, 9.38628391e+00,\n",
       "        1.10925897e+01, 4.06548713e-03, 5.29418007e-01, 9.07111875e-01,\n",
       "        6.90225106e-01, 9.73827517e-01, 1.28963406e-03, 5.93035814e-01,\n",
       "        8.12067594e-01, 4.79024818e-01, 5.82741443e-01, 8.00645363e-04,\n",
       "        8.15542017e+00, 1.11700512e+01, 9.42911505e+00, 6.14494272e+00,\n",
       "        1.09638866e-03, 9.70333769e-01, 3.15604711e-01, 4.16304430e-01,\n",
       "        1.19660764e+00, 2.74092157e-03, 7.97126823e-01, 9.77224225e-01,\n",
       "        4.17870639e-01, 1.96335102e-01, 8.13113866e-04, 7.81103820e+00,\n",
       "        1.08896401e+01, 1.46068255e+01, 1.11003190e+01, 5.19087528e-03,\n",
       "        7.56678064e-01, 1.03555788e+00, 6.11769498e-01, 7.47861041e-01,\n",
       "        1.39409358e-03, 4.01918418e-01, 5.66211853e-01, 3.46332409e-01,\n",
       "        7.64764586e-01, 5.04023411e-03, 1.16190768e+01, 1.07959983e+01,\n",
       "        2.02708899e+01, 6.78532477e+00]),\n",
       " 'mean_score_time': array([0.        , 0.14502468, 0.1389194 , 0.13651733, 0.13191352,\n",
       "        0.        , 0.13711791, 0.14292274, 0.14662585, 0.16614289,\n",
       "        0.        , 0.16324048, 0.16143866, 0.16744385, 0.16424112,\n",
       "        0.        , 0.07066069, 0.067658  , 0.06965981, 0.08317132,\n",
       "        0.        , 0.06505594, 0.06565647, 0.0632544 , 0.0636548 ,\n",
       "        0.        , 0.06305428, 0.06725779, 0.06745806, 0.06855879,\n",
       "        0.        , 0.10709209, 0.10719228, 0.10499039, 0.10448999,\n",
       "        0.        , 0.1134975 , 0.11309714, 0.10599108, 0.10999446,\n",
       "        0.        , 0.10228777, 0.10939407, 0.09568219, 0.09808426,\n",
       "        0.        , 0.15293131, 0.15112967, 0.15673466, 0.1470264 ,\n",
       "        0.        , 0.14832759, 0.15283146, 0.15273137, 0.14342322,\n",
       "        0.        , 0.13991995, 0.13621726, 0.13631721, 0.13591681,\n",
       "        0.        , 0.15052938, 0.14842768, 0.14592547, 0.15042934,\n",
       "        0.        , 0.15353189, 0.15072947, 0.15703502, 0.16143899,\n",
       "        0.        , 0.17404971, 0.17124705, 0.16213942, 0.15869093,\n",
       "        0.        , 0.14892802, 0.15793552, 0.14771595, 0.14402356,\n",
       "        0.        , 0.14842749, 0.16013775, 0.15102978, 0.15142999,\n",
       "        0.        , 0.18856206, 0.16073809, 0.15413256, 0.16634274,\n",
       "        0.        , 0.13871927, 0.14992867, 0.16191044, 0.15233102,\n",
       "        0.        , 0.14162164, 0.1601377 , 0.16464148, 0.19606843,\n",
       "        0.        , 0.14592528, 0.14722662, 0.15893655, 0.16624289,\n",
       "        0.        , 0.15453272, 0.14862776, 0.14352336, 0.14472437,\n",
       "        0.        , 0.15353184, 0.16624279, 0.14632568, 0.15283132,\n",
       "        0.        , 0.15763555, 0.15753541, 0.15953693, 0.17024612,\n",
       "        0.        , 0.16714358, 0.16133862, 0.16934543, 0.16924548,\n",
       "        0.        , 0.15573382, 0.15513349, 0.16424122, 0.14662619,\n",
       "        0.        , 0.15413246, 0.14872789, 0.14992256, 0.15123005,\n",
       "        0.        , 0.13211341, 0.13401518, 0.13531637, 0.14382358,\n",
       "        0.        , 0.13271403, 0.1448246 , 0.16514187, 0.14680042,\n",
       "        0.        , 0.14782696, 0.14692621, 0.14802718, 0.14462428,\n",
       "        0.        , 0.13011169, 0.13241377, 0.13081255, 0.13191328,\n",
       "        0.        , 0.13741817, 0.13341465, 0.13331461, 0.12770991,\n",
       "        0.        , 0.14452434, 0.1406208 , 0.16504192, 0.16324015,\n",
       "        0.        , 0.10478997, 0.10438981, 0.10178761, 0.10759249,\n",
       "        0.        , 0.11109529, 0.10819283, 0.11239662, 0.10989437,\n",
       "        0.        , 0.11630006, 0.10669179, 0.10328879, 0.10438981,\n",
       "        0.        , 0.06565638, 0.06605682, 0.06355457, 0.07276249,\n",
       "        0.        , 0.06685753, 0.0637547 , 0.0692595 , 0.06975989,\n",
       "        0.        , 0.07066069, 0.06725793, 0.06895928, 0.0684587 ,\n",
       "        0.        , 0.12310581, 0.11700077, 0.12420659, 0.11910229,\n",
       "        0.        , 0.12110405, 0.12941146, 0.12731023, 0.12510753,\n",
       "        0.        , 0.10849323, 0.10288844, 0.1199029 , 0.10649142,\n",
       "        0.        , 0.12170444, 0.12230501, 0.12841043, 0.12901082,\n",
       "        0.        , 0.13281426, 0.13421516, 0.12390656, 0.123806  ,\n",
       "        0.        , 0.09528179, 0.10128708, 0.09538202, 0.0994854 ,\n",
       "        0.        , 0.1073925 , 0.1078928 , 0.10749245, 0.10709205,\n",
       "        0.        , 0.11579976, 0.11449862, 0.11009459, 0.12420683,\n",
       "        0.        , 0.09698339, 0.09498167, 0.1023881 , 0.0968832 ,\n",
       "        0.        , 0.10639153, 0.11319728, 0.10699196, 0.10519047,\n",
       "        0.        , 0.11359763, 0.11009469, 0.11239657, 0.10989447,\n",
       "        0.        , 0.09328012, 0.09498167, 0.09318013, 0.09738383,\n",
       "        0.        , 0.11009469, 0.11319723, 0.10599103, 0.11209636,\n",
       "        0.        , 0.11269693, 0.11139584, 0.11179605, 0.10869331,\n",
       "        0.        , 0.09798422, 0.09588242, 0.09758396, 0.09247937,\n",
       "        0.        , 0.10779262, 0.11519904, 0.11409822, 0.10859351,\n",
       "        0.        , 0.11179605, 0.10939398, 0.11649995, 0.10969419,\n",
       "        0.        , 0.09658303, 0.09558239, 0.09287996, 0.09718351,\n",
       "        0.        , 0.10989461, 0.1045898 , 0.10519032, 0.10689187,\n",
       "        0.        , 0.11700072, 0.11329718, 0.11319728, 0.11409817,\n",
       "        0.        , 0.09638281, 0.09348021, 0.09668303, 0.1066915 ,\n",
       "        0.        , 0.10869341, 0.10268822, 0.11149592, 0.10729237,\n",
       "        0.        , 0.11139584, 0.12310586, 0.11049495, 0.10879416,\n",
       "        0.        , 0.09458127, 0.09718356, 0.10809202, 0.0972837 ,\n",
       "        0.        , 0.11089535, 0.11329746, 0.11309733, 0.10448985,\n",
       "        0.        , 0.11179609, 0.11479883, 0.11339731, 0.10819302,\n",
       "        0.        , 0.10058641, 0.09418097, 0.07926817, 0.0626534 ]),\n",
       " 'std_score_time': array([0.        , 0.01983963, 0.00671099, 0.00669456, 0.00365835,\n",
       "        0.        , 0.00639291, 0.02022759, 0.0201593 , 0.03278931,\n",
       "        0.        , 0.02332549, 0.01332911, 0.00737926, 0.00844778,\n",
       "        0.        , 0.00893182, 0.00591602, 0.00673934, 0.01098395,\n",
       "        0.        , 0.00189904, 0.0052522 , 0.00356111, 0.00345845,\n",
       "        0.        , 0.00257118, 0.00642891, 0.00547648, 0.00572319,\n",
       "        0.        , 0.00932462, 0.01136058, 0.00605809, 0.00413153,\n",
       "        0.        , 0.01993305, 0.01570744, 0.00239786, 0.0059246 ,\n",
       "        0.        , 0.0035473 , 0.03017664, 0.00410717, 0.00677339,\n",
       "        0.        , 0.01050947, 0.02590671, 0.01668883, 0.0105562 ,\n",
       "        0.        , 0.00818383, 0.00928469, 0.01843148, 0.01140541,\n",
       "        0.        , 0.00557743, 0.00853617, 0.01343023, 0.00568454,\n",
       "        0.        , 0.01326422, 0.01791395, 0.00810381, 0.01612158,\n",
       "        0.        , 0.00908191, 0.01925036, 0.01831705, 0.01437409,\n",
       "        0.        , 0.03912751, 0.01132081, 0.00945797, 0.012782  ,\n",
       "        0.        , 0.00652163, 0.01515434, 0.00330576, 0.00459048,\n",
       "        0.        , 0.00529215, 0.00964675, 0.01403472, 0.00746688,\n",
       "        0.        , 0.03689414, 0.00900444, 0.00682507, 0.0132461 ,\n",
       "        0.        , 0.00549471, 0.01111171, 0.02078792, 0.0077241 ,\n",
       "        0.        , 0.00207562, 0.02642518, 0.02766973, 0.03328253,\n",
       "        0.        , 0.00940287, 0.00558517, 0.01314735, 0.01482255,\n",
       "        0.        , 0.01005539, 0.01074701, 0.00394535, 0.00737127,\n",
       "        0.        , 0.01107479, 0.033928  , 0.01000168, 0.0133778 ,\n",
       "        0.        , 0.00770075, 0.00838229, 0.00502818, 0.02023951,\n",
       "        0.        , 0.0182282 , 0.0107404 , 0.02335801, 0.02633106,\n",
       "        0.        , 0.01127639, 0.01277798, 0.02961497, 0.01424244,\n",
       "        0.        , 0.01758493, 0.00442419, 0.00734646, 0.0116821 ,\n",
       "        0.        , 0.00497411, 0.00957583, 0.01089329, 0.01720656,\n",
       "        0.        , 0.0050878 , 0.00966556, 0.03100399, 0.01000693,\n",
       "        0.        , 0.00747371, 0.00398588, 0.01341073, 0.00179035,\n",
       "        0.        , 0.0057583 , 0.00675566, 0.0059515 , 0.00317448,\n",
       "        0.        , 0.0129363 , 0.00743326, 0.00497009, 0.00259845,\n",
       "        0.        , 0.00386847, 0.00228219, 0.01621071, 0.00519501,\n",
       "        0.        , 0.00393524, 0.00859561, 0.00306214, 0.00696297,\n",
       "        0.        , 0.00768122, 0.00411925, 0.00454924, 0.01543595,\n",
       "        0.        , 0.01780447, 0.00629363, 0.00744678, 0.00888794,\n",
       "        0.        , 0.00403331, 0.00321189, 0.00288336, 0.00564059,\n",
       "        0.        , 0.00323706, 0.00291107, 0.0052734 , 0.00314275,\n",
       "        0.        , 0.00729587, 0.00363056, 0.00779397, 0.00561194,\n",
       "        0.        , 0.01278997, 0.00881301, 0.00944954, 0.0112393 ,\n",
       "        0.        , 0.00557247, 0.01069861, 0.01897743, 0.01294556,\n",
       "        0.        , 0.0037367 , 0.00530159, 0.02218337, 0.00823147,\n",
       "        0.        , 0.00578766, 0.00659806, 0.01401409, 0.01909622,\n",
       "        0.        , 0.00731792, 0.01253026, 0.00882006, 0.00499035,\n",
       "        0.        , 0.00369901, 0.01117469, 0.00306195, 0.00748574,\n",
       "        0.        , 0.00236003, 0.00534874, 0.00479375, 0.00262897,\n",
       "        0.        , 0.00436979, 0.00292473, 0.00277732, 0.01930999,\n",
       "        0.        , 0.00506796, 0.00245968, 0.00883149, 0.00466878,\n",
       "        0.        , 0.00358906, 0.00313961, 0.00586509, 0.00445805,\n",
       "        0.        , 0.00114118, 0.00453181, 0.00589238, 0.00347575,\n",
       "        0.        , 0.00372616, 0.00171621, 0.00299242, 0.00768519,\n",
       "        0.        , 0.00328921, 0.00826187, 0.00373681, 0.00952645,\n",
       "        0.        , 0.00539347, 0.00320588, 0.00686596, 0.00165662,\n",
       "        0.        , 0.00378994, 0.00356113, 0.0057929 , 0.00235587,\n",
       "        0.        , 0.00549652, 0.01887199, 0.01391504, 0.0046085 ,\n",
       "        0.        , 0.00644438, 0.0037259 , 0.0089484 , 0.0026367 ,\n",
       "        0.        , 0.00579287, 0.00561732, 0.0027881 , 0.00351582,\n",
       "        0.        , 0.00443794, 0.0038635 , 0.00446916, 0.00587543,\n",
       "        0.        , 0.01586096, 0.00462563, 0.00243924, 0.00521016,\n",
       "        0.        , 0.00440383, 0.00527136, 0.00865253, 0.0246227 ,\n",
       "        0.        , 0.00611594, 0.00255968, 0.00487644, 0.00407281,\n",
       "        0.        , 0.00550562, 0.02143782, 0.008915  , 0.00201675,\n",
       "        0.        , 0.00238959, 0.00243937, 0.01325935, 0.00229536,\n",
       "        0.        , 0.01428313, 0.01564231, 0.01232732, 0.00551296,\n",
       "        0.        , 0.00269665, 0.01064218, 0.0078081 , 0.00278457,\n",
       "        0.        , 0.00513275, 0.00282   , 0.00767853, 0.00285602]),\n",
       " 'param_criterion': masked_array(data=['gini', 'gini', 'gini', 'gini', 'gini', 'gini', 'gini',\n",
       "                    'gini', 'gini', 'gini', 'gini', 'gini', 'gini', 'gini',\n",
       "                    'gini', 'gini', 'gini', 'gini', 'gini', 'gini', 'gini',\n",
       "                    'gini', 'gini', 'gini', 'gini', 'gini', 'gini', 'gini',\n",
       "                    'gini', 'gini', 'gini', 'gini', 'gini', 'gini', 'gini',\n",
       "                    'gini', 'gini', 'gini', 'gini', 'gini', 'gini', 'gini',\n",
       "                    'gini', 'gini', 'gini', 'gini', 'gini', 'gini', 'gini',\n",
       "                    'gini', 'gini', 'gini', 'gini', 'gini', 'gini', 'gini',\n",
       "                    'gini', 'gini', 'gini', 'gini', 'gini', 'gini', 'gini',\n",
       "                    'gini', 'gini', 'gini', 'gini', 'gini', 'gini', 'gini',\n",
       "                    'gini', 'gini', 'gini', 'gini', 'gini', 'gini', 'gini',\n",
       "                    'gini', 'gini', 'gini', 'gini', 'gini', 'gini', 'gini',\n",
       "                    'gini', 'gini', 'gini', 'gini', 'gini', 'gini', 'gini',\n",
       "                    'gini', 'gini', 'gini', 'gini', 'gini', 'gini', 'gini',\n",
       "                    'gini', 'gini', 'gini', 'gini', 'gini', 'gini', 'gini',\n",
       "                    'gini', 'gini', 'gini', 'gini', 'gini', 'gini', 'gini',\n",
       "                    'gini', 'gini', 'gini', 'gini', 'gini', 'gini', 'gini',\n",
       "                    'gini', 'gini', 'gini', 'gini', 'gini', 'gini', 'gini',\n",
       "                    'gini', 'gini', 'gini', 'gini', 'gini', 'gini', 'gini',\n",
       "                    'gini', 'gini', 'gini', 'gini', 'gini', 'gini', 'gini',\n",
       "                    'gini', 'gini', 'gini', 'gini', 'gini', 'gini', 'gini',\n",
       "                    'gini', 'gini', 'gini', 'gini', 'gini', 'gini', 'gini',\n",
       "                    'gini', 'gini', 'gini', 'gini', 'gini', 'gini', 'gini',\n",
       "                    'gini', 'gini', 'gini', 'gini', 'entropy', 'entropy',\n",
       "                    'entropy', 'entropy', 'entropy', 'entropy', 'entropy',\n",
       "                    'entropy', 'entropy', 'entropy', 'entropy', 'entropy',\n",
       "                    'entropy', 'entropy', 'entropy', 'entropy', 'entropy',\n",
       "                    'entropy', 'entropy', 'entropy', 'entropy', 'entropy',\n",
       "                    'entropy', 'entropy', 'entropy', 'entropy', 'entropy',\n",
       "                    'entropy', 'entropy', 'entropy', 'entropy', 'entropy',\n",
       "                    'entropy', 'entropy', 'entropy', 'entropy', 'entropy',\n",
       "                    'entropy', 'entropy', 'entropy', 'entropy', 'entropy',\n",
       "                    'entropy', 'entropy', 'entropy', 'entropy', 'entropy',\n",
       "                    'entropy', 'entropy', 'entropy', 'entropy', 'entropy',\n",
       "                    'entropy', 'entropy', 'entropy', 'entropy', 'entropy',\n",
       "                    'entropy', 'entropy', 'entropy', 'entropy', 'entropy',\n",
       "                    'entropy', 'entropy', 'entropy', 'entropy', 'entropy',\n",
       "                    'entropy', 'entropy', 'entropy', 'entropy', 'entropy',\n",
       "                    'entropy', 'entropy', 'entropy', 'entropy', 'entropy',\n",
       "                    'entropy', 'entropy', 'entropy', 'entropy', 'entropy',\n",
       "                    'entropy', 'entropy', 'entropy', 'entropy', 'entropy',\n",
       "                    'entropy', 'entropy', 'entropy', 'entropy', 'entropy',\n",
       "                    'entropy', 'entropy', 'entropy', 'entropy', 'entropy',\n",
       "                    'entropy', 'entropy', 'entropy', 'entropy', 'entropy',\n",
       "                    'entropy', 'entropy', 'entropy', 'entropy', 'entropy',\n",
       "                    'entropy', 'entropy', 'entropy', 'entropy', 'entropy',\n",
       "                    'entropy', 'entropy', 'entropy', 'entropy', 'entropy',\n",
       "                    'entropy', 'entropy', 'entropy', 'entropy', 'entropy',\n",
       "                    'entropy', 'entropy', 'entropy', 'entropy', 'entropy',\n",
       "                    'entropy', 'entropy', 'entropy', 'entropy', 'entropy',\n",
       "                    'entropy', 'entropy', 'entropy', 'entropy', 'entropy',\n",
       "                    'entropy', 'entropy', 'entropy', 'entropy', 'entropy',\n",
       "                    'entropy', 'entropy', 'entropy', 'entropy', 'entropy',\n",
       "                    'entropy', 'entropy', 'entropy', 'entropy', 'entropy',\n",
       "                    'entropy', 'entropy', 'entropy', 'entropy', 'entropy',\n",
       "                    'entropy', 'entropy', 'entropy', 'entropy', 'entropy',\n",
       "                    'entropy', 'entropy', 'entropy'],\n",
       "              mask=[False, False, False, False, False, False, False, False,\n",
       "                    False, False, False, False, False, False, False, False,\n",
       "                    False, False, False, False, False, False, False, False,\n",
       "                    False, False, False, False, False, False, False, False,\n",
       "                    False, False, False, False, False, False, False, False,\n",
       "                    False, False, False, False, False, False, False, False,\n",
       "                    False, False, False, False, False, False, False, False,\n",
       "                    False, False, False, False, False, False, False, False,\n",
       "                    False, False, False, False, False, False, False, False,\n",
       "                    False, False, False, False, False, False, False, False,\n",
       "                    False, False, False, False, False, False, False, False,\n",
       "                    False, False, False, False, False, False, False, False,\n",
       "                    False, False, False, False, False, False, False, False,\n",
       "                    False, False, False, False, False, False, False, False,\n",
       "                    False, False, False, False, False, False, False, False,\n",
       "                    False, False, False, False, False, False, False, False,\n",
       "                    False, False, False, False, False, False, False, False,\n",
       "                    False, False, False, False, False, False, False, False,\n",
       "                    False, False, False, False, False, False, False, False,\n",
       "                    False, False, False, False, False, False, False, False,\n",
       "                    False, False, False, False, False, False, False, False,\n",
       "                    False, False, False, False, False, False, False, False,\n",
       "                    False, False, False, False, False, False, False, False,\n",
       "                    False, False, False, False, False, False, False, False,\n",
       "                    False, False, False, False, False, False, False, False,\n",
       "                    False, False, False, False, False, False, False, False,\n",
       "                    False, False, False, False, False, False, False, False,\n",
       "                    False, False, False, False, False, False, False, False,\n",
       "                    False, False, False, False, False, False, False, False,\n",
       "                    False, False, False, False, False, False, False, False,\n",
       "                    False, False, False, False, False, False, False, False,\n",
       "                    False, False, False, False, False, False, False, False,\n",
       "                    False, False, False, False, False, False, False, False,\n",
       "                    False, False, False, False, False, False, False, False,\n",
       "                    False, False, False, False, False, False, False, False,\n",
       "                    False, False, False, False, False, False, False, False,\n",
       "                    False, False, False, False, False, False, False, False,\n",
       "                    False, False, False, False, False, False, False, False,\n",
       "                    False, False, False, False, False, False, False, False,\n",
       "                    False, False, False, False, False, False, False, False,\n",
       "                    False, False, False, False, False, False, False, False,\n",
       "                    False, False],\n",
       "        fill_value='?',\n",
       "             dtype=object),\n",
       " 'param_max_depth': masked_array(data=[None, None, None, None, None, None, None, None, None,\n",
       "                    None, None, None, None, None, None, 1, 1, 1, 1, 1, 1,\n",
       "                    1, 1, 1, 1, 1, 1, 1, 1, 1, 11, 11, 11, 11, 11, 11, 11,\n",
       "                    11, 11, 11, 11, 11, 11, 11, 11, 21, 21, 21, 21, 21, 21,\n",
       "                    21, 21, 21, 21, 21, 21, 21, 21, 21, 31, 31, 31, 31, 31,\n",
       "                    31, 31, 31, 31, 31, 31, 31, 31, 31, 31, 41, 41, 41, 41,\n",
       "                    41, 41, 41, 41, 41, 41, 41, 41, 41, 41, 41, 51, 51, 51,\n",
       "                    51, 51, 51, 51, 51, 51, 51, 51, 51, 51, 51, 51, 61, 61,\n",
       "                    61, 61, 61, 61, 61, 61, 61, 61, 61, 61, 61, 61, 61, 71,\n",
       "                    71, 71, 71, 71, 71, 71, 71, 71, 71, 71, 71, 71, 71, 71,\n",
       "                    81, 81, 81, 81, 81, 81, 81, 81, 81, 81, 81, 81, 81, 81,\n",
       "                    81, 91, 91, 91, 91, 91, 91, 91, 91, 91, 91, 91, 91, 91,\n",
       "                    91, 91, None, None, None, None, None, None, None, None,\n",
       "                    None, None, None, None, None, None, None, 1, 1, 1, 1,\n",
       "                    1, 1, 1, 1, 1, 1, 1, 1, 1, 1, 1, 11, 11, 11, 11, 11,\n",
       "                    11, 11, 11, 11, 11, 11, 11, 11, 11, 11, 21, 21, 21, 21,\n",
       "                    21, 21, 21, 21, 21, 21, 21, 21, 21, 21, 21, 31, 31, 31,\n",
       "                    31, 31, 31, 31, 31, 31, 31, 31, 31, 31, 31, 31, 41, 41,\n",
       "                    41, 41, 41, 41, 41, 41, 41, 41, 41, 41, 41, 41, 41, 51,\n",
       "                    51, 51, 51, 51, 51, 51, 51, 51, 51, 51, 51, 51, 51, 51,\n",
       "                    61, 61, 61, 61, 61, 61, 61, 61, 61, 61, 61, 61, 61, 61,\n",
       "                    61, 71, 71, 71, 71, 71, 71, 71, 71, 71, 71, 71, 71, 71,\n",
       "                    71, 71, 81, 81, 81, 81, 81, 81, 81, 81, 81, 81, 81, 81,\n",
       "                    81, 81, 81, 91, 91, 91, 91, 91, 91, 91, 91, 91, 91, 91,\n",
       "                    91, 91, 91, 91],\n",
       "              mask=[False, False, False, False, False, False, False, False,\n",
       "                    False, False, False, False, False, False, False, False,\n",
       "                    False, False, False, False, False, False, False, False,\n",
       "                    False, False, False, False, False, False, False, False,\n",
       "                    False, False, False, False, False, False, False, False,\n",
       "                    False, False, False, False, False, False, False, False,\n",
       "                    False, False, False, False, False, False, False, False,\n",
       "                    False, False, False, False, False, False, False, False,\n",
       "                    False, False, False, False, False, False, False, False,\n",
       "                    False, False, False, False, False, False, False, False,\n",
       "                    False, False, False, False, False, False, False, False,\n",
       "                    False, False, False, False, False, False, False, False,\n",
       "                    False, False, False, False, False, False, False, False,\n",
       "                    False, False, False, False, False, False, False, False,\n",
       "                    False, False, False, False, False, False, False, False,\n",
       "                    False, False, False, False, False, False, False, False,\n",
       "                    False, False, False, False, False, False, False, False,\n",
       "                    False, False, False, False, False, False, False, False,\n",
       "                    False, False, False, False, False, False, False, False,\n",
       "                    False, False, False, False, False, False, False, False,\n",
       "                    False, False, False, False, False, False, False, False,\n",
       "                    False, False, False, False, False, False, False, False,\n",
       "                    False, False, False, False, False, False, False, False,\n",
       "                    False, False, False, False, False, False, False, False,\n",
       "                    False, False, False, False, False, False, False, False,\n",
       "                    False, False, False, False, False, False, False, False,\n",
       "                    False, False, False, False, False, False, False, False,\n",
       "                    False, False, False, False, False, False, False, False,\n",
       "                    False, False, False, False, False, False, False, False,\n",
       "                    False, False, False, False, False, False, False, False,\n",
       "                    False, False, False, False, False, False, False, False,\n",
       "                    False, False, False, False, False, False, False, False,\n",
       "                    False, False, False, False, False, False, False, False,\n",
       "                    False, False, False, False, False, False, False, False,\n",
       "                    False, False, False, False, False, False, False, False,\n",
       "                    False, False, False, False, False, False, False, False,\n",
       "                    False, False, False, False, False, False, False, False,\n",
       "                    False, False, False, False, False, False, False, False,\n",
       "                    False, False, False, False, False, False, False, False,\n",
       "                    False, False, False, False, False, False, False, False,\n",
       "                    False, False, False, False, False, False, False, False,\n",
       "                    False, False],\n",
       "        fill_value='?',\n",
       "             dtype=object),\n",
       " 'param_max_features': masked_array(data=['sqrt', 'sqrt', 'sqrt', 'sqrt', 'sqrt', 'log2', 'log2',\n",
       "                    'log2', 'log2', 'log2', None, None, None, None, None,\n",
       "                    'sqrt', 'sqrt', 'sqrt', 'sqrt', 'sqrt', 'log2', 'log2',\n",
       "                    'log2', 'log2', 'log2', None, None, None, None, None,\n",
       "                    'sqrt', 'sqrt', 'sqrt', 'sqrt', 'sqrt', 'log2', 'log2',\n",
       "                    'log2', 'log2', 'log2', None, None, None, None, None,\n",
       "                    'sqrt', 'sqrt', 'sqrt', 'sqrt', 'sqrt', 'log2', 'log2',\n",
       "                    'log2', 'log2', 'log2', None, None, None, None, None,\n",
       "                    'sqrt', 'sqrt', 'sqrt', 'sqrt', 'sqrt', 'log2', 'log2',\n",
       "                    'log2', 'log2', 'log2', None, None, None, None, None,\n",
       "                    'sqrt', 'sqrt', 'sqrt', 'sqrt', 'sqrt', 'log2', 'log2',\n",
       "                    'log2', 'log2', 'log2', None, None, None, None, None,\n",
       "                    'sqrt', 'sqrt', 'sqrt', 'sqrt', 'sqrt', 'log2', 'log2',\n",
       "                    'log2', 'log2', 'log2', None, None, None, None, None,\n",
       "                    'sqrt', 'sqrt', 'sqrt', 'sqrt', 'sqrt', 'log2', 'log2',\n",
       "                    'log2', 'log2', 'log2', None, None, None, None, None,\n",
       "                    'sqrt', 'sqrt', 'sqrt', 'sqrt', 'sqrt', 'log2', 'log2',\n",
       "                    'log2', 'log2', 'log2', None, None, None, None, None,\n",
       "                    'sqrt', 'sqrt', 'sqrt', 'sqrt', 'sqrt', 'log2', 'log2',\n",
       "                    'log2', 'log2', 'log2', None, None, None, None, None,\n",
       "                    'sqrt', 'sqrt', 'sqrt', 'sqrt', 'sqrt', 'log2', 'log2',\n",
       "                    'log2', 'log2', 'log2', None, None, None, None, None,\n",
       "                    'sqrt', 'sqrt', 'sqrt', 'sqrt', 'sqrt', 'log2', 'log2',\n",
       "                    'log2', 'log2', 'log2', None, None, None, None, None,\n",
       "                    'sqrt', 'sqrt', 'sqrt', 'sqrt', 'sqrt', 'log2', 'log2',\n",
       "                    'log2', 'log2', 'log2', None, None, None, None, None,\n",
       "                    'sqrt', 'sqrt', 'sqrt', 'sqrt', 'sqrt', 'log2', 'log2',\n",
       "                    'log2', 'log2', 'log2', None, None, None, None, None,\n",
       "                    'sqrt', 'sqrt', 'sqrt', 'sqrt', 'sqrt', 'log2', 'log2',\n",
       "                    'log2', 'log2', 'log2', None, None, None, None, None,\n",
       "                    'sqrt', 'sqrt', 'sqrt', 'sqrt', 'sqrt', 'log2', 'log2',\n",
       "                    'log2', 'log2', 'log2', None, None, None, None, None,\n",
       "                    'sqrt', 'sqrt', 'sqrt', 'sqrt', 'sqrt', 'log2', 'log2',\n",
       "                    'log2', 'log2', 'log2', None, None, None, None, None,\n",
       "                    'sqrt', 'sqrt', 'sqrt', 'sqrt', 'sqrt', 'log2', 'log2',\n",
       "                    'log2', 'log2', 'log2', None, None, None, None, None,\n",
       "                    'sqrt', 'sqrt', 'sqrt', 'sqrt', 'sqrt', 'log2', 'log2',\n",
       "                    'log2', 'log2', 'log2', None, None, None, None, None,\n",
       "                    'sqrt', 'sqrt', 'sqrt', 'sqrt', 'sqrt', 'log2', 'log2',\n",
       "                    'log2', 'log2', 'log2', None, None, None, None, None,\n",
       "                    'sqrt', 'sqrt', 'sqrt', 'sqrt', 'sqrt', 'log2', 'log2',\n",
       "                    'log2', 'log2', 'log2', None, None, None, None, None,\n",
       "                    'sqrt', 'sqrt', 'sqrt', 'sqrt', 'sqrt', 'log2', 'log2',\n",
       "                    'log2', 'log2', 'log2', None, None, None, None, None],\n",
       "              mask=[False, False, False, False, False, False, False, False,\n",
       "                    False, False, False, False, False, False, False, False,\n",
       "                    False, False, False, False, False, False, False, False,\n",
       "                    False, False, False, False, False, False, False, False,\n",
       "                    False, False, False, False, False, False, False, False,\n",
       "                    False, False, False, False, False, False, False, False,\n",
       "                    False, False, False, False, False, False, False, False,\n",
       "                    False, False, False, False, False, False, False, False,\n",
       "                    False, False, False, False, False, False, False, False,\n",
       "                    False, False, False, False, False, False, False, False,\n",
       "                    False, False, False, False, False, False, False, False,\n",
       "                    False, False, False, False, False, False, False, False,\n",
       "                    False, False, False, False, False, False, False, False,\n",
       "                    False, False, False, False, False, False, False, False,\n",
       "                    False, False, False, False, False, False, False, False,\n",
       "                    False, False, False, False, False, False, False, False,\n",
       "                    False, False, False, False, False, False, False, False,\n",
       "                    False, False, False, False, False, False, False, False,\n",
       "                    False, False, False, False, False, False, False, False,\n",
       "                    False, False, False, False, False, False, False, False,\n",
       "                    False, False, False, False, False, False, False, False,\n",
       "                    False, False, False, False, False, False, False, False,\n",
       "                    False, False, False, False, False, False, False, False,\n",
       "                    False, False, False, False, False, False, False, False,\n",
       "                    False, False, False, False, False, False, False, False,\n",
       "                    False, False, False, False, False, False, False, False,\n",
       "                    False, False, False, False, False, False, False, False,\n",
       "                    False, False, False, False, False, False, False, False,\n",
       "                    False, False, False, False, False, False, False, False,\n",
       "                    False, False, False, False, False, False, False, False,\n",
       "                    False, False, False, False, False, False, False, False,\n",
       "                    False, False, False, False, False, False, False, False,\n",
       "                    False, False, False, False, False, False, False, False,\n",
       "                    False, False, False, False, False, False, False, False,\n",
       "                    False, False, False, False, False, False, False, False,\n",
       "                    False, False, False, False, False, False, False, False,\n",
       "                    False, False, False, False, False, False, False, False,\n",
       "                    False, False, False, False, False, False, False, False,\n",
       "                    False, False, False, False, False, False, False, False,\n",
       "                    False, False, False, False, False, False, False, False,\n",
       "                    False, False, False, False, False, False, False, False,\n",
       "                    False, False],\n",
       "        fill_value='?',\n",
       "             dtype=object),\n",
       " 'param_min_samples_split': masked_array(data=[1, 5, 9, 13, 17, 1, 5, 9, 13, 17, 1, 5, 9, 13, 17, 1,\n",
       "                    5, 9, 13, 17, 1, 5, 9, 13, 17, 1, 5, 9, 13, 17, 1, 5,\n",
       "                    9, 13, 17, 1, 5, 9, 13, 17, 1, 5, 9, 13, 17, 1, 5, 9,\n",
       "                    13, 17, 1, 5, 9, 13, 17, 1, 5, 9, 13, 17, 1, 5, 9, 13,\n",
       "                    17, 1, 5, 9, 13, 17, 1, 5, 9, 13, 17, 1, 5, 9, 13, 17,\n",
       "                    1, 5, 9, 13, 17, 1, 5, 9, 13, 17, 1, 5, 9, 13, 17, 1,\n",
       "                    5, 9, 13, 17, 1, 5, 9, 13, 17, 1, 5, 9, 13, 17, 1, 5,\n",
       "                    9, 13, 17, 1, 5, 9, 13, 17, 1, 5, 9, 13, 17, 1, 5, 9,\n",
       "                    13, 17, 1, 5, 9, 13, 17, 1, 5, 9, 13, 17, 1, 5, 9, 13,\n",
       "                    17, 1, 5, 9, 13, 17, 1, 5, 9, 13, 17, 1, 5, 9, 13, 17,\n",
       "                    1, 5, 9, 13, 17, 1, 5, 9, 13, 17, 1, 5, 9, 13, 17, 1,\n",
       "                    5, 9, 13, 17, 1, 5, 9, 13, 17, 1, 5, 9, 13, 17, 1, 5,\n",
       "                    9, 13, 17, 1, 5, 9, 13, 17, 1, 5, 9, 13, 17, 1, 5, 9,\n",
       "                    13, 17, 1, 5, 9, 13, 17, 1, 5, 9, 13, 17, 1, 5, 9, 13,\n",
       "                    17, 1, 5, 9, 13, 17, 1, 5, 9, 13, 17, 1, 5, 9, 13, 17,\n",
       "                    1, 5, 9, 13, 17, 1, 5, 9, 13, 17, 1, 5, 9, 13, 17, 1,\n",
       "                    5, 9, 13, 17, 1, 5, 9, 13, 17, 1, 5, 9, 13, 17, 1, 5,\n",
       "                    9, 13, 17, 1, 5, 9, 13, 17, 1, 5, 9, 13, 17, 1, 5, 9,\n",
       "                    13, 17, 1, 5, 9, 13, 17, 1, 5, 9, 13, 17, 1, 5, 9, 13,\n",
       "                    17, 1, 5, 9, 13, 17, 1, 5, 9, 13, 17, 1, 5, 9, 13, 17,\n",
       "                    1, 5, 9, 13, 17, 1, 5, 9, 13, 17],\n",
       "              mask=[False, False, False, False, False, False, False, False,\n",
       "                    False, False, False, False, False, False, False, False,\n",
       "                    False, False, False, False, False, False, False, False,\n",
       "                    False, False, False, False, False, False, False, False,\n",
       "                    False, False, False, False, False, False, False, False,\n",
       "                    False, False, False, False, False, False, False, False,\n",
       "                    False, False, False, False, False, False, False, False,\n",
       "                    False, False, False, False, False, False, False, False,\n",
       "                    False, False, False, False, False, False, False, False,\n",
       "                    False, False, False, False, False, False, False, False,\n",
       "                    False, False, False, False, False, False, False, False,\n",
       "                    False, False, False, False, False, False, False, False,\n",
       "                    False, False, False, False, False, False, False, False,\n",
       "                    False, False, False, False, False, False, False, False,\n",
       "                    False, False, False, False, False, False, False, False,\n",
       "                    False, False, False, False, False, False, False, False,\n",
       "                    False, False, False, False, False, False, False, False,\n",
       "                    False, False, False, False, False, False, False, False,\n",
       "                    False, False, False, False, False, False, False, False,\n",
       "                    False, False, False, False, False, False, False, False,\n",
       "                    False, False, False, False, False, False, False, False,\n",
       "                    False, False, False, False, False, False, False, False,\n",
       "                    False, False, False, False, False, False, False, False,\n",
       "                    False, False, False, False, False, False, False, False,\n",
       "                    False, False, False, False, False, False, False, False,\n",
       "                    False, False, False, False, False, False, False, False,\n",
       "                    False, False, False, False, False, False, False, False,\n",
       "                    False, False, False, False, False, False, False, False,\n",
       "                    False, False, False, False, False, False, False, False,\n",
       "                    False, False, False, False, False, False, False, False,\n",
       "                    False, False, False, False, False, False, False, False,\n",
       "                    False, False, False, False, False, False, False, False,\n",
       "                    False, False, False, False, False, False, False, False,\n",
       "                    False, False, False, False, False, False, False, False,\n",
       "                    False, False, False, False, False, False, False, False,\n",
       "                    False, False, False, False, False, False, False, False,\n",
       "                    False, False, False, False, False, False, False, False,\n",
       "                    False, False, False, False, False, False, False, False,\n",
       "                    False, False, False, False, False, False, False, False,\n",
       "                    False, False, False, False, False, False, False, False,\n",
       "                    False, False, False, False, False, False, False, False,\n",
       "                    False, False],\n",
       "        fill_value='?',\n",
       "             dtype=object),\n",
       " 'params': [{'criterion': 'gini',\n",
       "   'max_depth': None,\n",
       "   'max_features': 'sqrt',\n",
       "   'min_samples_split': 1},\n",
       "  {'criterion': 'gini',\n",
       "   'max_depth': None,\n",
       "   'max_features': 'sqrt',\n",
       "   'min_samples_split': 5},\n",
       "  {'criterion': 'gini',\n",
       "   'max_depth': None,\n",
       "   'max_features': 'sqrt',\n",
       "   'min_samples_split': 9},\n",
       "  {'criterion': 'gini',\n",
       "   'max_depth': None,\n",
       "   'max_features': 'sqrt',\n",
       "   'min_samples_split': 13},\n",
       "  {'criterion': 'gini',\n",
       "   'max_depth': None,\n",
       "   'max_features': 'sqrt',\n",
       "   'min_samples_split': 17},\n",
       "  {'criterion': 'gini',\n",
       "   'max_depth': None,\n",
       "   'max_features': 'log2',\n",
       "   'min_samples_split': 1},\n",
       "  {'criterion': 'gini',\n",
       "   'max_depth': None,\n",
       "   'max_features': 'log2',\n",
       "   'min_samples_split': 5},\n",
       "  {'criterion': 'gini',\n",
       "   'max_depth': None,\n",
       "   'max_features': 'log2',\n",
       "   'min_samples_split': 9},\n",
       "  {'criterion': 'gini',\n",
       "   'max_depth': None,\n",
       "   'max_features': 'log2',\n",
       "   'min_samples_split': 13},\n",
       "  {'criterion': 'gini',\n",
       "   'max_depth': None,\n",
       "   'max_features': 'log2',\n",
       "   'min_samples_split': 17},\n",
       "  {'criterion': 'gini',\n",
       "   'max_depth': None,\n",
       "   'max_features': None,\n",
       "   'min_samples_split': 1},\n",
       "  {'criterion': 'gini',\n",
       "   'max_depth': None,\n",
       "   'max_features': None,\n",
       "   'min_samples_split': 5},\n",
       "  {'criterion': 'gini',\n",
       "   'max_depth': None,\n",
       "   'max_features': None,\n",
       "   'min_samples_split': 9},\n",
       "  {'criterion': 'gini',\n",
       "   'max_depth': None,\n",
       "   'max_features': None,\n",
       "   'min_samples_split': 13},\n",
       "  {'criterion': 'gini',\n",
       "   'max_depth': None,\n",
       "   'max_features': None,\n",
       "   'min_samples_split': 17},\n",
       "  {'criterion': 'gini',\n",
       "   'max_depth': 1,\n",
       "   'max_features': 'sqrt',\n",
       "   'min_samples_split': 1},\n",
       "  {'criterion': 'gini',\n",
       "   'max_depth': 1,\n",
       "   'max_features': 'sqrt',\n",
       "   'min_samples_split': 5},\n",
       "  {'criterion': 'gini',\n",
       "   'max_depth': 1,\n",
       "   'max_features': 'sqrt',\n",
       "   'min_samples_split': 9},\n",
       "  {'criterion': 'gini',\n",
       "   'max_depth': 1,\n",
       "   'max_features': 'sqrt',\n",
       "   'min_samples_split': 13},\n",
       "  {'criterion': 'gini',\n",
       "   'max_depth': 1,\n",
       "   'max_features': 'sqrt',\n",
       "   'min_samples_split': 17},\n",
       "  {'criterion': 'gini',\n",
       "   'max_depth': 1,\n",
       "   'max_features': 'log2',\n",
       "   'min_samples_split': 1},\n",
       "  {'criterion': 'gini',\n",
       "   'max_depth': 1,\n",
       "   'max_features': 'log2',\n",
       "   'min_samples_split': 5},\n",
       "  {'criterion': 'gini',\n",
       "   'max_depth': 1,\n",
       "   'max_features': 'log2',\n",
       "   'min_samples_split': 9},\n",
       "  {'criterion': 'gini',\n",
       "   'max_depth': 1,\n",
       "   'max_features': 'log2',\n",
       "   'min_samples_split': 13},\n",
       "  {'criterion': 'gini',\n",
       "   'max_depth': 1,\n",
       "   'max_features': 'log2',\n",
       "   'min_samples_split': 17},\n",
       "  {'criterion': 'gini',\n",
       "   'max_depth': 1,\n",
       "   'max_features': None,\n",
       "   'min_samples_split': 1},\n",
       "  {'criterion': 'gini',\n",
       "   'max_depth': 1,\n",
       "   'max_features': None,\n",
       "   'min_samples_split': 5},\n",
       "  {'criterion': 'gini',\n",
       "   'max_depth': 1,\n",
       "   'max_features': None,\n",
       "   'min_samples_split': 9},\n",
       "  {'criterion': 'gini',\n",
       "   'max_depth': 1,\n",
       "   'max_features': None,\n",
       "   'min_samples_split': 13},\n",
       "  {'criterion': 'gini',\n",
       "   'max_depth': 1,\n",
       "   'max_features': None,\n",
       "   'min_samples_split': 17},\n",
       "  {'criterion': 'gini',\n",
       "   'max_depth': 11,\n",
       "   'max_features': 'sqrt',\n",
       "   'min_samples_split': 1},\n",
       "  {'criterion': 'gini',\n",
       "   'max_depth': 11,\n",
       "   'max_features': 'sqrt',\n",
       "   'min_samples_split': 5},\n",
       "  {'criterion': 'gini',\n",
       "   'max_depth': 11,\n",
       "   'max_features': 'sqrt',\n",
       "   'min_samples_split': 9},\n",
       "  {'criterion': 'gini',\n",
       "   'max_depth': 11,\n",
       "   'max_features': 'sqrt',\n",
       "   'min_samples_split': 13},\n",
       "  {'criterion': 'gini',\n",
       "   'max_depth': 11,\n",
       "   'max_features': 'sqrt',\n",
       "   'min_samples_split': 17},\n",
       "  {'criterion': 'gini',\n",
       "   'max_depth': 11,\n",
       "   'max_features': 'log2',\n",
       "   'min_samples_split': 1},\n",
       "  {'criterion': 'gini',\n",
       "   'max_depth': 11,\n",
       "   'max_features': 'log2',\n",
       "   'min_samples_split': 5},\n",
       "  {'criterion': 'gini',\n",
       "   'max_depth': 11,\n",
       "   'max_features': 'log2',\n",
       "   'min_samples_split': 9},\n",
       "  {'criterion': 'gini',\n",
       "   'max_depth': 11,\n",
       "   'max_features': 'log2',\n",
       "   'min_samples_split': 13},\n",
       "  {'criterion': 'gini',\n",
       "   'max_depth': 11,\n",
       "   'max_features': 'log2',\n",
       "   'min_samples_split': 17},\n",
       "  {'criterion': 'gini',\n",
       "   'max_depth': 11,\n",
       "   'max_features': None,\n",
       "   'min_samples_split': 1},\n",
       "  {'criterion': 'gini',\n",
       "   'max_depth': 11,\n",
       "   'max_features': None,\n",
       "   'min_samples_split': 5},\n",
       "  {'criterion': 'gini',\n",
       "   'max_depth': 11,\n",
       "   'max_features': None,\n",
       "   'min_samples_split': 9},\n",
       "  {'criterion': 'gini',\n",
       "   'max_depth': 11,\n",
       "   'max_features': None,\n",
       "   'min_samples_split': 13},\n",
       "  {'criterion': 'gini',\n",
       "   'max_depth': 11,\n",
       "   'max_features': None,\n",
       "   'min_samples_split': 17},\n",
       "  {'criterion': 'gini',\n",
       "   'max_depth': 21,\n",
       "   'max_features': 'sqrt',\n",
       "   'min_samples_split': 1},\n",
       "  {'criterion': 'gini',\n",
       "   'max_depth': 21,\n",
       "   'max_features': 'sqrt',\n",
       "   'min_samples_split': 5},\n",
       "  {'criterion': 'gini',\n",
       "   'max_depth': 21,\n",
       "   'max_features': 'sqrt',\n",
       "   'min_samples_split': 9},\n",
       "  {'criterion': 'gini',\n",
       "   'max_depth': 21,\n",
       "   'max_features': 'sqrt',\n",
       "   'min_samples_split': 13},\n",
       "  {'criterion': 'gini',\n",
       "   'max_depth': 21,\n",
       "   'max_features': 'sqrt',\n",
       "   'min_samples_split': 17},\n",
       "  {'criterion': 'gini',\n",
       "   'max_depth': 21,\n",
       "   'max_features': 'log2',\n",
       "   'min_samples_split': 1},\n",
       "  {'criterion': 'gini',\n",
       "   'max_depth': 21,\n",
       "   'max_features': 'log2',\n",
       "   'min_samples_split': 5},\n",
       "  {'criterion': 'gini',\n",
       "   'max_depth': 21,\n",
       "   'max_features': 'log2',\n",
       "   'min_samples_split': 9},\n",
       "  {'criterion': 'gini',\n",
       "   'max_depth': 21,\n",
       "   'max_features': 'log2',\n",
       "   'min_samples_split': 13},\n",
       "  {'criterion': 'gini',\n",
       "   'max_depth': 21,\n",
       "   'max_features': 'log2',\n",
       "   'min_samples_split': 17},\n",
       "  {'criterion': 'gini',\n",
       "   'max_depth': 21,\n",
       "   'max_features': None,\n",
       "   'min_samples_split': 1},\n",
       "  {'criterion': 'gini',\n",
       "   'max_depth': 21,\n",
       "   'max_features': None,\n",
       "   'min_samples_split': 5},\n",
       "  {'criterion': 'gini',\n",
       "   'max_depth': 21,\n",
       "   'max_features': None,\n",
       "   'min_samples_split': 9},\n",
       "  {'criterion': 'gini',\n",
       "   'max_depth': 21,\n",
       "   'max_features': None,\n",
       "   'min_samples_split': 13},\n",
       "  {'criterion': 'gini',\n",
       "   'max_depth': 21,\n",
       "   'max_features': None,\n",
       "   'min_samples_split': 17},\n",
       "  {'criterion': 'gini',\n",
       "   'max_depth': 31,\n",
       "   'max_features': 'sqrt',\n",
       "   'min_samples_split': 1},\n",
       "  {'criterion': 'gini',\n",
       "   'max_depth': 31,\n",
       "   'max_features': 'sqrt',\n",
       "   'min_samples_split': 5},\n",
       "  {'criterion': 'gini',\n",
       "   'max_depth': 31,\n",
       "   'max_features': 'sqrt',\n",
       "   'min_samples_split': 9},\n",
       "  {'criterion': 'gini',\n",
       "   'max_depth': 31,\n",
       "   'max_features': 'sqrt',\n",
       "   'min_samples_split': 13},\n",
       "  {'criterion': 'gini',\n",
       "   'max_depth': 31,\n",
       "   'max_features': 'sqrt',\n",
       "   'min_samples_split': 17},\n",
       "  {'criterion': 'gini',\n",
       "   'max_depth': 31,\n",
       "   'max_features': 'log2',\n",
       "   'min_samples_split': 1},\n",
       "  {'criterion': 'gini',\n",
       "   'max_depth': 31,\n",
       "   'max_features': 'log2',\n",
       "   'min_samples_split': 5},\n",
       "  {'criterion': 'gini',\n",
       "   'max_depth': 31,\n",
       "   'max_features': 'log2',\n",
       "   'min_samples_split': 9},\n",
       "  {'criterion': 'gini',\n",
       "   'max_depth': 31,\n",
       "   'max_features': 'log2',\n",
       "   'min_samples_split': 13},\n",
       "  {'criterion': 'gini',\n",
       "   'max_depth': 31,\n",
       "   'max_features': 'log2',\n",
       "   'min_samples_split': 17},\n",
       "  {'criterion': 'gini',\n",
       "   'max_depth': 31,\n",
       "   'max_features': None,\n",
       "   'min_samples_split': 1},\n",
       "  {'criterion': 'gini',\n",
       "   'max_depth': 31,\n",
       "   'max_features': None,\n",
       "   'min_samples_split': 5},\n",
       "  {'criterion': 'gini',\n",
       "   'max_depth': 31,\n",
       "   'max_features': None,\n",
       "   'min_samples_split': 9},\n",
       "  {'criterion': 'gini',\n",
       "   'max_depth': 31,\n",
       "   'max_features': None,\n",
       "   'min_samples_split': 13},\n",
       "  {'criterion': 'gini',\n",
       "   'max_depth': 31,\n",
       "   'max_features': None,\n",
       "   'min_samples_split': 17},\n",
       "  {'criterion': 'gini',\n",
       "   'max_depth': 41,\n",
       "   'max_features': 'sqrt',\n",
       "   'min_samples_split': 1},\n",
       "  {'criterion': 'gini',\n",
       "   'max_depth': 41,\n",
       "   'max_features': 'sqrt',\n",
       "   'min_samples_split': 5},\n",
       "  {'criterion': 'gini',\n",
       "   'max_depth': 41,\n",
       "   'max_features': 'sqrt',\n",
       "   'min_samples_split': 9},\n",
       "  {'criterion': 'gini',\n",
       "   'max_depth': 41,\n",
       "   'max_features': 'sqrt',\n",
       "   'min_samples_split': 13},\n",
       "  {'criterion': 'gini',\n",
       "   'max_depth': 41,\n",
       "   'max_features': 'sqrt',\n",
       "   'min_samples_split': 17},\n",
       "  {'criterion': 'gini',\n",
       "   'max_depth': 41,\n",
       "   'max_features': 'log2',\n",
       "   'min_samples_split': 1},\n",
       "  {'criterion': 'gini',\n",
       "   'max_depth': 41,\n",
       "   'max_features': 'log2',\n",
       "   'min_samples_split': 5},\n",
       "  {'criterion': 'gini',\n",
       "   'max_depth': 41,\n",
       "   'max_features': 'log2',\n",
       "   'min_samples_split': 9},\n",
       "  {'criterion': 'gini',\n",
       "   'max_depth': 41,\n",
       "   'max_features': 'log2',\n",
       "   'min_samples_split': 13},\n",
       "  {'criterion': 'gini',\n",
       "   'max_depth': 41,\n",
       "   'max_features': 'log2',\n",
       "   'min_samples_split': 17},\n",
       "  {'criterion': 'gini',\n",
       "   'max_depth': 41,\n",
       "   'max_features': None,\n",
       "   'min_samples_split': 1},\n",
       "  {'criterion': 'gini',\n",
       "   'max_depth': 41,\n",
       "   'max_features': None,\n",
       "   'min_samples_split': 5},\n",
       "  {'criterion': 'gini',\n",
       "   'max_depth': 41,\n",
       "   'max_features': None,\n",
       "   'min_samples_split': 9},\n",
       "  {'criterion': 'gini',\n",
       "   'max_depth': 41,\n",
       "   'max_features': None,\n",
       "   'min_samples_split': 13},\n",
       "  {'criterion': 'gini',\n",
       "   'max_depth': 41,\n",
       "   'max_features': None,\n",
       "   'min_samples_split': 17},\n",
       "  {'criterion': 'gini',\n",
       "   'max_depth': 51,\n",
       "   'max_features': 'sqrt',\n",
       "   'min_samples_split': 1},\n",
       "  {'criterion': 'gini',\n",
       "   'max_depth': 51,\n",
       "   'max_features': 'sqrt',\n",
       "   'min_samples_split': 5},\n",
       "  {'criterion': 'gini',\n",
       "   'max_depth': 51,\n",
       "   'max_features': 'sqrt',\n",
       "   'min_samples_split': 9},\n",
       "  {'criterion': 'gini',\n",
       "   'max_depth': 51,\n",
       "   'max_features': 'sqrt',\n",
       "   'min_samples_split': 13},\n",
       "  {'criterion': 'gini',\n",
       "   'max_depth': 51,\n",
       "   'max_features': 'sqrt',\n",
       "   'min_samples_split': 17},\n",
       "  {'criterion': 'gini',\n",
       "   'max_depth': 51,\n",
       "   'max_features': 'log2',\n",
       "   'min_samples_split': 1},\n",
       "  {'criterion': 'gini',\n",
       "   'max_depth': 51,\n",
       "   'max_features': 'log2',\n",
       "   'min_samples_split': 5},\n",
       "  {'criterion': 'gini',\n",
       "   'max_depth': 51,\n",
       "   'max_features': 'log2',\n",
       "   'min_samples_split': 9},\n",
       "  {'criterion': 'gini',\n",
       "   'max_depth': 51,\n",
       "   'max_features': 'log2',\n",
       "   'min_samples_split': 13},\n",
       "  {'criterion': 'gini',\n",
       "   'max_depth': 51,\n",
       "   'max_features': 'log2',\n",
       "   'min_samples_split': 17},\n",
       "  {'criterion': 'gini',\n",
       "   'max_depth': 51,\n",
       "   'max_features': None,\n",
       "   'min_samples_split': 1},\n",
       "  {'criterion': 'gini',\n",
       "   'max_depth': 51,\n",
       "   'max_features': None,\n",
       "   'min_samples_split': 5},\n",
       "  {'criterion': 'gini',\n",
       "   'max_depth': 51,\n",
       "   'max_features': None,\n",
       "   'min_samples_split': 9},\n",
       "  {'criterion': 'gini',\n",
       "   'max_depth': 51,\n",
       "   'max_features': None,\n",
       "   'min_samples_split': 13},\n",
       "  {'criterion': 'gini',\n",
       "   'max_depth': 51,\n",
       "   'max_features': None,\n",
       "   'min_samples_split': 17},\n",
       "  {'criterion': 'gini',\n",
       "   'max_depth': 61,\n",
       "   'max_features': 'sqrt',\n",
       "   'min_samples_split': 1},\n",
       "  {'criterion': 'gini',\n",
       "   'max_depth': 61,\n",
       "   'max_features': 'sqrt',\n",
       "   'min_samples_split': 5},\n",
       "  {'criterion': 'gini',\n",
       "   'max_depth': 61,\n",
       "   'max_features': 'sqrt',\n",
       "   'min_samples_split': 9},\n",
       "  {'criterion': 'gini',\n",
       "   'max_depth': 61,\n",
       "   'max_features': 'sqrt',\n",
       "   'min_samples_split': 13},\n",
       "  {'criterion': 'gini',\n",
       "   'max_depth': 61,\n",
       "   'max_features': 'sqrt',\n",
       "   'min_samples_split': 17},\n",
       "  {'criterion': 'gini',\n",
       "   'max_depth': 61,\n",
       "   'max_features': 'log2',\n",
       "   'min_samples_split': 1},\n",
       "  {'criterion': 'gini',\n",
       "   'max_depth': 61,\n",
       "   'max_features': 'log2',\n",
       "   'min_samples_split': 5},\n",
       "  {'criterion': 'gini',\n",
       "   'max_depth': 61,\n",
       "   'max_features': 'log2',\n",
       "   'min_samples_split': 9},\n",
       "  {'criterion': 'gini',\n",
       "   'max_depth': 61,\n",
       "   'max_features': 'log2',\n",
       "   'min_samples_split': 13},\n",
       "  {'criterion': 'gini',\n",
       "   'max_depth': 61,\n",
       "   'max_features': 'log2',\n",
       "   'min_samples_split': 17},\n",
       "  {'criterion': 'gini',\n",
       "   'max_depth': 61,\n",
       "   'max_features': None,\n",
       "   'min_samples_split': 1},\n",
       "  {'criterion': 'gini',\n",
       "   'max_depth': 61,\n",
       "   'max_features': None,\n",
       "   'min_samples_split': 5},\n",
       "  {'criterion': 'gini',\n",
       "   'max_depth': 61,\n",
       "   'max_features': None,\n",
       "   'min_samples_split': 9},\n",
       "  {'criterion': 'gini',\n",
       "   'max_depth': 61,\n",
       "   'max_features': None,\n",
       "   'min_samples_split': 13},\n",
       "  {'criterion': 'gini',\n",
       "   'max_depth': 61,\n",
       "   'max_features': None,\n",
       "   'min_samples_split': 17},\n",
       "  {'criterion': 'gini',\n",
       "   'max_depth': 71,\n",
       "   'max_features': 'sqrt',\n",
       "   'min_samples_split': 1},\n",
       "  {'criterion': 'gini',\n",
       "   'max_depth': 71,\n",
       "   'max_features': 'sqrt',\n",
       "   'min_samples_split': 5},\n",
       "  {'criterion': 'gini',\n",
       "   'max_depth': 71,\n",
       "   'max_features': 'sqrt',\n",
       "   'min_samples_split': 9},\n",
       "  {'criterion': 'gini',\n",
       "   'max_depth': 71,\n",
       "   'max_features': 'sqrt',\n",
       "   'min_samples_split': 13},\n",
       "  {'criterion': 'gini',\n",
       "   'max_depth': 71,\n",
       "   'max_features': 'sqrt',\n",
       "   'min_samples_split': 17},\n",
       "  {'criterion': 'gini',\n",
       "   'max_depth': 71,\n",
       "   'max_features': 'log2',\n",
       "   'min_samples_split': 1},\n",
       "  {'criterion': 'gini',\n",
       "   'max_depth': 71,\n",
       "   'max_features': 'log2',\n",
       "   'min_samples_split': 5},\n",
       "  {'criterion': 'gini',\n",
       "   'max_depth': 71,\n",
       "   'max_features': 'log2',\n",
       "   'min_samples_split': 9},\n",
       "  {'criterion': 'gini',\n",
       "   'max_depth': 71,\n",
       "   'max_features': 'log2',\n",
       "   'min_samples_split': 13},\n",
       "  {'criterion': 'gini',\n",
       "   'max_depth': 71,\n",
       "   'max_features': 'log2',\n",
       "   'min_samples_split': 17},\n",
       "  {'criterion': 'gini',\n",
       "   'max_depth': 71,\n",
       "   'max_features': None,\n",
       "   'min_samples_split': 1},\n",
       "  {'criterion': 'gini',\n",
       "   'max_depth': 71,\n",
       "   'max_features': None,\n",
       "   'min_samples_split': 5},\n",
       "  {'criterion': 'gini',\n",
       "   'max_depth': 71,\n",
       "   'max_features': None,\n",
       "   'min_samples_split': 9},\n",
       "  {'criterion': 'gini',\n",
       "   'max_depth': 71,\n",
       "   'max_features': None,\n",
       "   'min_samples_split': 13},\n",
       "  {'criterion': 'gini',\n",
       "   'max_depth': 71,\n",
       "   'max_features': None,\n",
       "   'min_samples_split': 17},\n",
       "  {'criterion': 'gini',\n",
       "   'max_depth': 81,\n",
       "   'max_features': 'sqrt',\n",
       "   'min_samples_split': 1},\n",
       "  {'criterion': 'gini',\n",
       "   'max_depth': 81,\n",
       "   'max_features': 'sqrt',\n",
       "   'min_samples_split': 5},\n",
       "  {'criterion': 'gini',\n",
       "   'max_depth': 81,\n",
       "   'max_features': 'sqrt',\n",
       "   'min_samples_split': 9},\n",
       "  {'criterion': 'gini',\n",
       "   'max_depth': 81,\n",
       "   'max_features': 'sqrt',\n",
       "   'min_samples_split': 13},\n",
       "  {'criterion': 'gini',\n",
       "   'max_depth': 81,\n",
       "   'max_features': 'sqrt',\n",
       "   'min_samples_split': 17},\n",
       "  {'criterion': 'gini',\n",
       "   'max_depth': 81,\n",
       "   'max_features': 'log2',\n",
       "   'min_samples_split': 1},\n",
       "  {'criterion': 'gini',\n",
       "   'max_depth': 81,\n",
       "   'max_features': 'log2',\n",
       "   'min_samples_split': 5},\n",
       "  {'criterion': 'gini',\n",
       "   'max_depth': 81,\n",
       "   'max_features': 'log2',\n",
       "   'min_samples_split': 9},\n",
       "  {'criterion': 'gini',\n",
       "   'max_depth': 81,\n",
       "   'max_features': 'log2',\n",
       "   'min_samples_split': 13},\n",
       "  {'criterion': 'gini',\n",
       "   'max_depth': 81,\n",
       "   'max_features': 'log2',\n",
       "   'min_samples_split': 17},\n",
       "  {'criterion': 'gini',\n",
       "   'max_depth': 81,\n",
       "   'max_features': None,\n",
       "   'min_samples_split': 1},\n",
       "  {'criterion': 'gini',\n",
       "   'max_depth': 81,\n",
       "   'max_features': None,\n",
       "   'min_samples_split': 5},\n",
       "  {'criterion': 'gini',\n",
       "   'max_depth': 81,\n",
       "   'max_features': None,\n",
       "   'min_samples_split': 9},\n",
       "  {'criterion': 'gini',\n",
       "   'max_depth': 81,\n",
       "   'max_features': None,\n",
       "   'min_samples_split': 13},\n",
       "  {'criterion': 'gini',\n",
       "   'max_depth': 81,\n",
       "   'max_features': None,\n",
       "   'min_samples_split': 17},\n",
       "  {'criterion': 'gini',\n",
       "   'max_depth': 91,\n",
       "   'max_features': 'sqrt',\n",
       "   'min_samples_split': 1},\n",
       "  {'criterion': 'gini',\n",
       "   'max_depth': 91,\n",
       "   'max_features': 'sqrt',\n",
       "   'min_samples_split': 5},\n",
       "  {'criterion': 'gini',\n",
       "   'max_depth': 91,\n",
       "   'max_features': 'sqrt',\n",
       "   'min_samples_split': 9},\n",
       "  {'criterion': 'gini',\n",
       "   'max_depth': 91,\n",
       "   'max_features': 'sqrt',\n",
       "   'min_samples_split': 13},\n",
       "  {'criterion': 'gini',\n",
       "   'max_depth': 91,\n",
       "   'max_features': 'sqrt',\n",
       "   'min_samples_split': 17},\n",
       "  {'criterion': 'gini',\n",
       "   'max_depth': 91,\n",
       "   'max_features': 'log2',\n",
       "   'min_samples_split': 1},\n",
       "  {'criterion': 'gini',\n",
       "   'max_depth': 91,\n",
       "   'max_features': 'log2',\n",
       "   'min_samples_split': 5},\n",
       "  {'criterion': 'gini',\n",
       "   'max_depth': 91,\n",
       "   'max_features': 'log2',\n",
       "   'min_samples_split': 9},\n",
       "  {'criterion': 'gini',\n",
       "   'max_depth': 91,\n",
       "   'max_features': 'log2',\n",
       "   'min_samples_split': 13},\n",
       "  {'criterion': 'gini',\n",
       "   'max_depth': 91,\n",
       "   'max_features': 'log2',\n",
       "   'min_samples_split': 17},\n",
       "  {'criterion': 'gini',\n",
       "   'max_depth': 91,\n",
       "   'max_features': None,\n",
       "   'min_samples_split': 1},\n",
       "  {'criterion': 'gini',\n",
       "   'max_depth': 91,\n",
       "   'max_features': None,\n",
       "   'min_samples_split': 5},\n",
       "  {'criterion': 'gini',\n",
       "   'max_depth': 91,\n",
       "   'max_features': None,\n",
       "   'min_samples_split': 9},\n",
       "  {'criterion': 'gini',\n",
       "   'max_depth': 91,\n",
       "   'max_features': None,\n",
       "   'min_samples_split': 13},\n",
       "  {'criterion': 'gini',\n",
       "   'max_depth': 91,\n",
       "   'max_features': None,\n",
       "   'min_samples_split': 17},\n",
       "  {'criterion': 'entropy',\n",
       "   'max_depth': None,\n",
       "   'max_features': 'sqrt',\n",
       "   'min_samples_split': 1},\n",
       "  {'criterion': 'entropy',\n",
       "   'max_depth': None,\n",
       "   'max_features': 'sqrt',\n",
       "   'min_samples_split': 5},\n",
       "  {'criterion': 'entropy',\n",
       "   'max_depth': None,\n",
       "   'max_features': 'sqrt',\n",
       "   'min_samples_split': 9},\n",
       "  {'criterion': 'entropy',\n",
       "   'max_depth': None,\n",
       "   'max_features': 'sqrt',\n",
       "   'min_samples_split': 13},\n",
       "  {'criterion': 'entropy',\n",
       "   'max_depth': None,\n",
       "   'max_features': 'sqrt',\n",
       "   'min_samples_split': 17},\n",
       "  {'criterion': 'entropy',\n",
       "   'max_depth': None,\n",
       "   'max_features': 'log2',\n",
       "   'min_samples_split': 1},\n",
       "  {'criterion': 'entropy',\n",
       "   'max_depth': None,\n",
       "   'max_features': 'log2',\n",
       "   'min_samples_split': 5},\n",
       "  {'criterion': 'entropy',\n",
       "   'max_depth': None,\n",
       "   'max_features': 'log2',\n",
       "   'min_samples_split': 9},\n",
       "  {'criterion': 'entropy',\n",
       "   'max_depth': None,\n",
       "   'max_features': 'log2',\n",
       "   'min_samples_split': 13},\n",
       "  {'criterion': 'entropy',\n",
       "   'max_depth': None,\n",
       "   'max_features': 'log2',\n",
       "   'min_samples_split': 17},\n",
       "  {'criterion': 'entropy',\n",
       "   'max_depth': None,\n",
       "   'max_features': None,\n",
       "   'min_samples_split': 1},\n",
       "  {'criterion': 'entropy',\n",
       "   'max_depth': None,\n",
       "   'max_features': None,\n",
       "   'min_samples_split': 5},\n",
       "  {'criterion': 'entropy',\n",
       "   'max_depth': None,\n",
       "   'max_features': None,\n",
       "   'min_samples_split': 9},\n",
       "  {'criterion': 'entropy',\n",
       "   'max_depth': None,\n",
       "   'max_features': None,\n",
       "   'min_samples_split': 13},\n",
       "  {'criterion': 'entropy',\n",
       "   'max_depth': None,\n",
       "   'max_features': None,\n",
       "   'min_samples_split': 17},\n",
       "  {'criterion': 'entropy',\n",
       "   'max_depth': 1,\n",
       "   'max_features': 'sqrt',\n",
       "   'min_samples_split': 1},\n",
       "  {'criterion': 'entropy',\n",
       "   'max_depth': 1,\n",
       "   'max_features': 'sqrt',\n",
       "   'min_samples_split': 5},\n",
       "  {'criterion': 'entropy',\n",
       "   'max_depth': 1,\n",
       "   'max_features': 'sqrt',\n",
       "   'min_samples_split': 9},\n",
       "  {'criterion': 'entropy',\n",
       "   'max_depth': 1,\n",
       "   'max_features': 'sqrt',\n",
       "   'min_samples_split': 13},\n",
       "  {'criterion': 'entropy',\n",
       "   'max_depth': 1,\n",
       "   'max_features': 'sqrt',\n",
       "   'min_samples_split': 17},\n",
       "  {'criterion': 'entropy',\n",
       "   'max_depth': 1,\n",
       "   'max_features': 'log2',\n",
       "   'min_samples_split': 1},\n",
       "  {'criterion': 'entropy',\n",
       "   'max_depth': 1,\n",
       "   'max_features': 'log2',\n",
       "   'min_samples_split': 5},\n",
       "  {'criterion': 'entropy',\n",
       "   'max_depth': 1,\n",
       "   'max_features': 'log2',\n",
       "   'min_samples_split': 9},\n",
       "  {'criterion': 'entropy',\n",
       "   'max_depth': 1,\n",
       "   'max_features': 'log2',\n",
       "   'min_samples_split': 13},\n",
       "  {'criterion': 'entropy',\n",
       "   'max_depth': 1,\n",
       "   'max_features': 'log2',\n",
       "   'min_samples_split': 17},\n",
       "  {'criterion': 'entropy',\n",
       "   'max_depth': 1,\n",
       "   'max_features': None,\n",
       "   'min_samples_split': 1},\n",
       "  {'criterion': 'entropy',\n",
       "   'max_depth': 1,\n",
       "   'max_features': None,\n",
       "   'min_samples_split': 5},\n",
       "  {'criterion': 'entropy',\n",
       "   'max_depth': 1,\n",
       "   'max_features': None,\n",
       "   'min_samples_split': 9},\n",
       "  {'criterion': 'entropy',\n",
       "   'max_depth': 1,\n",
       "   'max_features': None,\n",
       "   'min_samples_split': 13},\n",
       "  {'criterion': 'entropy',\n",
       "   'max_depth': 1,\n",
       "   'max_features': None,\n",
       "   'min_samples_split': 17},\n",
       "  {'criterion': 'entropy',\n",
       "   'max_depth': 11,\n",
       "   'max_features': 'sqrt',\n",
       "   'min_samples_split': 1},\n",
       "  {'criterion': 'entropy',\n",
       "   'max_depth': 11,\n",
       "   'max_features': 'sqrt',\n",
       "   'min_samples_split': 5},\n",
       "  {'criterion': 'entropy',\n",
       "   'max_depth': 11,\n",
       "   'max_features': 'sqrt',\n",
       "   'min_samples_split': 9},\n",
       "  {'criterion': 'entropy',\n",
       "   'max_depth': 11,\n",
       "   'max_features': 'sqrt',\n",
       "   'min_samples_split': 13},\n",
       "  {'criterion': 'entropy',\n",
       "   'max_depth': 11,\n",
       "   'max_features': 'sqrt',\n",
       "   'min_samples_split': 17},\n",
       "  {'criterion': 'entropy',\n",
       "   'max_depth': 11,\n",
       "   'max_features': 'log2',\n",
       "   'min_samples_split': 1},\n",
       "  {'criterion': 'entropy',\n",
       "   'max_depth': 11,\n",
       "   'max_features': 'log2',\n",
       "   'min_samples_split': 5},\n",
       "  {'criterion': 'entropy',\n",
       "   'max_depth': 11,\n",
       "   'max_features': 'log2',\n",
       "   'min_samples_split': 9},\n",
       "  {'criterion': 'entropy',\n",
       "   'max_depth': 11,\n",
       "   'max_features': 'log2',\n",
       "   'min_samples_split': 13},\n",
       "  {'criterion': 'entropy',\n",
       "   'max_depth': 11,\n",
       "   'max_features': 'log2',\n",
       "   'min_samples_split': 17},\n",
       "  {'criterion': 'entropy',\n",
       "   'max_depth': 11,\n",
       "   'max_features': None,\n",
       "   'min_samples_split': 1},\n",
       "  {'criterion': 'entropy',\n",
       "   'max_depth': 11,\n",
       "   'max_features': None,\n",
       "   'min_samples_split': 5},\n",
       "  {'criterion': 'entropy',\n",
       "   'max_depth': 11,\n",
       "   'max_features': None,\n",
       "   'min_samples_split': 9},\n",
       "  {'criterion': 'entropy',\n",
       "   'max_depth': 11,\n",
       "   'max_features': None,\n",
       "   'min_samples_split': 13},\n",
       "  {'criterion': 'entropy',\n",
       "   'max_depth': 11,\n",
       "   'max_features': None,\n",
       "   'min_samples_split': 17},\n",
       "  {'criterion': 'entropy',\n",
       "   'max_depth': 21,\n",
       "   'max_features': 'sqrt',\n",
       "   'min_samples_split': 1},\n",
       "  {'criterion': 'entropy',\n",
       "   'max_depth': 21,\n",
       "   'max_features': 'sqrt',\n",
       "   'min_samples_split': 5},\n",
       "  {'criterion': 'entropy',\n",
       "   'max_depth': 21,\n",
       "   'max_features': 'sqrt',\n",
       "   'min_samples_split': 9},\n",
       "  {'criterion': 'entropy',\n",
       "   'max_depth': 21,\n",
       "   'max_features': 'sqrt',\n",
       "   'min_samples_split': 13},\n",
       "  {'criterion': 'entropy',\n",
       "   'max_depth': 21,\n",
       "   'max_features': 'sqrt',\n",
       "   'min_samples_split': 17},\n",
       "  {'criterion': 'entropy',\n",
       "   'max_depth': 21,\n",
       "   'max_features': 'log2',\n",
       "   'min_samples_split': 1},\n",
       "  {'criterion': 'entropy',\n",
       "   'max_depth': 21,\n",
       "   'max_features': 'log2',\n",
       "   'min_samples_split': 5},\n",
       "  {'criterion': 'entropy',\n",
       "   'max_depth': 21,\n",
       "   'max_features': 'log2',\n",
       "   'min_samples_split': 9},\n",
       "  {'criterion': 'entropy',\n",
       "   'max_depth': 21,\n",
       "   'max_features': 'log2',\n",
       "   'min_samples_split': 13},\n",
       "  {'criterion': 'entropy',\n",
       "   'max_depth': 21,\n",
       "   'max_features': 'log2',\n",
       "   'min_samples_split': 17},\n",
       "  {'criterion': 'entropy',\n",
       "   'max_depth': 21,\n",
       "   'max_features': None,\n",
       "   'min_samples_split': 1},\n",
       "  {'criterion': 'entropy',\n",
       "   'max_depth': 21,\n",
       "   'max_features': None,\n",
       "   'min_samples_split': 5},\n",
       "  {'criterion': 'entropy',\n",
       "   'max_depth': 21,\n",
       "   'max_features': None,\n",
       "   'min_samples_split': 9},\n",
       "  {'criterion': 'entropy',\n",
       "   'max_depth': 21,\n",
       "   'max_features': None,\n",
       "   'min_samples_split': 13},\n",
       "  {'criterion': 'entropy',\n",
       "   'max_depth': 21,\n",
       "   'max_features': None,\n",
       "   'min_samples_split': 17},\n",
       "  {'criterion': 'entropy',\n",
       "   'max_depth': 31,\n",
       "   'max_features': 'sqrt',\n",
       "   'min_samples_split': 1},\n",
       "  {'criterion': 'entropy',\n",
       "   'max_depth': 31,\n",
       "   'max_features': 'sqrt',\n",
       "   'min_samples_split': 5},\n",
       "  {'criterion': 'entropy',\n",
       "   'max_depth': 31,\n",
       "   'max_features': 'sqrt',\n",
       "   'min_samples_split': 9},\n",
       "  {'criterion': 'entropy',\n",
       "   'max_depth': 31,\n",
       "   'max_features': 'sqrt',\n",
       "   'min_samples_split': 13},\n",
       "  {'criterion': 'entropy',\n",
       "   'max_depth': 31,\n",
       "   'max_features': 'sqrt',\n",
       "   'min_samples_split': 17},\n",
       "  {'criterion': 'entropy',\n",
       "   'max_depth': 31,\n",
       "   'max_features': 'log2',\n",
       "   'min_samples_split': 1},\n",
       "  {'criterion': 'entropy',\n",
       "   'max_depth': 31,\n",
       "   'max_features': 'log2',\n",
       "   'min_samples_split': 5},\n",
       "  {'criterion': 'entropy',\n",
       "   'max_depth': 31,\n",
       "   'max_features': 'log2',\n",
       "   'min_samples_split': 9},\n",
       "  {'criterion': 'entropy',\n",
       "   'max_depth': 31,\n",
       "   'max_features': 'log2',\n",
       "   'min_samples_split': 13},\n",
       "  {'criterion': 'entropy',\n",
       "   'max_depth': 31,\n",
       "   'max_features': 'log2',\n",
       "   'min_samples_split': 17},\n",
       "  {'criterion': 'entropy',\n",
       "   'max_depth': 31,\n",
       "   'max_features': None,\n",
       "   'min_samples_split': 1},\n",
       "  {'criterion': 'entropy',\n",
       "   'max_depth': 31,\n",
       "   'max_features': None,\n",
       "   'min_samples_split': 5},\n",
       "  {'criterion': 'entropy',\n",
       "   'max_depth': 31,\n",
       "   'max_features': None,\n",
       "   'min_samples_split': 9},\n",
       "  {'criterion': 'entropy',\n",
       "   'max_depth': 31,\n",
       "   'max_features': None,\n",
       "   'min_samples_split': 13},\n",
       "  {'criterion': 'entropy',\n",
       "   'max_depth': 31,\n",
       "   'max_features': None,\n",
       "   'min_samples_split': 17},\n",
       "  {'criterion': 'entropy',\n",
       "   'max_depth': 41,\n",
       "   'max_features': 'sqrt',\n",
       "   'min_samples_split': 1},\n",
       "  {'criterion': 'entropy',\n",
       "   'max_depth': 41,\n",
       "   'max_features': 'sqrt',\n",
       "   'min_samples_split': 5},\n",
       "  {'criterion': 'entropy',\n",
       "   'max_depth': 41,\n",
       "   'max_features': 'sqrt',\n",
       "   'min_samples_split': 9},\n",
       "  {'criterion': 'entropy',\n",
       "   'max_depth': 41,\n",
       "   'max_features': 'sqrt',\n",
       "   'min_samples_split': 13},\n",
       "  {'criterion': 'entropy',\n",
       "   'max_depth': 41,\n",
       "   'max_features': 'sqrt',\n",
       "   'min_samples_split': 17},\n",
       "  {'criterion': 'entropy',\n",
       "   'max_depth': 41,\n",
       "   'max_features': 'log2',\n",
       "   'min_samples_split': 1},\n",
       "  {'criterion': 'entropy',\n",
       "   'max_depth': 41,\n",
       "   'max_features': 'log2',\n",
       "   'min_samples_split': 5},\n",
       "  {'criterion': 'entropy',\n",
       "   'max_depth': 41,\n",
       "   'max_features': 'log2',\n",
       "   'min_samples_split': 9},\n",
       "  {'criterion': 'entropy',\n",
       "   'max_depth': 41,\n",
       "   'max_features': 'log2',\n",
       "   'min_samples_split': 13},\n",
       "  {'criterion': 'entropy',\n",
       "   'max_depth': 41,\n",
       "   'max_features': 'log2',\n",
       "   'min_samples_split': 17},\n",
       "  {'criterion': 'entropy',\n",
       "   'max_depth': 41,\n",
       "   'max_features': None,\n",
       "   'min_samples_split': 1},\n",
       "  {'criterion': 'entropy',\n",
       "   'max_depth': 41,\n",
       "   'max_features': None,\n",
       "   'min_samples_split': 5},\n",
       "  {'criterion': 'entropy',\n",
       "   'max_depth': 41,\n",
       "   'max_features': None,\n",
       "   'min_samples_split': 9},\n",
       "  {'criterion': 'entropy',\n",
       "   'max_depth': 41,\n",
       "   'max_features': None,\n",
       "   'min_samples_split': 13},\n",
       "  {'criterion': 'entropy',\n",
       "   'max_depth': 41,\n",
       "   'max_features': None,\n",
       "   'min_samples_split': 17},\n",
       "  {'criterion': 'entropy',\n",
       "   'max_depth': 51,\n",
       "   'max_features': 'sqrt',\n",
       "   'min_samples_split': 1},\n",
       "  {'criterion': 'entropy',\n",
       "   'max_depth': 51,\n",
       "   'max_features': 'sqrt',\n",
       "   'min_samples_split': 5},\n",
       "  {'criterion': 'entropy',\n",
       "   'max_depth': 51,\n",
       "   'max_features': 'sqrt',\n",
       "   'min_samples_split': 9},\n",
       "  {'criterion': 'entropy',\n",
       "   'max_depth': 51,\n",
       "   'max_features': 'sqrt',\n",
       "   'min_samples_split': 13},\n",
       "  {'criterion': 'entropy',\n",
       "   'max_depth': 51,\n",
       "   'max_features': 'sqrt',\n",
       "   'min_samples_split': 17},\n",
       "  {'criterion': 'entropy',\n",
       "   'max_depth': 51,\n",
       "   'max_features': 'log2',\n",
       "   'min_samples_split': 1},\n",
       "  {'criterion': 'entropy',\n",
       "   'max_depth': 51,\n",
       "   'max_features': 'log2',\n",
       "   'min_samples_split': 5},\n",
       "  {'criterion': 'entropy',\n",
       "   'max_depth': 51,\n",
       "   'max_features': 'log2',\n",
       "   'min_samples_split': 9},\n",
       "  {'criterion': 'entropy',\n",
       "   'max_depth': 51,\n",
       "   'max_features': 'log2',\n",
       "   'min_samples_split': 13},\n",
       "  {'criterion': 'entropy',\n",
       "   'max_depth': 51,\n",
       "   'max_features': 'log2',\n",
       "   'min_samples_split': 17},\n",
       "  {'criterion': 'entropy',\n",
       "   'max_depth': 51,\n",
       "   'max_features': None,\n",
       "   'min_samples_split': 1},\n",
       "  {'criterion': 'entropy',\n",
       "   'max_depth': 51,\n",
       "   'max_features': None,\n",
       "   'min_samples_split': 5},\n",
       "  {'criterion': 'entropy',\n",
       "   'max_depth': 51,\n",
       "   'max_features': None,\n",
       "   'min_samples_split': 9},\n",
       "  {'criterion': 'entropy',\n",
       "   'max_depth': 51,\n",
       "   'max_features': None,\n",
       "   'min_samples_split': 13},\n",
       "  {'criterion': 'entropy',\n",
       "   'max_depth': 51,\n",
       "   'max_features': None,\n",
       "   'min_samples_split': 17},\n",
       "  {'criterion': 'entropy',\n",
       "   'max_depth': 61,\n",
       "   'max_features': 'sqrt',\n",
       "   'min_samples_split': 1},\n",
       "  {'criterion': 'entropy',\n",
       "   'max_depth': 61,\n",
       "   'max_features': 'sqrt',\n",
       "   'min_samples_split': 5},\n",
       "  {'criterion': 'entropy',\n",
       "   'max_depth': 61,\n",
       "   'max_features': 'sqrt',\n",
       "   'min_samples_split': 9},\n",
       "  {'criterion': 'entropy',\n",
       "   'max_depth': 61,\n",
       "   'max_features': 'sqrt',\n",
       "   'min_samples_split': 13},\n",
       "  {'criterion': 'entropy',\n",
       "   'max_depth': 61,\n",
       "   'max_features': 'sqrt',\n",
       "   'min_samples_split': 17},\n",
       "  {'criterion': 'entropy',\n",
       "   'max_depth': 61,\n",
       "   'max_features': 'log2',\n",
       "   'min_samples_split': 1},\n",
       "  {'criterion': 'entropy',\n",
       "   'max_depth': 61,\n",
       "   'max_features': 'log2',\n",
       "   'min_samples_split': 5},\n",
       "  {'criterion': 'entropy',\n",
       "   'max_depth': 61,\n",
       "   'max_features': 'log2',\n",
       "   'min_samples_split': 9},\n",
       "  {'criterion': 'entropy',\n",
       "   'max_depth': 61,\n",
       "   'max_features': 'log2',\n",
       "   'min_samples_split': 13},\n",
       "  {'criterion': 'entropy',\n",
       "   'max_depth': 61,\n",
       "   'max_features': 'log2',\n",
       "   'min_samples_split': 17},\n",
       "  {'criterion': 'entropy',\n",
       "   'max_depth': 61,\n",
       "   'max_features': None,\n",
       "   'min_samples_split': 1},\n",
       "  {'criterion': 'entropy',\n",
       "   'max_depth': 61,\n",
       "   'max_features': None,\n",
       "   'min_samples_split': 5},\n",
       "  {'criterion': 'entropy',\n",
       "   'max_depth': 61,\n",
       "   'max_features': None,\n",
       "   'min_samples_split': 9},\n",
       "  {'criterion': 'entropy',\n",
       "   'max_depth': 61,\n",
       "   'max_features': None,\n",
       "   'min_samples_split': 13},\n",
       "  {'criterion': 'entropy',\n",
       "   'max_depth': 61,\n",
       "   'max_features': None,\n",
       "   'min_samples_split': 17},\n",
       "  {'criterion': 'entropy',\n",
       "   'max_depth': 71,\n",
       "   'max_features': 'sqrt',\n",
       "   'min_samples_split': 1},\n",
       "  {'criterion': 'entropy',\n",
       "   'max_depth': 71,\n",
       "   'max_features': 'sqrt',\n",
       "   'min_samples_split': 5},\n",
       "  {'criterion': 'entropy',\n",
       "   'max_depth': 71,\n",
       "   'max_features': 'sqrt',\n",
       "   'min_samples_split': 9},\n",
       "  {'criterion': 'entropy',\n",
       "   'max_depth': 71,\n",
       "   'max_features': 'sqrt',\n",
       "   'min_samples_split': 13},\n",
       "  {'criterion': 'entropy',\n",
       "   'max_depth': 71,\n",
       "   'max_features': 'sqrt',\n",
       "   'min_samples_split': 17},\n",
       "  {'criterion': 'entropy',\n",
       "   'max_depth': 71,\n",
       "   'max_features': 'log2',\n",
       "   'min_samples_split': 1},\n",
       "  {'criterion': 'entropy',\n",
       "   'max_depth': 71,\n",
       "   'max_features': 'log2',\n",
       "   'min_samples_split': 5},\n",
       "  {'criterion': 'entropy',\n",
       "   'max_depth': 71,\n",
       "   'max_features': 'log2',\n",
       "   'min_samples_split': 9},\n",
       "  {'criterion': 'entropy',\n",
       "   'max_depth': 71,\n",
       "   'max_features': 'log2',\n",
       "   'min_samples_split': 13},\n",
       "  {'criterion': 'entropy',\n",
       "   'max_depth': 71,\n",
       "   'max_features': 'log2',\n",
       "   'min_samples_split': 17},\n",
       "  {'criterion': 'entropy',\n",
       "   'max_depth': 71,\n",
       "   'max_features': None,\n",
       "   'min_samples_split': 1},\n",
       "  {'criterion': 'entropy',\n",
       "   'max_depth': 71,\n",
       "   'max_features': None,\n",
       "   'min_samples_split': 5},\n",
       "  {'criterion': 'entropy',\n",
       "   'max_depth': 71,\n",
       "   'max_features': None,\n",
       "   'min_samples_split': 9},\n",
       "  {'criterion': 'entropy',\n",
       "   'max_depth': 71,\n",
       "   'max_features': None,\n",
       "   'min_samples_split': 13},\n",
       "  {'criterion': 'entropy',\n",
       "   'max_depth': 71,\n",
       "   'max_features': None,\n",
       "   'min_samples_split': 17},\n",
       "  {'criterion': 'entropy',\n",
       "   'max_depth': 81,\n",
       "   'max_features': 'sqrt',\n",
       "   'min_samples_split': 1},\n",
       "  {'criterion': 'entropy',\n",
       "   'max_depth': 81,\n",
       "   'max_features': 'sqrt',\n",
       "   'min_samples_split': 5},\n",
       "  {'criterion': 'entropy',\n",
       "   'max_depth': 81,\n",
       "   'max_features': 'sqrt',\n",
       "   'min_samples_split': 9},\n",
       "  {'criterion': 'entropy',\n",
       "   'max_depth': 81,\n",
       "   'max_features': 'sqrt',\n",
       "   'min_samples_split': 13},\n",
       "  {'criterion': 'entropy',\n",
       "   'max_depth': 81,\n",
       "   'max_features': 'sqrt',\n",
       "   'min_samples_split': 17},\n",
       "  {'criterion': 'entropy',\n",
       "   'max_depth': 81,\n",
       "   'max_features': 'log2',\n",
       "   'min_samples_split': 1},\n",
       "  {'criterion': 'entropy',\n",
       "   'max_depth': 81,\n",
       "   'max_features': 'log2',\n",
       "   'min_samples_split': 5},\n",
       "  {'criterion': 'entropy',\n",
       "   'max_depth': 81,\n",
       "   'max_features': 'log2',\n",
       "   'min_samples_split': 9},\n",
       "  {'criterion': 'entropy',\n",
       "   'max_depth': 81,\n",
       "   'max_features': 'log2',\n",
       "   'min_samples_split': 13},\n",
       "  {'criterion': 'entropy',\n",
       "   'max_depth': 81,\n",
       "   'max_features': 'log2',\n",
       "   'min_samples_split': 17},\n",
       "  {'criterion': 'entropy',\n",
       "   'max_depth': 81,\n",
       "   'max_features': None,\n",
       "   'min_samples_split': 1},\n",
       "  {'criterion': 'entropy',\n",
       "   'max_depth': 81,\n",
       "   'max_features': None,\n",
       "   'min_samples_split': 5},\n",
       "  {'criterion': 'entropy',\n",
       "   'max_depth': 81,\n",
       "   'max_features': None,\n",
       "   'min_samples_split': 9},\n",
       "  {'criterion': 'entropy',\n",
       "   'max_depth': 81,\n",
       "   'max_features': None,\n",
       "   'min_samples_split': 13},\n",
       "  {'criterion': 'entropy',\n",
       "   'max_depth': 81,\n",
       "   'max_features': None,\n",
       "   'min_samples_split': 17},\n",
       "  {'criterion': 'entropy',\n",
       "   'max_depth': 91,\n",
       "   'max_features': 'sqrt',\n",
       "   'min_samples_split': 1},\n",
       "  {'criterion': 'entropy',\n",
       "   'max_depth': 91,\n",
       "   'max_features': 'sqrt',\n",
       "   'min_samples_split': 5},\n",
       "  {'criterion': 'entropy',\n",
       "   'max_depth': 91,\n",
       "   'max_features': 'sqrt',\n",
       "   'min_samples_split': 9},\n",
       "  {'criterion': 'entropy',\n",
       "   'max_depth': 91,\n",
       "   'max_features': 'sqrt',\n",
       "   'min_samples_split': 13},\n",
       "  {'criterion': 'entropy',\n",
       "   'max_depth': 91,\n",
       "   'max_features': 'sqrt',\n",
       "   'min_samples_split': 17},\n",
       "  {'criterion': 'entropy',\n",
       "   'max_depth': 91,\n",
       "   'max_features': 'log2',\n",
       "   'min_samples_split': 1},\n",
       "  {'criterion': 'entropy',\n",
       "   'max_depth': 91,\n",
       "   'max_features': 'log2',\n",
       "   'min_samples_split': 5},\n",
       "  {'criterion': 'entropy',\n",
       "   'max_depth': 91,\n",
       "   'max_features': 'log2',\n",
       "   'min_samples_split': 9},\n",
       "  {'criterion': 'entropy',\n",
       "   'max_depth': 91,\n",
       "   'max_features': 'log2',\n",
       "   'min_samples_split': 13},\n",
       "  {'criterion': 'entropy',\n",
       "   'max_depth': 91,\n",
       "   'max_features': 'log2',\n",
       "   'min_samples_split': 17},\n",
       "  {'criterion': 'entropy',\n",
       "   'max_depth': 91,\n",
       "   'max_features': None,\n",
       "   'min_samples_split': 1},\n",
       "  {'criterion': 'entropy',\n",
       "   'max_depth': 91,\n",
       "   'max_features': None,\n",
       "   'min_samples_split': 5},\n",
       "  {'criterion': 'entropy',\n",
       "   'max_depth': 91,\n",
       "   'max_features': None,\n",
       "   'min_samples_split': 9},\n",
       "  {'criterion': 'entropy',\n",
       "   'max_depth': 91,\n",
       "   'max_features': None,\n",
       "   'min_samples_split': 13},\n",
       "  {'criterion': 'entropy',\n",
       "   'max_depth': 91,\n",
       "   'max_features': None,\n",
       "   'min_samples_split': 17}],\n",
       " 'split0_test_score': array([  nan, 0.745, 0.72 , 0.72 , 0.725,   nan, 0.72 , 0.69 , 0.68 ,\n",
       "        0.685,   nan, 0.735, 0.76 , 0.725, 0.715,   nan, 0.   , 0.   ,\n",
       "        0.   , 0.   ,   nan, 0.   , 0.   , 0.   , 0.   ,   nan, 0.   ,\n",
       "        0.   , 0.   , 0.   ,   nan, 0.69 , 0.685, 0.675, 0.68 ,   nan,\n",
       "        0.65 , 0.68 , 0.665, 0.66 ,   nan, 0.7  , 0.71 , 0.695, 0.705,\n",
       "          nan, 0.73 , 0.715, 0.705, 0.675,   nan, 0.7  , 0.705, 0.675,\n",
       "        0.695,   nan, 0.75 , 0.715, 0.72 , 0.71 ,   nan, 0.725, 0.7  ,\n",
       "        0.695, 0.715,   nan, 0.69 , 0.71 , 0.69 , 0.695,   nan, 0.74 ,\n",
       "        0.755, 0.715, 0.72 ,   nan, 0.74 , 0.71 , 0.715, 0.715,   nan,\n",
       "        0.71 , 0.695, 0.685, 0.675,   nan, 0.76 , 0.725, 0.75 , 0.745,\n",
       "          nan, 0.74 , 0.715, 0.7  , 0.7  ,   nan, 0.705, 0.685, 0.68 ,\n",
       "        0.675,   nan, 0.755, 0.74 , 0.725, 0.715,   nan, 0.735, 0.7  ,\n",
       "        0.705, 0.685,   nan, 0.715, 0.665, 0.69 , 0.655,   nan, 0.75 ,\n",
       "        0.745, 0.745, 0.74 ,   nan, 0.71 , 0.72 , 0.69 , 0.72 ,   nan,\n",
       "        0.685, 0.705, 0.69 , 0.685,   nan, 0.75 , 0.735, 0.715, 0.725,\n",
       "          nan, 0.725, 0.72 , 0.715, 0.695,   nan, 0.7  , 0.675, 0.68 ,\n",
       "        0.665,   nan, 0.76 , 0.74 , 0.73 , 0.74 ,   nan, 0.71 , 0.735,\n",
       "        0.72 , 0.685,   nan, 0.69 , 0.66 , 0.685, 0.67 ,   nan, 0.755,\n",
       "        0.74 , 0.715, 0.73 ,   nan, 0.735, 0.695, 0.695, 0.695,   nan,\n",
       "        0.675, 0.685, 0.67 , 0.68 ,   nan, 0.73 , 0.725, 0.715, 0.71 ,\n",
       "          nan, 0.   , 0.   , 0.   , 0.   ,   nan, 0.   , 0.   , 0.   ,\n",
       "        0.   ,   nan, 0.   , 0.   , 0.   , 0.   ,   nan, 0.69 , 0.67 ,\n",
       "        0.66 , 0.675,   nan, 0.67 , 0.63 , 0.635, 0.65 ,   nan, 0.705,\n",
       "        0.72 , 0.685, 0.695,   nan, 0.72 , 0.72 , 0.675, 0.685,   nan,\n",
       "        0.685, 0.695, 0.68 , 0.65 ,   nan, 0.72 , 0.75 , 0.735, 0.705,\n",
       "          nan, 0.735, 0.71 , 0.69 , 0.695,   nan, 0.695, 0.675, 0.67 ,\n",
       "        0.67 ,   nan, 0.725, 0.74 , 0.71 , 0.705,   nan, 0.725, 0.71 ,\n",
       "        0.71 , 0.7  ,   nan, 0.69 , 0.69 , 0.665, 0.65 ,   nan, 0.725,\n",
       "        0.735, 0.705, 0.7  ,   nan, 0.73 , 0.7  , 0.715, 0.71 ,   nan,\n",
       "        0.705, 0.69 , 0.685, 0.675,   nan, 0.73 , 0.735, 0.71 , 0.71 ,\n",
       "          nan, 0.745, 0.705, 0.705, 0.7  ,   nan, 0.69 , 0.68 , 0.68 ,\n",
       "        0.665,   nan, 0.72 , 0.725, 0.715, 0.7  ,   nan, 0.71 , 0.725,\n",
       "        0.72 , 0.705,   nan, 0.705, 0.7  , 0.665, 0.655,   nan, 0.745,\n",
       "        0.74 , 0.715, 0.695,   nan, 0.725, 0.705, 0.715, 0.685,   nan,\n",
       "        0.705, 0.675, 0.685, 0.67 ,   nan, 0.735, 0.735, 0.73 , 0.725,\n",
       "          nan, 0.725, 0.705, 0.705, 0.695,   nan, 0.685, 0.695, 0.665,\n",
       "        0.665,   nan, 0.735, 0.73 , 0.715, 0.72 ]),\n",
       " 'split1_test_score': array([  nan, 0.65 , 0.645, 0.645, 0.63 ,   nan, 0.625, 0.65 , 0.635,\n",
       "        0.63 ,   nan, 0.695, 0.69 , 0.675, 0.67 ,   nan, 0.   , 0.   ,\n",
       "        0.   , 0.   ,   nan, 0.   , 0.   , 0.   , 0.   ,   nan, 0.   ,\n",
       "        0.   , 0.   , 0.   ,   nan, 0.65 , 0.625, 0.62 , 0.62 ,   nan,\n",
       "        0.595, 0.605, 0.605, 0.62 ,   nan, 0.67 , 0.665, 0.65 , 0.655,\n",
       "          nan, 0.655, 0.645, 0.655, 0.665,   nan, 0.62 , 0.625, 0.625,\n",
       "        0.625,   nan, 0.695, 0.69 , 0.69 , 0.665,   nan, 0.645, 0.66 ,\n",
       "        0.67 , 0.63 ,   nan, 0.64 , 0.63 , 0.645, 0.63 ,   nan, 0.705,\n",
       "        0.7  , 0.705, 0.695,   nan, 0.635, 0.645, 0.645, 0.65 ,   nan,\n",
       "        0.63 , 0.62 , 0.62 , 0.64 ,   nan, 0.705, 0.675, 0.68 , 0.675,\n",
       "          nan, 0.655, 0.65 , 0.635, 0.645,   nan, 0.63 , 0.64 , 0.665,\n",
       "        0.625,   nan, 0.675, 0.665, 0.68 , 0.7  ,   nan, 0.675, 0.66 ,\n",
       "        0.66 , 0.655,   nan, 0.615, 0.625, 0.64 , 0.615,   nan, 0.705,\n",
       "        0.705, 0.7  , 0.7  ,   nan, 0.65 , 0.645, 0.64 , 0.66 ,   nan,\n",
       "        0.635, 0.65 , 0.65 , 0.625,   nan, 0.695, 0.685, 0.67 , 0.675,\n",
       "          nan, 0.65 , 0.655, 0.655, 0.655,   nan, 0.615, 0.645, 0.625,\n",
       "        0.645,   nan, 0.685, 0.685, 0.695, 0.665,   nan, 0.655, 0.665,\n",
       "        0.66 , 0.66 ,   nan, 0.62 , 0.615, 0.625, 0.645,   nan, 0.705,\n",
       "        0.695, 0.69 , 0.68 ,   nan, 0.65 , 0.64 , 0.64 , 0.625,   nan,\n",
       "        0.615, 0.64 , 0.605, 0.62 ,   nan, 0.685, 0.69 , 0.66 , 0.685,\n",
       "          nan, 0.   , 0.   , 0.   , 0.   ,   nan, 0.   , 0.   , 0.   ,\n",
       "        0.   ,   nan, 0.   , 0.   , 0.   , 0.   ,   nan, 0.64 , 0.635,\n",
       "        0.62 , 0.62 ,   nan, 0.61 , 0.595, 0.61 , 0.59 ,   nan, 0.68 ,\n",
       "        0.655, 0.675, 0.665,   nan, 0.645, 0.625, 0.64 , 0.635,   nan,\n",
       "        0.63 , 0.605, 0.63 , 0.61 ,   nan, 0.675, 0.68 , 0.68 , 0.67 ,\n",
       "          nan, 0.635, 0.63 , 0.625, 0.62 ,   nan, 0.635, 0.63 , 0.59 ,\n",
       "        0.625,   nan, 0.675, 0.675, 0.665, 0.685,   nan, 0.655, 0.64 ,\n",
       "        0.655, 0.635,   nan, 0.625, 0.635, 0.63 , 0.63 ,   nan, 0.66 ,\n",
       "        0.665, 0.66 , 0.655,   nan, 0.655, 0.64 , 0.635, 0.635,   nan,\n",
       "        0.63 , 0.635, 0.605, 0.62 ,   nan, 0.675, 0.665, 0.675, 0.67 ,\n",
       "          nan, 0.655, 0.655, 0.65 , 0.62 ,   nan, 0.635, 0.635, 0.6  ,\n",
       "        0.65 ,   nan, 0.665, 0.67 , 0.67 , 0.68 ,   nan, 0.66 , 0.64 ,\n",
       "        0.64 , 0.625,   nan, 0.63 , 0.615, 0.62 , 0.605,   nan, 0.665,\n",
       "        0.69 , 0.665, 0.665,   nan, 0.655, 0.655, 0.64 , 0.63 ,   nan,\n",
       "        0.625, 0.63 , 0.615, 0.625,   nan, 0.68 , 0.675, 0.675, 0.665,\n",
       "          nan, 0.66 , 0.645, 0.64 , 0.645,   nan, 0.64 , 0.64 , 0.605,\n",
       "        0.615,   nan, 0.665, 0.675, 0.665, 0.66 ]),\n",
       " 'split2_test_score': array([  nan, 0.685, 0.66 , 0.645, 0.65 ,   nan, 0.665, 0.665, 0.66 ,\n",
       "        0.64 ,   nan, 0.695, 0.69 , 0.69 , 0.68 ,   nan, 0.   , 0.   ,\n",
       "        0.   , 0.   ,   nan, 0.   , 0.   , 0.   , 0.   ,   nan, 0.   ,\n",
       "        0.   , 0.   , 0.   ,   nan, 0.65 , 0.635, 0.635, 0.625,   nan,\n",
       "        0.645, 0.62 , 0.64 , 0.645,   nan, 0.65 , 0.655, 0.645, 0.65 ,\n",
       "          nan, 0.68 , 0.685, 0.665, 0.67 ,   nan, 0.69 , 0.645, 0.65 ,\n",
       "        0.65 ,   nan, 0.665, 0.665, 0.68 , 0.665,   nan, 0.67 , 0.685,\n",
       "        0.675, 0.65 ,   nan, 0.655, 0.66 , 0.645, 0.645,   nan, 0.675,\n",
       "        0.68 , 0.695, 0.68 ,   nan, 0.685, 0.68 , 0.665, 0.665,   nan,\n",
       "        0.635, 0.655, 0.64 , 0.625,   nan, 0.665, 0.685, 0.675, 0.675,\n",
       "          nan, 0.675, 0.64 , 0.675, 0.67 ,   nan, 0.68 , 0.69 , 0.65 ,\n",
       "        0.64 ,   nan, 0.69 , 0.69 , 0.695, 0.685,   nan, 0.67 , 0.665,\n",
       "        0.67 , 0.68 ,   nan, 0.68 , 0.675, 0.645, 0.64 ,   nan, 0.68 ,\n",
       "        0.69 , 0.68 , 0.675,   nan, 0.685, 0.685, 0.66 , 0.655,   nan,\n",
       "        0.7  , 0.655, 0.635, 0.66 ,   nan, 0.71 , 0.67 , 0.695, 0.685,\n",
       "          nan, 0.685, 0.66 , 0.665, 0.68 ,   nan, 0.65 , 0.65 , 0.665,\n",
       "        0.65 ,   nan, 0.665, 0.685, 0.695, 0.69 ,   nan, 0.68 , 0.675,\n",
       "        0.665, 0.675,   nan, 0.655, 0.65 , 0.635, 0.62 ,   nan, 0.67 ,\n",
       "        0.695, 0.68 , 0.685,   nan, 0.655, 0.62 , 0.665, 0.675,   nan,\n",
       "        0.705, 0.64 , 0.63 , 0.605,   nan, 0.675, 0.68 , 0.665, 0.67 ,\n",
       "          nan, 0.   , 0.   , 0.   , 0.   ,   nan, 0.   , 0.   , 0.   ,\n",
       "        0.   ,   nan, 0.   , 0.   , 0.   , 0.   ,   nan, 0.62 , 0.625,\n",
       "        0.645, 0.605,   nan, 0.625, 0.605, 0.6  , 0.615,   nan, 0.67 ,\n",
       "        0.67 , 0.67 , 0.655,   nan, 0.64 , 0.645, 0.66 , 0.645,   nan,\n",
       "        0.65 , 0.625, 0.66 , 0.62 ,   nan, 0.67 , 0.66 , 0.68 , 0.65 ,\n",
       "          nan, 0.66 , 0.64 , 0.63 , 0.65 ,   nan, 0.655, 0.655, 0.64 ,\n",
       "        0.63 ,   nan, 0.675, 0.68 , 0.685, 0.65 ,   nan, 0.68 , 0.65 ,\n",
       "        0.665, 0.63 ,   nan, 0.635, 0.645, 0.615, 0.635,   nan, 0.67 ,\n",
       "        0.685, 0.65 , 0.675,   nan, 0.67 , 0.655, 0.665, 0.635,   nan,\n",
       "        0.675, 0.645, 0.645, 0.64 ,   nan, 0.675, 0.67 , 0.68 , 0.665,\n",
       "          nan, 0.655, 0.655, 0.67 , 0.64 ,   nan, 0.64 , 0.65 , 0.615,\n",
       "        0.615,   nan, 0.675, 0.665, 0.665, 0.67 ,   nan, 0.655, 0.65 ,\n",
       "        0.65 , 0.645,   nan, 0.65 , 0.645, 0.635, 0.63 ,   nan, 0.665,\n",
       "        0.685, 0.67 , 0.66 ,   nan, 0.645, 0.66 , 0.65 , 0.65 ,   nan,\n",
       "        0.67 , 0.66 , 0.63 , 0.61 ,   nan, 0.655, 0.665, 0.67 , 0.665,\n",
       "          nan, 0.66 , 0.645, 0.65 , 0.645,   nan, 0.645, 0.655, 0.635,\n",
       "        0.62 ,   nan, 0.665, 0.67 , 0.655, 0.66 ]),\n",
       " 'split3_test_score': array([  nan, 0.725, 0.685, 0.66 , 0.655,   nan, 0.675, 0.66 , 0.66 ,\n",
       "        0.625,   nan, 0.73 , 0.735, 0.715, 0.69 ,   nan, 0.   , 0.   ,\n",
       "        0.   , 0.   ,   nan, 0.   , 0.   , 0.   , 0.   ,   nan, 0.   ,\n",
       "        0.   , 0.   , 0.   ,   nan, 0.65 , 0.64 , 0.63 , 0.64 ,   nan,\n",
       "        0.64 , 0.62 , 0.615, 0.615,   nan, 0.68 , 0.66 , 0.665, 0.66 ,\n",
       "          nan, 0.705, 0.685, 0.705, 0.645,   nan, 0.7  , 0.655, 0.625,\n",
       "        0.65 ,   nan, 0.725, 0.715, 0.7  , 0.705,   nan, 0.69 , 0.705,\n",
       "        0.65 , 0.68 ,   nan, 0.69 , 0.66 , 0.645, 0.65 ,   nan, 0.73 ,\n",
       "        0.725, 0.715, 0.715,   nan, 0.715, 0.69 , 0.66 , 0.655,   nan,\n",
       "        0.685, 0.645, 0.64 , 0.625,   nan, 0.735, 0.725, 0.71 , 0.73 ,\n",
       "          nan, 0.695, 0.695, 0.68 , 0.665,   nan, 0.695, 0.66 , 0.64 ,\n",
       "        0.63 ,   nan, 0.725, 0.74 , 0.705, 0.71 ,   nan, 0.7  , 0.7  ,\n",
       "        0.675, 0.675,   nan, 0.675, 0.665, 0.62 , 0.64 ,   nan, 0.74 ,\n",
       "        0.725, 0.705, 0.72 ,   nan, 0.685, 0.68 , 0.665, 0.695,   nan,\n",
       "        0.71 , 0.675, 0.64 , 0.63 ,   nan, 0.735, 0.72 , 0.705, 0.69 ,\n",
       "          nan, 0.7  , 0.68 , 0.675, 0.665,   nan, 0.69 , 0.64 , 0.635,\n",
       "        0.645,   nan, 0.745, 0.715, 0.72 , 0.705,   nan, 0.715, 0.665,\n",
       "        0.675, 0.65 ,   nan, 0.675, 0.655, 0.655, 0.635,   nan, 0.745,\n",
       "        0.715, 0.705, 0.73 ,   nan, 0.685, 0.655, 0.65 , 0.62 ,   nan,\n",
       "        0.68 , 0.65 , 0.635, 0.61 ,   nan, 0.71 , 0.7  , 0.69 , 0.68 ,\n",
       "          nan, 0.   , 0.   , 0.   , 0.   ,   nan, 0.   , 0.   , 0.   ,\n",
       "        0.   ,   nan, 0.   , 0.   , 0.   , 0.   ,   nan, 0.63 , 0.625,\n",
       "        0.605, 0.615,   nan, 0.63 , 0.6  , 0.6  , 0.62 ,   nan, 0.665,\n",
       "        0.68 , 0.665, 0.67 ,   nan, 0.68 , 0.645, 0.64 , 0.635,   nan,\n",
       "        0.66 , 0.66 , 0.61 , 0.6  ,   nan, 0.715, 0.705, 0.695, 0.695,\n",
       "          nan, 0.675, 0.67 , 0.635, 0.62 ,   nan, 0.66 , 0.635, 0.65 ,\n",
       "        0.595,   nan, 0.715, 0.715, 0.69 , 0.685,   nan, 0.685, 0.67 ,\n",
       "        0.65 , 0.625,   nan, 0.68 , 0.66 , 0.615, 0.63 ,   nan, 0.725,\n",
       "        0.7  , 0.705, 0.685,   nan, 0.68 , 0.7  , 0.63 , 0.655,   nan,\n",
       "        0.67 , 0.66 , 0.63 , 0.61 ,   nan, 0.72 , 0.71 , 0.7  , 0.695,\n",
       "          nan, 0.68 , 0.67 , 0.63 , 0.64 ,   nan, 0.68 , 0.665, 0.61 ,\n",
       "        0.63 ,   nan, 0.725, 0.715, 0.685, 0.685,   nan, 0.665, 0.665,\n",
       "        0.625, 0.65 ,   nan, 0.67 , 0.65 , 0.615, 0.615,   nan, 0.715,\n",
       "        0.695, 0.69 , 0.695,   nan, 0.695, 0.665, 0.66 , 0.635,   nan,\n",
       "        0.685, 0.65 , 0.64 , 0.59 ,   nan, 0.73 , 0.695, 0.71 , 0.68 ,\n",
       "          nan, 0.69 , 0.675, 0.65 , 0.62 ,   nan, 0.69 , 0.645, 0.61 ,\n",
       "        0.61 ,   nan, 0.715, 0.705, 0.695, 0.685]),\n",
       " 'split4_test_score': array([  nan, 0.65 , 0.645, 0.615, 0.595,   nan, 0.625, 0.62 , 0.61 ,\n",
       "        0.6  ,   nan, 0.68 , 0.66 , 0.65 , 0.665,   nan, 0.   , 0.   ,\n",
       "        0.   , 0.   ,   nan, 0.   , 0.   , 0.   , 0.   ,   nan, 0.   ,\n",
       "        0.   , 0.   , 0.   ,   nan, 0.59 , 0.6  , 0.59 , 0.58 ,   nan,\n",
       "        0.585, 0.585, 0.605, 0.59 ,   nan, 0.61 , 0.615, 0.615, 0.61 ,\n",
       "          nan, 0.645, 0.63 , 0.62 , 0.625,   nan, 0.64 , 0.61 , 0.61 ,\n",
       "        0.6  ,   nan, 0.66 , 0.655, 0.65 , 0.63 ,   nan, 0.665, 0.645,\n",
       "        0.61 , 0.64 ,   nan, 0.645, 0.625, 0.6  , 0.6  ,   nan, 0.675,\n",
       "        0.67 , 0.665, 0.64 ,   nan, 0.665, 0.65 , 0.62 , 0.625,   nan,\n",
       "        0.645, 0.625, 0.6  , 0.605,   nan, 0.68 , 0.69 , 0.675, 0.67 ,\n",
       "          nan, 0.675, 0.635, 0.625, 0.6  ,   nan, 0.645, 0.625, 0.605,\n",
       "        0.6  ,   nan, 0.685, 0.685, 0.66 , 0.665,   nan, 0.675, 0.63 ,\n",
       "        0.635, 0.62 ,   nan, 0.65 , 0.62 , 0.61 , 0.62 ,   nan, 0.69 ,\n",
       "        0.665, 0.66 , 0.66 ,   nan, 0.63 , 0.64 , 0.62 , 0.625,   nan,\n",
       "        0.65 , 0.605, 0.605, 0.6  ,   nan, 0.675, 0.665, 0.66 , 0.65 ,\n",
       "          nan, 0.675, 0.64 , 0.62 , 0.615,   nan, 0.635, 0.62 , 0.6  ,\n",
       "        0.61 ,   nan, 0.68 , 0.665, 0.66 , 0.66 ,   nan, 0.66 , 0.615,\n",
       "        0.635, 0.62 ,   nan, 0.63 , 0.62 , 0.595, 0.6  ,   nan, 0.68 ,\n",
       "        0.67 , 0.655, 0.66 ,   nan, 0.67 , 0.62 , 0.61 , 0.6  ,   nan,\n",
       "        0.64 , 0.62 , 0.575, 0.565,   nan, 0.695, 0.685, 0.65 , 0.63 ,\n",
       "          nan, 0.   , 0.   , 0.   , 0.   ,   nan, 0.   , 0.   , 0.   ,\n",
       "        0.   ,   nan, 0.   , 0.   , 0.   , 0.   ,   nan, 0.605, 0.585,\n",
       "        0.59 , 0.585,   nan, 0.585, 0.57 , 0.58 , 0.56 ,   nan, 0.64 ,\n",
       "        0.62 , 0.65 , 0.6  ,   nan, 0.655, 0.615, 0.62 , 0.59 ,   nan,\n",
       "        0.645, 0.61 , 0.58 , 0.575,   nan, 0.68 , 0.695, 0.66 , 0.65 ,\n",
       "          nan, 0.63 , 0.625, 0.605, 0.6  ,   nan, 0.625, 0.625, 0.585,\n",
       "        0.575,   nan, 0.675, 0.67 , 0.65 , 0.65 ,   nan, 0.645, 0.62 ,\n",
       "        0.63 , 0.595,   nan, 0.615, 0.63 , 0.615, 0.595,   nan, 0.705,\n",
       "        0.66 , 0.655, 0.635,   nan, 0.63 , 0.615, 0.61 , 0.58 ,   nan,\n",
       "        0.615, 0.61 , 0.585, 0.595,   nan, 0.685, 0.69 , 0.665, 0.65 ,\n",
       "          nan, 0.645, 0.605, 0.615, 0.595,   nan, 0.625, 0.59 , 0.575,\n",
       "        0.585,   nan, 0.69 , 0.67 , 0.66 , 0.64 ,   nan, 0.64 , 0.62 ,\n",
       "        0.605, 0.595,   nan, 0.64 , 0.605, 0.58 , 0.585,   nan, 0.695,\n",
       "        0.685, 0.65 , 0.64 ,   nan, 0.655, 0.62 , 0.595, 0.59 ,   nan,\n",
       "        0.625, 0.615, 0.565, 0.59 ,   nan, 0.695, 0.69 , 0.66 , 0.625,\n",
       "          nan, 0.61 , 0.625, 0.595, 0.595,   nan, 0.63 , 0.615, 0.615,\n",
       "        0.595,   nan, 0.68 , 0.68 , 0.65 , 0.63 ]),\n",
       " 'mean_test_score': array([  nan, 0.691, 0.671, 0.657, 0.651,   nan, 0.662, 0.657, 0.649,\n",
       "        0.636,   nan, 0.707, 0.707, 0.691, 0.684,   nan, 0.   , 0.   ,\n",
       "        0.   , 0.   ,   nan, 0.   , 0.   , 0.   , 0.   ,   nan, 0.   ,\n",
       "        0.   , 0.   , 0.   ,   nan, 0.646, 0.637, 0.63 , 0.629,   nan,\n",
       "        0.623, 0.622, 0.626, 0.626,   nan, 0.662, 0.661, 0.654, 0.656,\n",
       "          nan, 0.683, 0.672, 0.67 , 0.656,   nan, 0.67 , 0.648, 0.637,\n",
       "        0.644,   nan, 0.699, 0.688, 0.688, 0.675,   nan, 0.679, 0.679,\n",
       "        0.66 , 0.663,   nan, 0.664, 0.657, 0.645, 0.644,   nan, 0.705,\n",
       "        0.706, 0.699, 0.69 ,   nan, 0.688, 0.675, 0.661, 0.662,   nan,\n",
       "        0.661, 0.648, 0.637, 0.634,   nan, 0.709, 0.7  , 0.698, 0.699,\n",
       "          nan, 0.688, 0.667, 0.663, 0.656,   nan, 0.671, 0.66 , 0.648,\n",
       "        0.634,   nan, 0.706, 0.704, 0.693, 0.695,   nan, 0.691, 0.671,\n",
       "        0.669, 0.663,   nan, 0.667, 0.65 , 0.641, 0.634,   nan, 0.713,\n",
       "        0.706, 0.698, 0.699,   nan, 0.672, 0.674, 0.655, 0.671,   nan,\n",
       "        0.676, 0.658, 0.644, 0.64 ,   nan, 0.713, 0.695, 0.689, 0.685,\n",
       "          nan, 0.687, 0.671, 0.666, 0.662,   nan, 0.658, 0.646, 0.641,\n",
       "        0.643,   nan, 0.707, 0.698, 0.7  , 0.692,   nan, 0.684, 0.671,\n",
       "        0.671, 0.658,   nan, 0.654, 0.64 , 0.639, 0.634,   nan, 0.711,\n",
       "        0.703, 0.689, 0.697,   nan, 0.679, 0.646, 0.652, 0.643,   nan,\n",
       "        0.663, 0.647, 0.623, 0.616,   nan, 0.699, 0.696, 0.676, 0.675,\n",
       "          nan, 0.   , 0.   , 0.   , 0.   ,   nan, 0.   , 0.   , 0.   ,\n",
       "        0.   ,   nan, 0.   , 0.   , 0.   , 0.   ,   nan, 0.637, 0.628,\n",
       "        0.624, 0.62 ,   nan, 0.624, 0.6  , 0.605, 0.607,   nan, 0.672,\n",
       "        0.669, 0.669, 0.657,   nan, 0.668, 0.65 , 0.647, 0.638,   nan,\n",
       "        0.654, 0.639, 0.632, 0.611,   nan, 0.692, 0.698, 0.69 , 0.674,\n",
       "          nan, 0.667, 0.655, 0.637, 0.637,   nan, 0.654, 0.644, 0.627,\n",
       "        0.619,   nan, 0.693, 0.696, 0.68 , 0.675,   nan, 0.678, 0.658,\n",
       "        0.662, 0.637,   nan, 0.649, 0.652, 0.628, 0.628,   nan, 0.697,\n",
       "        0.689, 0.675, 0.67 ,   nan, 0.673, 0.662, 0.651, 0.643,   nan,\n",
       "        0.659, 0.648, 0.63 , 0.628,   nan, 0.697, 0.694, 0.686, 0.678,\n",
       "          nan, 0.676, 0.658, 0.654, 0.639,   nan, 0.654, 0.644, 0.616,\n",
       "        0.629,   nan, 0.695, 0.689, 0.679, 0.675,   nan, 0.666, 0.66 ,\n",
       "        0.648, 0.644,   nan, 0.659, 0.643, 0.623, 0.618,   nan, 0.697,\n",
       "        0.699, 0.678, 0.671,   nan, 0.675, 0.661, 0.652, 0.638,   nan,\n",
       "        0.662, 0.646, 0.627, 0.617,   nan, 0.699, 0.692, 0.689, 0.672,\n",
       "          nan, 0.669, 0.659, 0.648, 0.64 ,   nan, 0.658, 0.65 , 0.626,\n",
       "        0.621,   nan, 0.692, 0.692, 0.676, 0.671]),\n",
       " 'std_test_score': array([       nan, 0.0386523 , 0.02853069, 0.03472751, 0.04259108,\n",
       "               nan, 0.03544009, 0.02271563, 0.02416609, 0.02782086,\n",
       "               nan, 0.02158703, 0.03572114, 0.02709243, 0.01772005,\n",
       "               nan, 0.        , 0.        , 0.        , 0.        ,\n",
       "               nan, 0.        , 0.        , 0.        , 0.        ,\n",
       "               nan, 0.        , 0.        , 0.        , 0.        ,\n",
       "               nan, 0.032     , 0.02767671, 0.02738613, 0.03231099,\n",
       "               nan, 0.027313  , 0.0317175 , 0.02332381, 0.02437212,\n",
       "               nan, 0.03059412, 0.03023243, 0.02615339, 0.03023243,\n",
       "               nan, 0.03140064, 0.03059412, 0.03224903, 0.01854724,\n",
       "               nan, 0.0334664 , 0.03249615, 0.02293469, 0.03152777,\n",
       "               nan, 0.03455431, 0.02481935, 0.02315167, 0.02949576,\n",
       "               nan, 0.02709243, 0.02310844, 0.02880972, 0.03091925,\n",
       "               nan, 0.02177154, 0.03026549, 0.0284605 , 0.03088689,\n",
       "               nan, 0.02701851, 0.03088689, 0.01854724, 0.02880972,\n",
       "               nan, 0.03682391, 0.0244949 , 0.03120897, 0.0295973 ,\n",
       "               nan, 0.03120897, 0.02675818, 0.02821347, 0.02332381,\n",
       "               nan, 0.0348425 , 0.02097618, 0.02908608, 0.03184337,\n",
       "               nan, 0.02891366, 0.03203123, 0.02839014, 0.03307567,\n",
       "               nan, 0.02887906, 0.0250998 , 0.02541653, 0.02437212,\n",
       "               nan, 0.02973214, 0.03056141, 0.02204541, 0.0181659 ,\n",
       "               nan, 0.02437212, 0.026533  , 0.02267157, 0.02379075,\n",
       "               nan, 0.03325658, 0.02280351, 0.02764055, 0.01462874,\n",
       "               nan, 0.02749545, 0.02764055, 0.02839014, 0.02905168,\n",
       "               nan, 0.02839014, 0.02922328, 0.02366432, 0.03307567,\n",
       "               nan, 0.02887906, 0.03280244, 0.02745906, 0.02949576,\n",
       "               nan, 0.02694439, 0.02774887, 0.02083267, 0.02428992,\n",
       "               nan, 0.02501999, 0.02764055, 0.03072458, 0.02712932,\n",
       "               nan, 0.03234192, 0.01772005, 0.02853069, 0.01805547,\n",
       "               nan, 0.03802631, 0.02638181, 0.02428992, 0.02908608,\n",
       "               nan, 0.02477902, 0.03826225, 0.02782086, 0.02249444,\n",
       "               nan, 0.02634388, 0.01870829, 0.03006659, 0.0235372 ,\n",
       "               nan, 0.03397058, 0.02336664, 0.02083267, 0.02821347,\n",
       "               nan, 0.03056141, 0.02782086, 0.02803569, 0.03586084,\n",
       "               nan, 0.0317175 , 0.02135416, 0.0317175 , 0.03706751,\n",
       "               nan, 0.01933908, 0.01593738, 0.0235372 , 0.02607681,\n",
       "               nan, 0.        , 0.        , 0.        , 0.        ,\n",
       "               nan, 0.        , 0.        , 0.        , 0.        ,\n",
       "               nan, 0.        , 0.        , 0.        , 0.        ,\n",
       "               nan, 0.02891366, 0.02712932, 0.02557342, 0.03      ,\n",
       "               nan, 0.02782086, 0.01923538, 0.01788854, 0.03026549,\n",
       "               nan, 0.02111871, 0.03261901, 0.01157584, 0.03140064,\n",
       "               nan, 0.02942788, 0.03687818, 0.01886796, 0.03026549,\n",
       "               nan, 0.01827567, 0.03397058, 0.03544009, 0.02457641,\n",
       "               nan, 0.02111871, 0.03009983, 0.0250998 , 0.02267157,\n",
       "               nan, 0.03776242, 0.03162278, 0.02839014, 0.03310589,\n",
       "               nan, 0.02416609, 0.01854724, 0.0337046 , 0.03246537,\n",
       "               nan, 0.02227106, 0.02709243, 0.02073644, 0.02167948,\n",
       "               nan, 0.02785678, 0.03059412, 0.02657066, 0.03443835,\n",
       "               nan, 0.03023243, 0.02158703, 0.01939072, 0.01805547,\n",
       "               nan, 0.027313  , 0.02709243, 0.02469818, 0.02280351,\n",
       "               nan, 0.03310589, 0.03355592, 0.03652396, 0.04178516,\n",
       "               nan, 0.03246537, 0.02657066, 0.03435113, 0.02767671,\n",
       "               nan, 0.02336664, 0.02596151, 0.01655295, 0.02158703,\n",
       "               nan, 0.03638681, 0.03218695, 0.03152777, 0.0346987 ,\n",
       "               nan, 0.02596151, 0.03088689, 0.0348425 , 0.02782086,\n",
       "               nan, 0.02387467, 0.02557342, 0.01984943, 0.02      ,\n",
       "               nan, 0.0235372 , 0.03563706, 0.03906405, 0.03611094,\n",
       "               nan, 0.026533  , 0.03325658, 0.02767671, 0.02357965,\n",
       "               nan, 0.03059412, 0.02083267, 0.02249444, 0.02130728,\n",
       "               nan, 0.0303315 , 0.02709243, 0.03854867, 0.03075711,\n",
       "               nan, 0.03218695, 0.02130728, 0.03880722, 0.0295973 ,\n",
       "               nan, 0.03023243, 0.024     , 0.026533  , 0.03218695,\n",
       "               nan, 0.038     , 0.028     , 0.03501428, 0.03316625,\n",
       "               nan, 0.02461707, 0.02607681, 0.022     , 0.0235372 ,\n",
       "               nan, 0.02821347, 0.02249444, 0.02497999, 0.03006659]),\n",
       " 'rank_test_score': array([330,  44,  90, 140, 158, 274, 122, 140, 163, 205, 269,   5,   7,\n",
       "         46,  61, 277, 241, 241, 241, 241, 266, 241, 241, 241, 241, 307,\n",
       "        241, 241, 241, 241, 313, 176, 199, 211, 213, 329, 226, 229, 221,\n",
       "        222, 328, 119, 124, 149, 146, 291,  63,  88, 100, 144, 281, 100,\n",
       "        168, 199, 180, 285,  16,  55,  55,  76, 286,  65,  65, 130, 113,\n",
       "        290, 112, 140, 177, 178, 293,  11,   8,  20,  47, 294,  55,  76,\n",
       "        125, 117, 296, 125, 165, 198, 208, 300,   4,  14,  23,  20, 301,\n",
       "         54, 107, 113, 144, 279,  90, 128, 165, 208, 302,   8,  12,  37,\n",
       "         33, 299,  44,  97, 104, 113, 298, 107, 160, 189, 206, 297,   1,\n",
       "         10,  23,  16, 295,  88,  83, 147,  90, 303,  72, 138, 180, 190,\n",
       "        292,   2,  35,  49,  60, 289,  58,  90, 111, 117, 288, 135, 173,\n",
       "        188, 184, 287,   5,  23,  14,  40, 284,  61,  90,  97, 134, 283,\n",
       "        150, 190, 193, 206, 282,   3,  13,  49,  27, 305,  65, 173, 155,\n",
       "        184, 317, 113, 171, 226, 235, 306,  20,  31,  72,  76, 327, 241,\n",
       "        241, 241, 241, 326, 241, 241, 241, 241, 325, 241, 241, 241, 241,\n",
       "        324, 199, 215, 224, 231, 323, 224, 240, 239, 238, 322,  86, 102,\n",
       "        102, 143, 321, 106, 160, 171, 196, 320, 150, 193, 210, 237, 319,\n",
       "         40,  23,  47,  84, 318, 107, 147, 199, 199, 316, 150, 178, 219,\n",
       "        232, 315,  38,  31,  64,  76, 314,  69, 135, 119, 204, 312, 163,\n",
       "        155, 216, 216, 311,  27,  49,  76,  99, 310,  85, 122, 158, 184,\n",
       "        309, 131, 168, 211, 216, 308,  29,  36,  59,  70, 280,  72, 138,\n",
       "        154, 193, 304, 150, 180, 235, 213, 267,  33,  53,  65,  76, 276,\n",
       "        110, 128, 168, 180, 270, 131, 184, 226, 233, 265,  29,  16,  70,\n",
       "         90, 271,  76, 125, 155, 197, 268, 119, 173, 219, 234, 272,  16,\n",
       "         40,  49,  86, 275, 104, 131, 165, 190, 278, 135, 160, 222, 230,\n",
       "        273,  40,  39,  72,  90])}"
      ]
     },
     "execution_count": 88,
     "metadata": {},
     "output_type": "execute_result"
    }
   ],
   "source": [
    "gs.cv_results_"
   ]
  },
  {
   "cell_type": "code",
   "execution_count": 299,
   "metadata": {},
   "outputs": [],
   "source": [
    "y_preds_gs = gs.predict(X_train_imp_sc)"
   ]
  },
  {
   "cell_type": "code",
   "execution_count": 250,
   "metadata": {
    "scrolled": true
   },
   "outputs": [
    {
     "data": {
      "text/plain": [
       "0.9025084745762711"
      ]
     },
     "execution_count": 250,
     "metadata": {},
     "output_type": "execute_result"
    }
   ],
   "source": [
    "cross_validate(gs, X_train_imp_sc, y_train.values.ravel(), scoring='recall')['test_score'].mean()"
   ]
  },
  {
   "cell_type": "code",
   "execution_count": 327,
   "metadata": {
    "scrolled": true
   },
   "outputs": [
    {
     "data": {
      "text/plain": [
       "0.993"
      ]
     },
     "execution_count": 327,
     "metadata": {},
     "output_type": "execute_result"
    }
   ],
   "source": [
    "recall_score(y_train, y_preds_gs)"
   ]
  },
  {
   "cell_type": "code",
   "execution_count": 255,
   "metadata": {
    "scrolled": true
   },
   "outputs": [
    {
     "data": {
      "text/plain": [
       "145228.0"
      ]
     },
     "execution_count": 255,
     "metadata": {},
     "output_type": "execute_result"
    }
   ],
   "source": [
    "cross_validate(gs, X_train_imp_sc, y_train.values.ravel(), scoring=custom_cost)['test_score'].mean() * -1"
   ]
  },
  {
   "cell_type": "code",
   "execution_count": 329,
   "metadata": {
    "scrolled": true
   },
   "outputs": [
    {
     "data": {
      "text/plain": [
       "3510"
      ]
     },
     "execution_count": 329,
     "metadata": {},
     "output_type": "execute_result"
    }
   ],
   "source": [
    "cost_loss(y_train, y_preds_gs)"
   ]
  },
  {
   "cell_type": "code",
   "execution_count": 300,
   "metadata": {},
   "outputs": [
    {
     "data": {
      "image/png": "[encoded data removed]",
      "text/plain": [
       "<Figure size 432x288 with 2 Axes>"
      ]
     },
     "metadata": {
      "needs_background": "light"
     },
     "output_type": "display_data"
    }
   ],
   "source": [
    "plot_confusion_matrix(gs, X_train_imp_sc, y_train);"
   ]
  },
  {
   "cell_type": "markdown",
   "metadata": {},
   "source": [
    "Although the results of our first Grid Search were sub-par, let's try to narrow down the range of our hyperparameters in order to hopefully achieve greater success."
   ]
  },
  {
   "cell_type": "markdown",
   "metadata": {},
   "source": [
    "## Grid Search Attempt #2"
   ]
  },
  {
   "cell_type": "code",
   "execution_count": 121,
   "metadata": {},
   "outputs": [],
   "source": [
    "params2 = {}\n",
    "params2['max_depth'] = [60, 61, 62]\n",
    "params2['max_features'] = [None]\n",
    "params2['min_samples_split'] = [4, 5, 6]"
   ]
  },
  {
   "cell_type": "code",
   "execution_count": 122,
   "metadata": {},
   "outputs": [],
   "source": [
    "gs2 = GridSearchCV(estimator=rfc2, param_grid=params2, cv=5, n_jobs=-2, verbose=3, scoring=cost_scorer)"
   ]
  },
  {
   "cell_type": "code",
   "execution_count": 123,
   "metadata": {},
   "outputs": [
    {
     "name": "stdout",
     "output_type": "stream",
     "text": [
      "Fitting 5 folds for each of 9 candidates, totalling 45 fits\n"
     ]
    },
    {
     "name": "stderr",
     "output_type": "stream",
     "text": [
      "[Parallel(n_jobs=-2)]: Using backend LokyBackend with 11 concurrent workers.\n",
      "[Parallel(n_jobs=-2)]: Done  10 tasks      | elapsed: 14.4min\n",
      "[Parallel(n_jobs=-2)]: Done  40 out of  45 | elapsed: 55.0min remaining:  6.9min\n",
      "[Parallel(n_jobs=-2)]: Done  45 out of  45 | elapsed: 64.7min finished\n",
      "C:\\Users\\Kevin\\anaconda3\\envs\\learn-env\\lib\\site-packages\\sklearn\\model_selection\\_search.py:765: DataConversionWarning: A column-vector y was passed when a 1d array was expected. Please change the shape of y to (n_samples,), for example using ravel().\n",
      "  self.best_estimator_.fit(X, y, **fit_params)\n"
     ]
    },
    {
     "data": {
      "text/plain": [
       "GridSearchCV(cv=5,\n",
       "             estimator=RandomForestClassifier(max_depth=61, max_features=None,\n",
       "                                              min_samples_split=5),\n",
       "             n_jobs=-2,\n",
       "             param_grid={'max_depth': [60, 61, 62], 'max_features': [None],\n",
       "                         'min_samples_split': [4, 5, 6]},\n",
       "             scoring=make_scorer(cost_loss, greater_is_better=False),\n",
       "             verbose=3)"
      ]
     },
     "execution_count": 123,
     "metadata": {},
     "output_type": "execute_result"
    }
   ],
   "source": [
    "# COMMENTED OUT TO AVOID RUNNING LONG CODE\n",
    "# gs2.fit(X_train_imp, y_train)"
   ]
  },
  {
   "cell_type": "code",
   "execution_count": 145,
   "metadata": {},
   "outputs": [
    {
     "data": {
      "text/plain": [
       "RandomForestClassifier(max_depth=62, max_features=None, min_samples_split=4)"
      ]
     },
     "execution_count": 145,
     "metadata": {},
     "output_type": "execute_result"
    }
   ],
   "source": [
    "gs2.best_estimator_"
   ]
  },
  {
   "cell_type": "code",
   "execution_count": 146,
   "metadata": {},
   "outputs": [
    {
     "data": {
      "text/plain": [
       "{'mean_fit_time': array([844.86455655, 839.23752279, 834.2154089 , 820.51233773,\n",
       "        818.44175911, 814.89210958, 807.33571863, 801.52022314,\n",
       "        769.75853934]),\n",
       " 'std_fit_time': array([12.15444579, 20.48218122, 15.24897677, 16.3645281 , 15.99797453,\n",
       "         8.31353987, 14.72638123, 16.79923248, 67.57428524]),\n",
       " 'mean_score_time': array([0.15123   , 0.15393229, 0.15153017, 0.15443263, 0.1520308 ,\n",
       "        0.14832745, 0.14462428, 0.13191328, 0.10589099]),\n",
       " 'std_score_time': array([0.00177366, 0.00505017, 0.0041192 , 0.00650628, 0.00759845,\n",
       "        0.00652187, 0.00279517, 0.01502822, 0.00353278]),\n",
       " 'param_max_depth': masked_array(data=[60, 60, 60, 61, 61, 61, 62, 62, 62],\n",
       "              mask=[False, False, False, False, False, False, False, False,\n",
       "                    False],\n",
       "        fill_value='?',\n",
       "             dtype=object),\n",
       " 'param_max_features': masked_array(data=[None, None, None, None, None, None, None, None, None],\n",
       "              mask=[False, False, False, False, False, False, False, False,\n",
       "                    False],\n",
       "        fill_value='?',\n",
       "             dtype=object),\n",
       " 'param_min_samples_split': masked_array(data=[4, 5, 6, 4, 5, 6, 4, 5, 6],\n",
       "              mask=[False, False, False, False, False, False, False, False,\n",
       "                    False],\n",
       "        fill_value='?',\n",
       "             dtype=object),\n",
       " 'params': [{'max_depth': 60, 'max_features': None, 'min_samples_split': 4},\n",
       "  {'max_depth': 60, 'max_features': None, 'min_samples_split': 5},\n",
       "  {'max_depth': 60, 'max_features': None, 'min_samples_split': 6},\n",
       "  {'max_depth': 61, 'max_features': None, 'min_samples_split': 4},\n",
       "  {'max_depth': 61, 'max_features': None, 'min_samples_split': 5},\n",
       "  {'max_depth': 61, 'max_features': None, 'min_samples_split': 6},\n",
       "  {'max_depth': 62, 'max_features': None, 'min_samples_split': 4},\n",
       "  {'max_depth': 62, 'max_features': None, 'min_samples_split': 5},\n",
       "  {'max_depth': 62, 'max_features': None, 'min_samples_split': 6}],\n",
       " 'split0_test_score': array([-25230., -24730., -26200., -24710., -24720., -24250., -26200.,\n",
       "        -25700., -26710.]),\n",
       " 'split1_test_score': array([-30620., -29150., -31660., -30150., -30650., -32160., -30160.,\n",
       "        -30170., -29140.]),\n",
       " 'split2_test_score': array([-30200., -31750., -32230., -31710., -32260., -32240., -31730.,\n",
       "        -32730., -33240.]),\n",
       " 'split3_test_score': array([-26680., -26200., -28200., -27690., -27190., -28710., -24690.,\n",
       "        -28690., -26700.]),\n",
       " 'split4_test_score': array([-31710., -33240., -33710., -32710., -31670., -33200., -30210.,\n",
       "        -32710., -33210.]),\n",
       " 'mean_test_score': array([-28888., -29014., -30400., -29394., -29298., -30112., -28598.,\n",
       "        -30000., -29800.]),\n",
       " 'std_test_score': array([2487.61251002, 3213.55006185, 2770.29240334, 2890.49199964,\n",
       "        2885.46287448, 3304.15132825, 2678.45776521, 2646.96052105,\n",
       "        2934.46417596]),\n",
       " 'rank_test_score': array([2, 3, 9, 5, 4, 8, 1, 7, 6])}"
      ]
     },
     "execution_count": 146,
     "metadata": {},
     "output_type": "execute_result"
    }
   ],
   "source": [
    "gs2.cv_results_"
   ]
  },
  {
   "cell_type": "code",
   "execution_count": 126,
   "metadata": {},
   "outputs": [
    {
     "data": {
      "text/plain": [
       "-28598.0"
      ]
     },
     "execution_count": 126,
     "metadata": {},
     "output_type": "execute_result"
    }
   ],
   "source": [
    "gs2.best_score_"
   ]
  },
  {
   "cell_type": "code",
   "execution_count": 141,
   "metadata": {},
   "outputs": [],
   "source": [
    "y_preds_gs2 = gs2.predict(X_train_imp)"
   ]
  },
  {
   "cell_type": "code",
   "execution_count": 142,
   "metadata": {
    "scrolled": true
   },
   "outputs": [
    {
     "data": {
      "text/plain": [
       "array([[59000,     0],\n",
       "       [    4,   996]], dtype=int64)"
      ]
     },
     "execution_count": 142,
     "metadata": {},
     "output_type": "execute_result"
    }
   ],
   "source": [
    "confusion_matrix(y_train, y_preds_gs2)"
   ]
  },
  {
   "cell_type": "code",
   "execution_count": 143,
   "metadata": {},
   "outputs": [
    {
     "data": {
      "text/plain": [
       "2000"
      ]
     },
     "execution_count": 143,
     "metadata": {},
     "output_type": "execute_result"
    }
   ],
   "source": [
    "cost_loss(y_train, y_preds_gs2)"
   ]
  },
  {
   "cell_type": "markdown",
   "metadata": {},
   "source": [
    "It seems that for whatever reason, our data is not well-predicted using Decision Trees or Random Forests. To take a different approach, let's attempt to use XGBoost in order to hopefully beat our original Logistic Regression."
   ]
  },
  {
   "cell_type": "markdown",
   "metadata": {},
   "source": [
    "## XGBoost"
   ]
  },
  {
   "cell_type": "code",
   "execution_count": 331,
   "metadata": {},
   "outputs": [],
   "source": [
    "gboost = xgboost.XGBClassifier(tree_method='gpu_hist')"
   ]
  },
  {
   "cell_type": "code",
   "execution_count": 332,
   "metadata": {
    "scrolled": true
   },
   "outputs": [
    {
     "data": {
      "text/plain": [
       "XGBClassifier(base_score=0.5, booster='gbtree', colsample_bylevel=1,\n",
       "              colsample_bynode=1, colsample_bytree=1, gamma=0, gpu_id=0,\n",
       "              importance_type='gain', interaction_constraints='',\n",
       "              learning_rate=0.300000012, max_delta_step=0, max_depth=6,\n",
       "              min_child_weight=1, missing=nan,\n",
       "              monotone_constraints='(0,0,0,0,0,0,0,0,0,0,0,0,0,0,0,0,0,0,0,0,0,0,0,0,0,0,0,0,0,0,0,0,0,0,0,...,0,0,0,0,0,0,0,0,0,0,0,0,0,0,0,0,0,0,0,0,0,0,0,0,0,0,0,0,0,0,0,0,0,0,0,0,0,0,0,0,0,0,0,0,0,0,0,0,0,0,0,0,0,0,0,0,0,0,0,0,0,0,0,0,0,0,0,0,0,0,0,0,0,0,0,0,0,0,0,0,0,0,0,0,0)',\n",
       "              n_estimators=100, n_jobs=0, num_parallel_tree=1, random_state=0,\n",
       "              reg_alpha=0, reg_lambda=1, scale_pos_weight=1, subsample=1,\n",
       "              tree_method='gpu_hist', validate_parameters=1, verbosity=None)"
      ]
     },
     "execution_count": 332,
     "metadata": {},
     "output_type": "execute_result"
    }
   ],
   "source": [
    "gboost.fit(X_train_imp_sc, y_train.values.ravel())"
   ]
  },
  {
   "cell_type": "code",
   "execution_count": 333,
   "metadata": {},
   "outputs": [],
   "source": [
    "xgb_preds = gboost.predict(X_train_imp_sc)"
   ]
  },
  {
   "cell_type": "code",
   "execution_count": 334,
   "metadata": {},
   "outputs": [
    {
     "data": {
      "text/plain": [
       "0"
      ]
     },
     "execution_count": 334,
     "metadata": {},
     "output_type": "execute_result"
    }
   ],
   "source": [
    "cost_loss(y_train, xgb_preds)"
   ]
  },
  {
   "cell_type": "code",
   "execution_count": 338,
   "metadata": {},
   "outputs": [
    {
     "data": {
      "text/plain": [
       "0.752"
      ]
     },
     "execution_count": 338,
     "metadata": {},
     "output_type": "execute_result"
    }
   ],
   "source": [
    "cross_validate(gboost, X_train_imp_sc, y_train.values.ravel(), scoring='recall')['test_score'].mean()"
   ]
  },
  {
   "cell_type": "code",
   "execution_count": 339,
   "metadata": {},
   "outputs": [
    {
     "data": {
      "text/plain": [
       "1.0"
      ]
     },
     "execution_count": 339,
     "metadata": {},
     "output_type": "execute_result"
    }
   ],
   "source": [
    "recall_score(y_train, xgb_preds)"
   ]
  },
  {
   "cell_type": "code",
   "execution_count": 340,
   "metadata": {},
   "outputs": [
    {
     "data": {
      "text/plain": [
       "24966.0"
      ]
     },
     "execution_count": 340,
     "metadata": {},
     "output_type": "execute_result"
    }
   ],
   "source": [
    "cross_validate(gboost, X_train_imp_sc, y_train.values.ravel(), scoring=custom_cost)['test_score'].mean() * -1"
   ]
  },
  {
   "cell_type": "code",
   "execution_count": 342,
   "metadata": {},
   "outputs": [
    {
     "data": {
      "text/plain": [
       "0"
      ]
     },
     "execution_count": 342,
     "metadata": {},
     "output_type": "execute_result"
    }
   ],
   "source": [
    "cost_loss(y_train, xgb_preds)"
   ]
  },
  {
   "cell_type": "code",
   "execution_count": 335,
   "metadata": {},
   "outputs": [
    {
     "data": {
      "image/png": "[encoded data removed]",
      "text/plain": [
       "<Figure size 432x288 with 2 Axes>"
      ]
     },
     "metadata": {
      "needs_background": "light"
     },
     "output_type": "display_data"
    }
   ],
   "source": [
    "plot_confusion_matrix(gboost, X_train_imp_sc, y_train);"
   ]
  },
  {
   "cell_type": "markdown",
   "metadata": {},
   "source": [
    "## XGBoost with Grid Search"
   ]
  },
  {
   "cell_type": "markdown",
   "metadata": {},
   "source": [
    "We can see that we are yet again greatly overfit. Perhaps using a Grid Search with XGBoost will enable us to find the sweet spot of under/overfitting."
   ]
  },
  {
   "cell_type": "code",
   "execution_count": 330,
   "metadata": {},
   "outputs": [],
   "source": [
    "xgb = xgboost.XGBClassifier(n_estimators=100, tree_method='gpu_hist')"
   ]
  },
  {
   "cell_type": "code",
   "execution_count": 251,
   "metadata": {},
   "outputs": [],
   "source": [
    "params_xg = {\"colsample_bytree\": [0.3, 0.5, 0.8],\n",
    "             \"reg_alpha\": [0, 0.5, 1, 5],\n",
    "             \"reg_lambda\": [0, 0.5, 1, 5],\n",
    "             \"max_depth\": [5, 10, 15, 20, 25, 30]}"
   ]
  },
  {
   "cell_type": "code",
   "execution_count": 252,
   "metadata": {},
   "outputs": [],
   "source": [
    "gs3 = GridSearchCV(estimator=xgb, param_grid=params_xg, cv=10, n_jobs=-1, verbose=3, scoring='recall')"
   ]
  },
  {
   "cell_type": "code",
   "execution_count": null,
   "metadata": {
    "scrolled": true
   },
   "outputs": [
    {
     "name": "stdout",
     "output_type": "stream",
     "text": [
      "Fitting 10 folds for each of 288 candidates, totalling 2880 fits\n"
     ]
    },
    {
     "name": "stderr",
     "output_type": "stream",
     "text": [
      "[Parallel(n_jobs=-1)]: Using backend LokyBackend with 12 concurrent workers.\n",
      "[Parallel(n_jobs=-1)]: Done   8 tasks      | elapsed:   10.1s\n",
      "[Parallel(n_jobs=-1)]: Done 104 tasks      | elapsed:  1.7min\n",
      "[Parallel(n_jobs=-1)]: Done 264 tasks      | elapsed:  6.4min\n",
      "[Parallel(n_jobs=-1)]: Done 488 tasks      | elapsed: 16.3min\n"
     ]
    }
   ],
   "source": [
    "gs3.fit(X_train_imp_sc, y_train)"
   ]
  },
  {
   "cell_type": "code",
   "execution_count": 248,
   "metadata": {},
   "outputs": [
    {
     "data": {
      "text/plain": [
       "0.765"
      ]
     },
     "execution_count": 248,
     "metadata": {},
     "output_type": "execute_result"
    }
   ],
   "source": [
    "gs3.best_score_"
   ]
  },
  {
   "cell_type": "code",
   "execution_count": 241,
   "metadata": {},
   "outputs": [],
   "source": [
    "y_preds_gs3 = gs3.predict(X_train_imp_sc)"
   ]
  },
  {
   "cell_type": "code",
   "execution_count": 242,
   "metadata": {},
   "outputs": [
    {
     "data": {
      "text/plain": [
       "0"
      ]
     },
     "execution_count": 242,
     "metadata": {},
     "output_type": "execute_result"
    }
   ],
   "source": [
    "cost_loss(y_train, y_preds_gs3)"
   ]
  },
  {
   "cell_type": "code",
   "execution_count": 243,
   "metadata": {},
   "outputs": [
    {
     "data": {
      "text/plain": [
       "<sklearn.metrics._plot.confusion_matrix.ConfusionMatrixDisplay at 0x2a993429610>"
      ]
     },
     "execution_count": 243,
     "metadata": {},
     "output_type": "execute_result"
    },
    {
     "data": {
      "image/png": "[encoded data removed]",
      "text/plain": [
       "<Figure size 432x288 with 2 Axes>"
      ]
     },
     "metadata": {
      "needs_background": "light"
     },
     "output_type": "display_data"
    }
   ],
   "source": [
    "plot_confusion_matrix(gs3, X_train_imp_sc, y_train)"
   ]
  },
  {
   "cell_type": "markdown",
   "metadata": {},
   "source": [
    "Our cross validation score in this instance in still significantly lower than previous cross validation scores."
   ]
  },
  {
   "cell_type": "markdown",
   "metadata": {},
   "source": [
    "## Evaluation"
   ]
  },
  {
   "cell_type": "markdown",
   "metadata": {},
   "source": [
    "It seems most of our cross validation scores pale in comparison to our original simple Logistic Regression and our Decision Tree with tuned Hyperparameters. Let's run our test data through these two models to see which achieves a better result."
   ]
  },
  {
   "cell_type": "markdown",
   "metadata": {},
   "source": [
    "## Logistic Regression with Testing data"
   ]
  },
  {
   "cell_type": "code",
   "execution_count": 343,
   "metadata": {
    "scrolled": true
   },
   "outputs": [
    {
     "data": {
      "text/plain": [
       "LogisticRegression(class_weight='balanced', max_iter=1000, random_state=2023)"
      ]
     },
     "execution_count": 343,
     "metadata": {},
     "output_type": "execute_result"
    }
   ],
   "source": [
    "logreg"
   ]
  },
  {
   "cell_type": "code",
   "execution_count": 344,
   "metadata": {},
   "outputs": [],
   "source": [
    "y_preds_logreg_test = logreg.predict(X_test_imp_sc)"
   ]
  },
  {
   "cell_type": "code",
   "execution_count": 347,
   "metadata": {},
   "outputs": [
    {
     "data": {
      "text/plain": [
       "0.959"
      ]
     },
     "execution_count": 347,
     "metadata": {},
     "output_type": "execute_result"
    }
   ],
   "source": [
    "recall_score(y_train, y_preds_logreg)"
   ]
  },
  {
   "cell_type": "code",
   "execution_count": 345,
   "metadata": {
    "scrolled": true
   },
   "outputs": [
    {
     "data": {
      "text/plain": [
       "0.9466666666666667"
      ]
     },
     "execution_count": 345,
     "metadata": {},
     "output_type": "execute_result"
    }
   ],
   "source": [
    "recall_score(y_test, y_preds_logreg_test)"
   ]
  },
  {
   "cell_type": "code",
   "execution_count": 346,
   "metadata": {
    "scrolled": true
   },
   "outputs": [
    {
     "data": {
      "text/plain": [
       "13950"
      ]
     },
     "execution_count": 346,
     "metadata": {},
     "output_type": "execute_result"
    }
   ],
   "source": [
    "cost_loss(y_test, y_preds_logreg_test)"
   ]
  },
  {
   "cell_type": "markdown",
   "metadata": {},
   "source": [
    "This is a fantastic result! It seems our Logistic Regression performs fantastically on unseen data, with a Recall Score of nearly 95%!"
   ]
  },
  {
   "cell_type": "code",
   "execution_count": 164,
   "metadata": {},
   "outputs": [
    {
     "data": {
      "image/png": "[encoded data removed]",
      "text/plain": [
       "<Figure size 432x288 with 2 Axes>"
      ]
     },
     "metadata": {
      "needs_background": "light"
     },
     "output_type": "display_data"
    }
   ],
   "source": [
    "plot_confusion_matrix(logreg, X_train_imp_sc, y_train);"
   ]
  },
  {
   "cell_type": "code",
   "execution_count": 348,
   "metadata": {},
   "outputs": [
    {
     "data": {
      "image/png": "[encoded data removed]",
      "text/plain": [
       "<Figure size 432x288 with 2 Axes>"
      ]
     },
     "metadata": {
      "needs_background": "light"
     },
     "output_type": "display_data"
    }
   ],
   "source": [
    "plot_confusion_matrix(logreg, X_test_imp_sc, y_test);"
   ]
  },
  {
   "cell_type": "markdown",
   "metadata": {},
   "source": [
    "Although our model is still slightly overfit, our testing recall is only slightly lower than our training."
   ]
  },
  {
   "cell_type": "code",
   "execution_count": 358,
   "metadata": {},
   "outputs": [
    {
     "data": {
      "text/plain": [
       "0.871875"
      ]
     },
     "execution_count": 358,
     "metadata": {},
     "output_type": "execute_result"
    }
   ],
   "source": [
    "cost_loss(y_test, y_preds_logreg_test) / len(y_test)"
   ]
  },
  {
   "cell_type": "markdown",
   "metadata": {},
   "source": [
    "Implementing this model will cost \\\\$0.87 per vehicle for diagnosis, versus \\\\$8.33 with our Dummy Model, for a 90% cost reduction!"
   ]
  },
  {
   "cell_type": "markdown",
   "metadata": {},
   "source": [
    "## Decision Tree with tuned hyperparameters"
   ]
  },
  {
   "cell_type": "code",
   "execution_count": 349,
   "metadata": {},
   "outputs": [
    {
     "data": {
      "text/plain": [
       "DecisionTreeClassifier(class_weight='balanced', max_depth=6, random_state=2023)"
      ]
     },
     "execution_count": 349,
     "metadata": {},
     "output_type": "execute_result"
    }
   ],
   "source": [
    "dt2"
   ]
  },
  {
   "cell_type": "code",
   "execution_count": 350,
   "metadata": {},
   "outputs": [],
   "source": [
    "y_preds_dt2_test = dt2.predict(X_test_imp_sc)"
   ]
  },
  {
   "cell_type": "code",
   "execution_count": 236,
   "metadata": {
    "scrolled": true
   },
   "outputs": [
    {
     "data": {
      "text/plain": [
       "0.983"
      ]
     },
     "execution_count": 236,
     "metadata": {},
     "output_type": "execute_result"
    }
   ],
   "source": [
    "recall_score(y_train, y_preds_dt2)"
   ]
  },
  {
   "cell_type": "code",
   "execution_count": 351,
   "metadata": {},
   "outputs": [
    {
     "data": {
      "text/plain": [
       "0.9173333333333333"
      ]
     },
     "execution_count": 351,
     "metadata": {},
     "output_type": "execute_result"
    }
   ],
   "source": [
    "recall_score(y_test, y_preds_dt2_test)"
   ]
  },
  {
   "cell_type": "code",
   "execution_count": 352,
   "metadata": {
    "scrolled": true
   },
   "outputs": [
    {
     "data": {
      "text/plain": [
       "21190"
      ]
     },
     "execution_count": 352,
     "metadata": {},
     "output_type": "execute_result"
    }
   ],
   "source": [
    "cost_loss(y_test, y_preds_dt2_test)"
   ]
  },
  {
   "cell_type": "code",
   "execution_count": 355,
   "metadata": {},
   "outputs": [
    {
     "data": {
      "image/png": "[encoded data removed]",
      "text/plain": [
       "<Figure size 432x288 with 2 Axes>"
      ]
     },
     "metadata": {
      "needs_background": "light"
     },
     "output_type": "display_data"
    }
   ],
   "source": [
    "plot_confusion_matrix(dt2, X_train_imp_sc, y_train);"
   ]
  },
  {
   "cell_type": "code",
   "execution_count": 354,
   "metadata": {
    "scrolled": true
   },
   "outputs": [
    {
     "data": {
      "image/png": "[encoded data removed]",
      "text/plain": [
       "<Figure size 432x288 with 2 Axes>"
      ]
     },
     "metadata": {
      "needs_background": "light"
     },
     "output_type": "display_data"
    }
   ],
   "source": [
    "plot_confusion_matrix(dt2, X_test_imp_sc, y_test);"
   ]
  },
  {
   "cell_type": "code",
   "execution_count": 357,
   "metadata": {},
   "outputs": [
    {
     "data": {
      "text/plain": [
       "1.324375"
      ]
     },
     "execution_count": 357,
     "metadata": {},
     "output_type": "execute_result"
    }
   ],
   "source": [
    "cost_loss(y_test, y_preds_dt2_test) / len(y_test)"
   ]
  },
  {
   "cell_type": "markdown",
   "metadata": {},
   "source": [
    "This Decision Tree does NOT perform as well as our Logistic Regression, therefore, our best and final model is actually the logreg which we started with!"
   ]
  },
  {
   "cell_type": "markdown",
   "metadata": {},
   "source": [
    "## Conclusion"
   ]
  },
  {
   "cell_type": "code",
   "execution_count": 367,
   "metadata": {},
   "outputs": [
    {
     "data": {
      "image/png": "[encoded data removed]",
      "text/plain": [
       "<Figure size 720x720 with 1 Axes>"
      ]
     },
     "metadata": {},
     "output_type": "display_data"
    }
   ],
   "source": [
    "fig, ax = plt.subplots(figsize=(10,10))\n",
    "sns.set_theme(style='darkgrid')\n",
    "x_values = ['Dummy Model', 'Decision Tree', 'Logistic Regression']\n",
    "y_values = [8.33, 1.32, 0.87]\n",
    "ax.set_xlabel('Model Types')\n",
    "ax.set_ylabel('Cost Per Vehicle')\n",
    "ax.set_title('Cost Per Vehicle for Models')\n",
    "plt.bar(x_values, y_values);"
   ]
  },
  {
   "cell_type": "markdown",
   "metadata": {},
   "source": [
    "Our Logistic Regression model is the best at classifying unseen data, and as a result is the one which should be used in production. This model will be capable of saving the company 90% on the cost of APS diagnosis."
   ]
  }
 ],
 "metadata": {
  "kernelspec": {
   "display_name": "Python 3",
   "language": "python",
   "name": "python3"
  },
  "language_info": {
   "codemirror_mode": {
    "name": "ipython",
    "version": 3
   },
   "file_extension": ".py",
   "mimetype": "text/x-python",
   "name": "python",
   "nbconvert_exporter": "python",
   "pygments_lexer": "ipython3",
   "version": "3.8.5"
  }
 },
 "nbformat": 4,
 "nbformat_minor": 4
}
